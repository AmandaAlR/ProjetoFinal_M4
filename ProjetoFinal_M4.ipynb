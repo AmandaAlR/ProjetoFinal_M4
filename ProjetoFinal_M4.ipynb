{
  "nbformat": 4,
  "nbformat_minor": 0,
  "metadata": {
    "colab": {
      "provenance": [],
      "collapsed_sections": [],
      "include_colab_link": true
    },
    "kernelspec": {
      "name": "python3",
      "display_name": "Python 3"
    },
    "language_info": {
      "name": "python"
    }
  },
  "cells": [
    {
      "cell_type": "markdown",
      "metadata": {
        "id": "view-in-github",
        "colab_type": "text"
      },
      "source": [
        "<a href=\"https://colab.research.google.com/github/amoralles/ProjetoFinal_M4/blob/main/ProjetoFinal_M4.ipynb\" target=\"_parent\"><img src=\"https://colab.research.google.com/assets/colab-badge.svg\" alt=\"Open In Colab\"/></a>"
      ]
    },
    {
      "cell_type": "markdown",
      "source": [
        "#<font color ='#DAA520'><b>Resilia - Data Analytics: Módulo 4 💻</b></font>"
      ],
      "metadata": {
        "id": "F4cmRWdKydal"
      }
    },
    {
      "cell_type": "markdown",
      "source": [
        "<font size='4'>Você e a sua equipe foram escalados pela <b>Agência Nacional de Petróleo e Gás Natural e Biocombustíveis (ANP)</b> para <b><font color = '#92D1C3'>realizar uma análise exploratória relacionada à série histórica de preço de venda da gasolina e do etanol.</b></font>\n",
        "\n",
        "Serão utilizados os arquivos dos dois últimos meses do ano atual contendo a série histórica dos preços da gasolina e do etanol em todo o Brasil que estão disponíveis no portal [dados.gov](https://dados.gov.br/dataset/serie-historica-de-precos-de-combustiveis-por-revenda). </font>"
      ],
      "metadata": {
        "id": "SifEroL2zIfN"
      }
    },
    {
      "cell_type": "markdown",
      "source": [
        "- <font size='3'>Inicialmente, realizamos a importação das seguintes bibliotecas: <b>pandas, numpy, datetime e seaborn.</b></font>"
      ],
      "metadata": {
        "id": "6qVwZU85y_Bc"
      }
    },
    {
      "cell_type": "code",
      "source": [
        "import pandas as pd\n",
        "import numpy as np\n",
        "from datetime import datetime\n",
        "import seaborn as sn\n",
        "import matplotlib.pyplot as plt"
      ],
      "metadata": {
        "id": "mpO6iS9aA2Gz"
      },
      "execution_count": 51,
      "outputs": []
    },
    {
      "cell_type": "markdown",
      "source": [
        "#<font color ='#DAA520'><b>Limpeza e Preparação dos Dados 🧹</b></font>"
      ],
      "metadata": {
        "id": "9erAkvY8DbV5"
      }
    },
    {
      "cell_type": "markdown",
      "source": [
        "Primeiro passo é a importação dos dados da base de dados do governo. Iremos utilizar os dados de Julho e Agosto para essa análise. Em seguida, podemos ver como estão organizado os dados em embos os arquivos. São semelhantes em colunas."
      ],
      "metadata": {
        "id": "-micjUh6SnoJ"
      }
    },
    {
      "cell_type": "code",
      "execution_count": null,
      "metadata": {
        "id": "ER7JJPunlBa1"
      },
      "outputs": [],
      "source": [
        "julho = pd.read_csv('https://www.gov.br/anp/pt-br/centrais-de-conteudo/dados-abertos/arquivos/shpc/dsan/2022/precos-gasolina-etanol-07.csv', delimiter=';')"
      ]
    },
    {
      "cell_type": "code",
      "source": [
        "agosto = pd.read_csv('https://www.gov.br/anp/pt-br/centrais-de-conteudo/dados-abertos/arquivos/shpc/dsan/2022/precos-gasolina-etanol-08.csv', delimiter=';')"
      ],
      "metadata": {
        "id": "0QV9mH5RjxYx"
      },
      "execution_count": null,
      "outputs": []
    },
    {
      "cell_type": "code",
      "source": [
        "dados_jul = pd.DataFrame(julho)\n",
        "dados_jul.head(2)"
      ],
      "metadata": {
        "colab": {
          "base_uri": "https://localhost:8080/",
          "height": 350
        },
        "id": "NyFHacjyAy6O",
        "outputId": "0d02988f-96a1-47d8-8632-e0b4bb61c535"
      },
      "execution_count": null,
      "outputs": [
        {
          "output_type": "execute_result",
          "data": {
            "text/plain": [
              "  Regiao - Sigla Estado - Sigla Municipio  \\\n",
              "0             SE             ES  COLATINA   \n",
              "1             SE             ES  COLATINA   \n",
              "\n",
              "                                             Revenda      CNPJ da Revenda  \\\n",
              "0  SAO FRANCISCO DE ASSIS COMERCIO DE COMBUSTIVEI...   08.519.545/0001-10   \n",
              "1  SAO FRANCISCO DE ASSIS COMERCIO DE COMBUSTIVEI...   08.519.545/0001-10   \n",
              "\n",
              "             Nome da Rua Numero Rua Complemento Bairro        Cep  \\\n",
              "0  PRACA FIDELIS FERRARI         35         NaN   LACE  29703-030   \n",
              "1  PRACA FIDELIS FERRARI         35         NaN   LACE  29703-030   \n",
              "\n",
              "              Produto Data da Coleta Valor de Venda  Valor de Compra  \\\n",
              "0  GASOLINA ADITIVADA     01/07/2022           7,48              NaN   \n",
              "1            GASOLINA     01/07/2022           7,38              NaN   \n",
              "\n",
              "  Unidade de Medida       Bandeira  \n",
              "0        R$ / litro  VIBRA ENERGIA  \n",
              "1        R$ / litro  VIBRA ENERGIA  "
            ],
            "text/html": [
              "\n",
              "  <div id=\"df-3c954343-7ffa-4a49-8586-41c8773042a9\">\n",
              "    <div class=\"colab-df-container\">\n",
              "      <div>\n",
              "<style scoped>\n",
              "    .dataframe tbody tr th:only-of-type {\n",
              "        vertical-align: middle;\n",
              "    }\n",
              "\n",
              "    .dataframe tbody tr th {\n",
              "        vertical-align: top;\n",
              "    }\n",
              "\n",
              "    .dataframe thead th {\n",
              "        text-align: right;\n",
              "    }\n",
              "</style>\n",
              "<table border=\"1\" class=\"dataframe\">\n",
              "  <thead>\n",
              "    <tr style=\"text-align: right;\">\n",
              "      <th></th>\n",
              "      <th>Regiao - Sigla</th>\n",
              "      <th>Estado - Sigla</th>\n",
              "      <th>Municipio</th>\n",
              "      <th>Revenda</th>\n",
              "      <th>CNPJ da Revenda</th>\n",
              "      <th>Nome da Rua</th>\n",
              "      <th>Numero Rua</th>\n",
              "      <th>Complemento</th>\n",
              "      <th>Bairro</th>\n",
              "      <th>Cep</th>\n",
              "      <th>Produto</th>\n",
              "      <th>Data da Coleta</th>\n",
              "      <th>Valor de Venda</th>\n",
              "      <th>Valor de Compra</th>\n",
              "      <th>Unidade de Medida</th>\n",
              "      <th>Bandeira</th>\n",
              "    </tr>\n",
              "  </thead>\n",
              "  <tbody>\n",
              "    <tr>\n",
              "      <th>0</th>\n",
              "      <td>SE</td>\n",
              "      <td>ES</td>\n",
              "      <td>COLATINA</td>\n",
              "      <td>SAO FRANCISCO DE ASSIS COMERCIO DE COMBUSTIVEI...</td>\n",
              "      <td>08.519.545/0001-10</td>\n",
              "      <td>PRACA FIDELIS FERRARI</td>\n",
              "      <td>35</td>\n",
              "      <td>NaN</td>\n",
              "      <td>LACE</td>\n",
              "      <td>29703-030</td>\n",
              "      <td>GASOLINA ADITIVADA</td>\n",
              "      <td>01/07/2022</td>\n",
              "      <td>7,48</td>\n",
              "      <td>NaN</td>\n",
              "      <td>R$ / litro</td>\n",
              "      <td>VIBRA ENERGIA</td>\n",
              "    </tr>\n",
              "    <tr>\n",
              "      <th>1</th>\n",
              "      <td>SE</td>\n",
              "      <td>ES</td>\n",
              "      <td>COLATINA</td>\n",
              "      <td>SAO FRANCISCO DE ASSIS COMERCIO DE COMBUSTIVEI...</td>\n",
              "      <td>08.519.545/0001-10</td>\n",
              "      <td>PRACA FIDELIS FERRARI</td>\n",
              "      <td>35</td>\n",
              "      <td>NaN</td>\n",
              "      <td>LACE</td>\n",
              "      <td>29703-030</td>\n",
              "      <td>GASOLINA</td>\n",
              "      <td>01/07/2022</td>\n",
              "      <td>7,38</td>\n",
              "      <td>NaN</td>\n",
              "      <td>R$ / litro</td>\n",
              "      <td>VIBRA ENERGIA</td>\n",
              "    </tr>\n",
              "  </tbody>\n",
              "</table>\n",
              "</div>\n",
              "      <button class=\"colab-df-convert\" onclick=\"convertToInteractive('df-3c954343-7ffa-4a49-8586-41c8773042a9')\"\n",
              "              title=\"Convert this dataframe to an interactive table.\"\n",
              "              style=\"display:none;\">\n",
              "        \n",
              "  <svg xmlns=\"http://www.w3.org/2000/svg\" height=\"24px\"viewBox=\"0 0 24 24\"\n",
              "       width=\"24px\">\n",
              "    <path d=\"M0 0h24v24H0V0z\" fill=\"none\"/>\n",
              "    <path d=\"M18.56 5.44l.94 2.06.94-2.06 2.06-.94-2.06-.94-.94-2.06-.94 2.06-2.06.94zm-11 1L8.5 8.5l.94-2.06 2.06-.94-2.06-.94L8.5 2.5l-.94 2.06-2.06.94zm10 10l.94 2.06.94-2.06 2.06-.94-2.06-.94-.94-2.06-.94 2.06-2.06.94z\"/><path d=\"M17.41 7.96l-1.37-1.37c-.4-.4-.92-.59-1.43-.59-.52 0-1.04.2-1.43.59L10.3 9.45l-7.72 7.72c-.78.78-.78 2.05 0 2.83L4 21.41c.39.39.9.59 1.41.59.51 0 1.02-.2 1.41-.59l7.78-7.78 2.81-2.81c.8-.78.8-2.07 0-2.86zM5.41 20L4 18.59l7.72-7.72 1.47 1.35L5.41 20z\"/>\n",
              "  </svg>\n",
              "      </button>\n",
              "      \n",
              "  <style>\n",
              "    .colab-df-container {\n",
              "      display:flex;\n",
              "      flex-wrap:wrap;\n",
              "      gap: 12px;\n",
              "    }\n",
              "\n",
              "    .colab-df-convert {\n",
              "      background-color: #E8F0FE;\n",
              "      border: none;\n",
              "      border-radius: 50%;\n",
              "      cursor: pointer;\n",
              "      display: none;\n",
              "      fill: #1967D2;\n",
              "      height: 32px;\n",
              "      padding: 0 0 0 0;\n",
              "      width: 32px;\n",
              "    }\n",
              "\n",
              "    .colab-df-convert:hover {\n",
              "      background-color: #E2EBFA;\n",
              "      box-shadow: 0px 1px 2px rgba(60, 64, 67, 0.3), 0px 1px 3px 1px rgba(60, 64, 67, 0.15);\n",
              "      fill: #174EA6;\n",
              "    }\n",
              "\n",
              "    [theme=dark] .colab-df-convert {\n",
              "      background-color: #3B4455;\n",
              "      fill: #D2E3FC;\n",
              "    }\n",
              "\n",
              "    [theme=dark] .colab-df-convert:hover {\n",
              "      background-color: #434B5C;\n",
              "      box-shadow: 0px 1px 3px 1px rgba(0, 0, 0, 0.15);\n",
              "      filter: drop-shadow(0px 1px 2px rgba(0, 0, 0, 0.3));\n",
              "      fill: #FFFFFF;\n",
              "    }\n",
              "  </style>\n",
              "\n",
              "      <script>\n",
              "        const buttonEl =\n",
              "          document.querySelector('#df-3c954343-7ffa-4a49-8586-41c8773042a9 button.colab-df-convert');\n",
              "        buttonEl.style.display =\n",
              "          google.colab.kernel.accessAllowed ? 'block' : 'none';\n",
              "\n",
              "        async function convertToInteractive(key) {\n",
              "          const element = document.querySelector('#df-3c954343-7ffa-4a49-8586-41c8773042a9');\n",
              "          const dataTable =\n",
              "            await google.colab.kernel.invokeFunction('convertToInteractive',\n",
              "                                                     [key], {});\n",
              "          if (!dataTable) return;\n",
              "\n",
              "          const docLinkHtml = 'Like what you see? Visit the ' +\n",
              "            '<a target=\"_blank\" href=https://colab.research.google.com/notebooks/data_table.ipynb>data table notebook</a>'\n",
              "            + ' to learn more about interactive tables.';\n",
              "          element.innerHTML = '';\n",
              "          dataTable['output_type'] = 'display_data';\n",
              "          await google.colab.output.renderOutput(dataTable, element);\n",
              "          const docLink = document.createElement('div');\n",
              "          docLink.innerHTML = docLinkHtml;\n",
              "          element.appendChild(docLink);\n",
              "        }\n",
              "      </script>\n",
              "    </div>\n",
              "  </div>\n",
              "  "
            ]
          },
          "metadata": {},
          "execution_count": 10
        }
      ]
    },
    {
      "cell_type": "code",
      "source": [
        "dados_ago = pd.DataFrame(agosto)\n",
        "dados_ago.head(2)"
      ],
      "metadata": {
        "colab": {
          "base_uri": "https://localhost:8080/",
          "height": 350
        },
        "id": "WkW1KO_OBi7T",
        "outputId": "5feef090-c0a7-485c-c356-7322fbbece87"
      },
      "execution_count": null,
      "outputs": [
        {
          "output_type": "execute_result",
          "data": {
            "text/plain": [
              "  Regiao - Sigla Estado - Sigla  Municipio                      Revenda  \\\n",
              "0             NE             AL  ARAPIRACA  AUTO POSTO M M GARROTE LTDA   \n",
              "1             NE             AL  ARAPIRACA  AUTO POSTO M M GARROTE LTDA   \n",
              "\n",
              "       CNPJ da Revenda     Nome da Rua Numero Rua Complemento       Bairro  \\\n",
              "0   08.738.994/0001-50  RODOVIA AL-220       5848    KM    96  BOM SUCESSO   \n",
              "1   08.738.994/0001-50  RODOVIA AL-220       5848    KM    96  BOM SUCESSO   \n",
              "\n",
              "         Cep   Produto Data da Coleta Valor de Venda  Valor de Compra  \\\n",
              "0  57309-035    ETANOL     01/08/2022           4,79              NaN   \n",
              "1  57309-035  GASOLINA     01/08/2022           5,59              NaN   \n",
              "\n",
              "  Unidade de Medida       Bandeira  \n",
              "0        R$ / litro  VIBRA ENERGIA  \n",
              "1        R$ / litro  VIBRA ENERGIA  "
            ],
            "text/html": [
              "\n",
              "  <div id=\"df-41a0e262-efd6-4fd8-9c21-d9d9cf616911\">\n",
              "    <div class=\"colab-df-container\">\n",
              "      <div>\n",
              "<style scoped>\n",
              "    .dataframe tbody tr th:only-of-type {\n",
              "        vertical-align: middle;\n",
              "    }\n",
              "\n",
              "    .dataframe tbody tr th {\n",
              "        vertical-align: top;\n",
              "    }\n",
              "\n",
              "    .dataframe thead th {\n",
              "        text-align: right;\n",
              "    }\n",
              "</style>\n",
              "<table border=\"1\" class=\"dataframe\">\n",
              "  <thead>\n",
              "    <tr style=\"text-align: right;\">\n",
              "      <th></th>\n",
              "      <th>Regiao - Sigla</th>\n",
              "      <th>Estado - Sigla</th>\n",
              "      <th>Municipio</th>\n",
              "      <th>Revenda</th>\n",
              "      <th>CNPJ da Revenda</th>\n",
              "      <th>Nome da Rua</th>\n",
              "      <th>Numero Rua</th>\n",
              "      <th>Complemento</th>\n",
              "      <th>Bairro</th>\n",
              "      <th>Cep</th>\n",
              "      <th>Produto</th>\n",
              "      <th>Data da Coleta</th>\n",
              "      <th>Valor de Venda</th>\n",
              "      <th>Valor de Compra</th>\n",
              "      <th>Unidade de Medida</th>\n",
              "      <th>Bandeira</th>\n",
              "    </tr>\n",
              "  </thead>\n",
              "  <tbody>\n",
              "    <tr>\n",
              "      <th>0</th>\n",
              "      <td>NE</td>\n",
              "      <td>AL</td>\n",
              "      <td>ARAPIRACA</td>\n",
              "      <td>AUTO POSTO M M GARROTE LTDA</td>\n",
              "      <td>08.738.994/0001-50</td>\n",
              "      <td>RODOVIA AL-220</td>\n",
              "      <td>5848</td>\n",
              "      <td>KM    96</td>\n",
              "      <td>BOM SUCESSO</td>\n",
              "      <td>57309-035</td>\n",
              "      <td>ETANOL</td>\n",
              "      <td>01/08/2022</td>\n",
              "      <td>4,79</td>\n",
              "      <td>NaN</td>\n",
              "      <td>R$ / litro</td>\n",
              "      <td>VIBRA ENERGIA</td>\n",
              "    </tr>\n",
              "    <tr>\n",
              "      <th>1</th>\n",
              "      <td>NE</td>\n",
              "      <td>AL</td>\n",
              "      <td>ARAPIRACA</td>\n",
              "      <td>AUTO POSTO M M GARROTE LTDA</td>\n",
              "      <td>08.738.994/0001-50</td>\n",
              "      <td>RODOVIA AL-220</td>\n",
              "      <td>5848</td>\n",
              "      <td>KM    96</td>\n",
              "      <td>BOM SUCESSO</td>\n",
              "      <td>57309-035</td>\n",
              "      <td>GASOLINA</td>\n",
              "      <td>01/08/2022</td>\n",
              "      <td>5,59</td>\n",
              "      <td>NaN</td>\n",
              "      <td>R$ / litro</td>\n",
              "      <td>VIBRA ENERGIA</td>\n",
              "    </tr>\n",
              "  </tbody>\n",
              "</table>\n",
              "</div>\n",
              "      <button class=\"colab-df-convert\" onclick=\"convertToInteractive('df-41a0e262-efd6-4fd8-9c21-d9d9cf616911')\"\n",
              "              title=\"Convert this dataframe to an interactive table.\"\n",
              "              style=\"display:none;\">\n",
              "        \n",
              "  <svg xmlns=\"http://www.w3.org/2000/svg\" height=\"24px\"viewBox=\"0 0 24 24\"\n",
              "       width=\"24px\">\n",
              "    <path d=\"M0 0h24v24H0V0z\" fill=\"none\"/>\n",
              "    <path d=\"M18.56 5.44l.94 2.06.94-2.06 2.06-.94-2.06-.94-.94-2.06-.94 2.06-2.06.94zm-11 1L8.5 8.5l.94-2.06 2.06-.94-2.06-.94L8.5 2.5l-.94 2.06-2.06.94zm10 10l.94 2.06.94-2.06 2.06-.94-2.06-.94-.94-2.06-.94 2.06-2.06.94z\"/><path d=\"M17.41 7.96l-1.37-1.37c-.4-.4-.92-.59-1.43-.59-.52 0-1.04.2-1.43.59L10.3 9.45l-7.72 7.72c-.78.78-.78 2.05 0 2.83L4 21.41c.39.39.9.59 1.41.59.51 0 1.02-.2 1.41-.59l7.78-7.78 2.81-2.81c.8-.78.8-2.07 0-2.86zM5.41 20L4 18.59l7.72-7.72 1.47 1.35L5.41 20z\"/>\n",
              "  </svg>\n",
              "      </button>\n",
              "      \n",
              "  <style>\n",
              "    .colab-df-container {\n",
              "      display:flex;\n",
              "      flex-wrap:wrap;\n",
              "      gap: 12px;\n",
              "    }\n",
              "\n",
              "    .colab-df-convert {\n",
              "      background-color: #E8F0FE;\n",
              "      border: none;\n",
              "      border-radius: 50%;\n",
              "      cursor: pointer;\n",
              "      display: none;\n",
              "      fill: #1967D2;\n",
              "      height: 32px;\n",
              "      padding: 0 0 0 0;\n",
              "      width: 32px;\n",
              "    }\n",
              "\n",
              "    .colab-df-convert:hover {\n",
              "      background-color: #E2EBFA;\n",
              "      box-shadow: 0px 1px 2px rgba(60, 64, 67, 0.3), 0px 1px 3px 1px rgba(60, 64, 67, 0.15);\n",
              "      fill: #174EA6;\n",
              "    }\n",
              "\n",
              "    [theme=dark] .colab-df-convert {\n",
              "      background-color: #3B4455;\n",
              "      fill: #D2E3FC;\n",
              "    }\n",
              "\n",
              "    [theme=dark] .colab-df-convert:hover {\n",
              "      background-color: #434B5C;\n",
              "      box-shadow: 0px 1px 3px 1px rgba(0, 0, 0, 0.15);\n",
              "      filter: drop-shadow(0px 1px 2px rgba(0, 0, 0, 0.3));\n",
              "      fill: #FFFFFF;\n",
              "    }\n",
              "  </style>\n",
              "\n",
              "      <script>\n",
              "        const buttonEl =\n",
              "          document.querySelector('#df-41a0e262-efd6-4fd8-9c21-d9d9cf616911 button.colab-df-convert');\n",
              "        buttonEl.style.display =\n",
              "          google.colab.kernel.accessAllowed ? 'block' : 'none';\n",
              "\n",
              "        async function convertToInteractive(key) {\n",
              "          const element = document.querySelector('#df-41a0e262-efd6-4fd8-9c21-d9d9cf616911');\n",
              "          const dataTable =\n",
              "            await google.colab.kernel.invokeFunction('convertToInteractive',\n",
              "                                                     [key], {});\n",
              "          if (!dataTable) return;\n",
              "\n",
              "          const docLinkHtml = 'Like what you see? Visit the ' +\n",
              "            '<a target=\"_blank\" href=https://colab.research.google.com/notebooks/data_table.ipynb>data table notebook</a>'\n",
              "            + ' to learn more about interactive tables.';\n",
              "          element.innerHTML = '';\n",
              "          dataTable['output_type'] = 'display_data';\n",
              "          await google.colab.output.renderOutput(dataTable, element);\n",
              "          const docLink = document.createElement('div');\n",
              "          docLink.innerHTML = docLinkHtml;\n",
              "          element.appendChild(docLink);\n",
              "        }\n",
              "      </script>\n",
              "    </div>\n",
              "  </div>\n",
              "  "
            ]
          },
          "metadata": {},
          "execution_count": 11
        }
      ]
    },
    {
      "cell_type": "markdown",
      "source": [
        "Sendo assim, podemos concatenar os dados e uni-los em um único *DataFrame*, ja que são compostos pelas mesmas colunas. "
      ],
      "metadata": {
        "id": "saE7J1qZTYNv"
      }
    },
    {
      "cell_type": "code",
      "source": [
        "conj_dados = pd.concat([dados_jul, dados_ago], ignore_index = True)\n",
        "conj_dados.head(1)"
      ],
      "metadata": {
        "colab": {
          "base_uri": "https://localhost:8080/",
          "height": 249
        },
        "id": "SwcH88qGB74r",
        "outputId": "2734ad86-bd2b-4e7a-8b66-50be499fbc58"
      },
      "execution_count": null,
      "outputs": [
        {
          "output_type": "execute_result",
          "data": {
            "text/plain": [
              "  Regiao - Sigla Estado - Sigla Municipio  \\\n",
              "0             SE             ES  COLATINA   \n",
              "\n",
              "                                             Revenda      CNPJ da Revenda  \\\n",
              "0  SAO FRANCISCO DE ASSIS COMERCIO DE COMBUSTIVEI...   08.519.545/0001-10   \n",
              "\n",
              "             Nome da Rua Numero Rua Complemento Bairro        Cep  \\\n",
              "0  PRACA FIDELIS FERRARI         35         NaN   LACE  29703-030   \n",
              "\n",
              "              Produto Data da Coleta Valor de Venda  Valor de Compra  \\\n",
              "0  GASOLINA ADITIVADA     01/07/2022           7,48              NaN   \n",
              "\n",
              "  Unidade de Medida       Bandeira  \n",
              "0        R$ / litro  VIBRA ENERGIA  "
            ],
            "text/html": [
              "\n",
              "  <div id=\"df-717684b2-bc00-4c3d-ac81-8efb91f5f6d4\">\n",
              "    <div class=\"colab-df-container\">\n",
              "      <div>\n",
              "<style scoped>\n",
              "    .dataframe tbody tr th:only-of-type {\n",
              "        vertical-align: middle;\n",
              "    }\n",
              "\n",
              "    .dataframe tbody tr th {\n",
              "        vertical-align: top;\n",
              "    }\n",
              "\n",
              "    .dataframe thead th {\n",
              "        text-align: right;\n",
              "    }\n",
              "</style>\n",
              "<table border=\"1\" class=\"dataframe\">\n",
              "  <thead>\n",
              "    <tr style=\"text-align: right;\">\n",
              "      <th></th>\n",
              "      <th>Regiao - Sigla</th>\n",
              "      <th>Estado - Sigla</th>\n",
              "      <th>Municipio</th>\n",
              "      <th>Revenda</th>\n",
              "      <th>CNPJ da Revenda</th>\n",
              "      <th>Nome da Rua</th>\n",
              "      <th>Numero Rua</th>\n",
              "      <th>Complemento</th>\n",
              "      <th>Bairro</th>\n",
              "      <th>Cep</th>\n",
              "      <th>Produto</th>\n",
              "      <th>Data da Coleta</th>\n",
              "      <th>Valor de Venda</th>\n",
              "      <th>Valor de Compra</th>\n",
              "      <th>Unidade de Medida</th>\n",
              "      <th>Bandeira</th>\n",
              "    </tr>\n",
              "  </thead>\n",
              "  <tbody>\n",
              "    <tr>\n",
              "      <th>0</th>\n",
              "      <td>SE</td>\n",
              "      <td>ES</td>\n",
              "      <td>COLATINA</td>\n",
              "      <td>SAO FRANCISCO DE ASSIS COMERCIO DE COMBUSTIVEI...</td>\n",
              "      <td>08.519.545/0001-10</td>\n",
              "      <td>PRACA FIDELIS FERRARI</td>\n",
              "      <td>35</td>\n",
              "      <td>NaN</td>\n",
              "      <td>LACE</td>\n",
              "      <td>29703-030</td>\n",
              "      <td>GASOLINA ADITIVADA</td>\n",
              "      <td>01/07/2022</td>\n",
              "      <td>7,48</td>\n",
              "      <td>NaN</td>\n",
              "      <td>R$ / litro</td>\n",
              "      <td>VIBRA ENERGIA</td>\n",
              "    </tr>\n",
              "  </tbody>\n",
              "</table>\n",
              "</div>\n",
              "      <button class=\"colab-df-convert\" onclick=\"convertToInteractive('df-717684b2-bc00-4c3d-ac81-8efb91f5f6d4')\"\n",
              "              title=\"Convert this dataframe to an interactive table.\"\n",
              "              style=\"display:none;\">\n",
              "        \n",
              "  <svg xmlns=\"http://www.w3.org/2000/svg\" height=\"24px\"viewBox=\"0 0 24 24\"\n",
              "       width=\"24px\">\n",
              "    <path d=\"M0 0h24v24H0V0z\" fill=\"none\"/>\n",
              "    <path d=\"M18.56 5.44l.94 2.06.94-2.06 2.06-.94-2.06-.94-.94-2.06-.94 2.06-2.06.94zm-11 1L8.5 8.5l.94-2.06 2.06-.94-2.06-.94L8.5 2.5l-.94 2.06-2.06.94zm10 10l.94 2.06.94-2.06 2.06-.94-2.06-.94-.94-2.06-.94 2.06-2.06.94z\"/><path d=\"M17.41 7.96l-1.37-1.37c-.4-.4-.92-.59-1.43-.59-.52 0-1.04.2-1.43.59L10.3 9.45l-7.72 7.72c-.78.78-.78 2.05 0 2.83L4 21.41c.39.39.9.59 1.41.59.51 0 1.02-.2 1.41-.59l7.78-7.78 2.81-2.81c.8-.78.8-2.07 0-2.86zM5.41 20L4 18.59l7.72-7.72 1.47 1.35L5.41 20z\"/>\n",
              "  </svg>\n",
              "      </button>\n",
              "      \n",
              "  <style>\n",
              "    .colab-df-container {\n",
              "      display:flex;\n",
              "      flex-wrap:wrap;\n",
              "      gap: 12px;\n",
              "    }\n",
              "\n",
              "    .colab-df-convert {\n",
              "      background-color: #E8F0FE;\n",
              "      border: none;\n",
              "      border-radius: 50%;\n",
              "      cursor: pointer;\n",
              "      display: none;\n",
              "      fill: #1967D2;\n",
              "      height: 32px;\n",
              "      padding: 0 0 0 0;\n",
              "      width: 32px;\n",
              "    }\n",
              "\n",
              "    .colab-df-convert:hover {\n",
              "      background-color: #E2EBFA;\n",
              "      box-shadow: 0px 1px 2px rgba(60, 64, 67, 0.3), 0px 1px 3px 1px rgba(60, 64, 67, 0.15);\n",
              "      fill: #174EA6;\n",
              "    }\n",
              "\n",
              "    [theme=dark] .colab-df-convert {\n",
              "      background-color: #3B4455;\n",
              "      fill: #D2E3FC;\n",
              "    }\n",
              "\n",
              "    [theme=dark] .colab-df-convert:hover {\n",
              "      background-color: #434B5C;\n",
              "      box-shadow: 0px 1px 3px 1px rgba(0, 0, 0, 0.15);\n",
              "      filter: drop-shadow(0px 1px 2px rgba(0, 0, 0, 0.3));\n",
              "      fill: #FFFFFF;\n",
              "    }\n",
              "  </style>\n",
              "\n",
              "      <script>\n",
              "        const buttonEl =\n",
              "          document.querySelector('#df-717684b2-bc00-4c3d-ac81-8efb91f5f6d4 button.colab-df-convert');\n",
              "        buttonEl.style.display =\n",
              "          google.colab.kernel.accessAllowed ? 'block' : 'none';\n",
              "\n",
              "        async function convertToInteractive(key) {\n",
              "          const element = document.querySelector('#df-717684b2-bc00-4c3d-ac81-8efb91f5f6d4');\n",
              "          const dataTable =\n",
              "            await google.colab.kernel.invokeFunction('convertToInteractive',\n",
              "                                                     [key], {});\n",
              "          if (!dataTable) return;\n",
              "\n",
              "          const docLinkHtml = 'Like what you see? Visit the ' +\n",
              "            '<a target=\"_blank\" href=https://colab.research.google.com/notebooks/data_table.ipynb>data table notebook</a>'\n",
              "            + ' to learn more about interactive tables.';\n",
              "          element.innerHTML = '';\n",
              "          dataTable['output_type'] = 'display_data';\n",
              "          await google.colab.output.renderOutput(dataTable, element);\n",
              "          const docLink = document.createElement('div');\n",
              "          docLink.innerHTML = docLinkHtml;\n",
              "          element.appendChild(docLink);\n",
              "        }\n",
              "      </script>\n",
              "    </div>\n",
              "  </div>\n",
              "  "
            ]
          },
          "metadata": {},
          "execution_count": 12
        }
      ]
    },
    {
      "cell_type": "code",
      "source": [
        "dados_jul.shape"
      ],
      "metadata": {
        "colab": {
          "base_uri": "https://localhost:8080/"
        },
        "id": "yUqzRHRAVZVU",
        "outputId": "ab48cc1f-0786-4c6b-ddb8-ad909c203b67"
      },
      "execution_count": null,
      "outputs": [
        {
          "output_type": "execute_result",
          "data": {
            "text/plain": [
              "(57632, 16)"
            ]
          },
          "metadata": {},
          "execution_count": 27
        }
      ]
    },
    {
      "cell_type": "code",
      "source": [
        "dados_ago.shape"
      ],
      "metadata": {
        "colab": {
          "base_uri": "https://localhost:8080/"
        },
        "id": "r8X8jxddVdEm",
        "outputId": "d7155698-dabf-4ff0-ce18-f9b7b16e8592"
      },
      "execution_count": null,
      "outputs": [
        {
          "output_type": "execute_result",
          "data": {
            "text/plain": [
              "(69544, 16)"
            ]
          },
          "metadata": {},
          "execution_count": 26
        }
      ]
    },
    {
      "cell_type": "code",
      "source": [
        "conj_dados.shape"
      ],
      "metadata": {
        "colab": {
          "base_uri": "https://localhost:8080/"
        },
        "id": "E653oVrxVf85",
        "outputId": "233479af-4f15-4e62-de44-f7e3ec8e588b"
      },
      "execution_count": null,
      "outputs": [
        {
          "output_type": "execute_result",
          "data": {
            "text/plain": [
              "(127176, 14)"
            ]
          },
          "metadata": {},
          "execution_count": 25
        }
      ]
    },
    {
      "cell_type": "markdown",
      "source": [
        "Podemos notar a cima que os dados foram corretamente concatenados (a quantidade de linhas de *conj_dados* é igual à soma das linhas de cada *DataFrame* individual) e as colunas devidamente excluídas. "
      ],
      "metadata": {
        "id": "6Em0dQuGVjeE"
      }
    },
    {
      "cell_type": "markdown",
      "source": [
        "Em seguida, avaliamos a quantidade de dados nulos em casa coluna. É possível observar que há uma coluna 100% em branco ('Valor de Compra'). Complemento é uma coluna que também há muitos dados faltantes. "
      ],
      "metadata": {
        "id": "7FvzfM2QTjj0"
      }
    },
    {
      "cell_type": "code",
      "source": [
        "(conj_dados.isnull().mean() * 100).sort_values(ascending=False)"
      ],
      "metadata": {
        "colab": {
          "base_uri": "https://localhost:8080/"
        },
        "id": "DAIo3AkMCNsJ",
        "outputId": "8a216922-de4e-4968-89e7-e48842814d73"
      },
      "execution_count": null,
      "outputs": [
        {
          "output_type": "execute_result",
          "data": {
            "text/plain": [
              "Bairro               0.323960\n",
              "Numero Rua           0.055828\n",
              "Regiao - Sigla       0.000000\n",
              "Estado - Sigla       0.000000\n",
              "Municipio            0.000000\n",
              "Revenda              0.000000\n",
              "CNPJ da Revenda      0.000000\n",
              "Nome da Rua          0.000000\n",
              "Cep                  0.000000\n",
              "Produto              0.000000\n",
              "Data da Coleta       0.000000\n",
              "Valor de Venda       0.000000\n",
              "Unidade de Medida    0.000000\n",
              "Bandeira             0.000000\n",
              "dtype: float64"
            ]
          },
          "metadata": {},
          "execution_count": 24
        }
      ]
    },
    {
      "cell_type": "markdown",
      "source": [
        "Podemos então excluir essas colunas, uma vez que elas não serão relevantes para as análises que iremos realizar. "
      ],
      "metadata": {
        "id": "gPFt4243DkNb"
      }
    },
    {
      "cell_type": "code",
      "source": [
        "conj_dados = conj_dados.drop(['Valor de Compra'], axis=1)\n",
        "conj_dados = conj_dados.drop(['Complemento'], axis=1)\n",
        "conj_dados.head(2)"
      ],
      "metadata": {
        "colab": {
          "base_uri": "https://localhost:8080/",
          "height": 350
        },
        "id": "Kjg6Jkt4CthJ",
        "outputId": "dd69c091-ccb8-4a22-95e8-b0588ca64d2d"
      },
      "execution_count": null,
      "outputs": [
        {
          "output_type": "execute_result",
          "data": {
            "text/plain": [
              "  Regiao - Sigla Estado - Sigla Municipio  \\\n",
              "0             SE             ES  COLATINA   \n",
              "1             SE             ES  COLATINA   \n",
              "\n",
              "                                             Revenda      CNPJ da Revenda  \\\n",
              "0  SAO FRANCISCO DE ASSIS COMERCIO DE COMBUSTIVEI...   08.519.545/0001-10   \n",
              "1  SAO FRANCISCO DE ASSIS COMERCIO DE COMBUSTIVEI...   08.519.545/0001-10   \n",
              "\n",
              "             Nome da Rua Numero Rua Bairro        Cep             Produto  \\\n",
              "0  PRACA FIDELIS FERRARI         35   LACE  29703-030  GASOLINA ADITIVADA   \n",
              "1  PRACA FIDELIS FERRARI         35   LACE  29703-030            GASOLINA   \n",
              "\n",
              "  Data da Coleta  Valor de Venda Unidade de Medida       Bandeira  \n",
              "0     2022-07-01            7.48        R$ / litro  VIBRA ENERGIA  \n",
              "1     2022-07-01            7.38        R$ / litro  VIBRA ENERGIA  "
            ],
            "text/html": [
              "\n",
              "  <div id=\"df-8e4bd318-5ff9-4da7-8a71-0e5ade910984\">\n",
              "    <div class=\"colab-df-container\">\n",
              "      <div>\n",
              "<style scoped>\n",
              "    .dataframe tbody tr th:only-of-type {\n",
              "        vertical-align: middle;\n",
              "    }\n",
              "\n",
              "    .dataframe tbody tr th {\n",
              "        vertical-align: top;\n",
              "    }\n",
              "\n",
              "    .dataframe thead th {\n",
              "        text-align: right;\n",
              "    }\n",
              "</style>\n",
              "<table border=\"1\" class=\"dataframe\">\n",
              "  <thead>\n",
              "    <tr style=\"text-align: right;\">\n",
              "      <th></th>\n",
              "      <th>Regiao - Sigla</th>\n",
              "      <th>Estado - Sigla</th>\n",
              "      <th>Municipio</th>\n",
              "      <th>Revenda</th>\n",
              "      <th>CNPJ da Revenda</th>\n",
              "      <th>Nome da Rua</th>\n",
              "      <th>Numero Rua</th>\n",
              "      <th>Bairro</th>\n",
              "      <th>Cep</th>\n",
              "      <th>Produto</th>\n",
              "      <th>Data da Coleta</th>\n",
              "      <th>Valor de Venda</th>\n",
              "      <th>Unidade de Medida</th>\n",
              "      <th>Bandeira</th>\n",
              "    </tr>\n",
              "  </thead>\n",
              "  <tbody>\n",
              "    <tr>\n",
              "      <th>0</th>\n",
              "      <td>SE</td>\n",
              "      <td>ES</td>\n",
              "      <td>COLATINA</td>\n",
              "      <td>SAO FRANCISCO DE ASSIS COMERCIO DE COMBUSTIVEI...</td>\n",
              "      <td>08.519.545/0001-10</td>\n",
              "      <td>PRACA FIDELIS FERRARI</td>\n",
              "      <td>35</td>\n",
              "      <td>LACE</td>\n",
              "      <td>29703-030</td>\n",
              "      <td>GASOLINA ADITIVADA</td>\n",
              "      <td>2022-07-01</td>\n",
              "      <td>7.48</td>\n",
              "      <td>R$ / litro</td>\n",
              "      <td>VIBRA ENERGIA</td>\n",
              "    </tr>\n",
              "    <tr>\n",
              "      <th>1</th>\n",
              "      <td>SE</td>\n",
              "      <td>ES</td>\n",
              "      <td>COLATINA</td>\n",
              "      <td>SAO FRANCISCO DE ASSIS COMERCIO DE COMBUSTIVEI...</td>\n",
              "      <td>08.519.545/0001-10</td>\n",
              "      <td>PRACA FIDELIS FERRARI</td>\n",
              "      <td>35</td>\n",
              "      <td>LACE</td>\n",
              "      <td>29703-030</td>\n",
              "      <td>GASOLINA</td>\n",
              "      <td>2022-07-01</td>\n",
              "      <td>7.38</td>\n",
              "      <td>R$ / litro</td>\n",
              "      <td>VIBRA ENERGIA</td>\n",
              "    </tr>\n",
              "  </tbody>\n",
              "</table>\n",
              "</div>\n",
              "      <button class=\"colab-df-convert\" onclick=\"convertToInteractive('df-8e4bd318-5ff9-4da7-8a71-0e5ade910984')\"\n",
              "              title=\"Convert this dataframe to an interactive table.\"\n",
              "              style=\"display:none;\">\n",
              "        \n",
              "  <svg xmlns=\"http://www.w3.org/2000/svg\" height=\"24px\"viewBox=\"0 0 24 24\"\n",
              "       width=\"24px\">\n",
              "    <path d=\"M0 0h24v24H0V0z\" fill=\"none\"/>\n",
              "    <path d=\"M18.56 5.44l.94 2.06.94-2.06 2.06-.94-2.06-.94-.94-2.06-.94 2.06-2.06.94zm-11 1L8.5 8.5l.94-2.06 2.06-.94-2.06-.94L8.5 2.5l-.94 2.06-2.06.94zm10 10l.94 2.06.94-2.06 2.06-.94-2.06-.94-.94-2.06-.94 2.06-2.06.94z\"/><path d=\"M17.41 7.96l-1.37-1.37c-.4-.4-.92-.59-1.43-.59-.52 0-1.04.2-1.43.59L10.3 9.45l-7.72 7.72c-.78.78-.78 2.05 0 2.83L4 21.41c.39.39.9.59 1.41.59.51 0 1.02-.2 1.41-.59l7.78-7.78 2.81-2.81c.8-.78.8-2.07 0-2.86zM5.41 20L4 18.59l7.72-7.72 1.47 1.35L5.41 20z\"/>\n",
              "  </svg>\n",
              "      </button>\n",
              "      \n",
              "  <style>\n",
              "    .colab-df-container {\n",
              "      display:flex;\n",
              "      flex-wrap:wrap;\n",
              "      gap: 12px;\n",
              "    }\n",
              "\n",
              "    .colab-df-convert {\n",
              "      background-color: #E8F0FE;\n",
              "      border: none;\n",
              "      border-radius: 50%;\n",
              "      cursor: pointer;\n",
              "      display: none;\n",
              "      fill: #1967D2;\n",
              "      height: 32px;\n",
              "      padding: 0 0 0 0;\n",
              "      width: 32px;\n",
              "    }\n",
              "\n",
              "    .colab-df-convert:hover {\n",
              "      background-color: #E2EBFA;\n",
              "      box-shadow: 0px 1px 2px rgba(60, 64, 67, 0.3), 0px 1px 3px 1px rgba(60, 64, 67, 0.15);\n",
              "      fill: #174EA6;\n",
              "    }\n",
              "\n",
              "    [theme=dark] .colab-df-convert {\n",
              "      background-color: #3B4455;\n",
              "      fill: #D2E3FC;\n",
              "    }\n",
              "\n",
              "    [theme=dark] .colab-df-convert:hover {\n",
              "      background-color: #434B5C;\n",
              "      box-shadow: 0px 1px 3px 1px rgba(0, 0, 0, 0.15);\n",
              "      filter: drop-shadow(0px 1px 2px rgba(0, 0, 0, 0.3));\n",
              "      fill: #FFFFFF;\n",
              "    }\n",
              "  </style>\n",
              "\n",
              "      <script>\n",
              "        const buttonEl =\n",
              "          document.querySelector('#df-8e4bd318-5ff9-4da7-8a71-0e5ade910984 button.colab-df-convert');\n",
              "        buttonEl.style.display =\n",
              "          google.colab.kernel.accessAllowed ? 'block' : 'none';\n",
              "\n",
              "        async function convertToInteractive(key) {\n",
              "          const element = document.querySelector('#df-8e4bd318-5ff9-4da7-8a71-0e5ade910984');\n",
              "          const dataTable =\n",
              "            await google.colab.kernel.invokeFunction('convertToInteractive',\n",
              "                                                     [key], {});\n",
              "          if (!dataTable) return;\n",
              "\n",
              "          const docLinkHtml = 'Like what you see? Visit the ' +\n",
              "            '<a target=\"_blank\" href=https://colab.research.google.com/notebooks/data_table.ipynb>data table notebook</a>'\n",
              "            + ' to learn more about interactive tables.';\n",
              "          element.innerHTML = '';\n",
              "          dataTable['output_type'] = 'display_data';\n",
              "          await google.colab.output.renderOutput(dataTable, element);\n",
              "          const docLink = document.createElement('div');\n",
              "          docLink.innerHTML = docLinkHtml;\n",
              "          element.appendChild(docLink);\n",
              "        }\n",
              "      </script>\n",
              "    </div>\n",
              "  </div>\n",
              "  "
            ]
          },
          "metadata": {},
          "execution_count": 23
        }
      ]
    },
    {
      "cell_type": "markdown",
      "source": [
        "É possível observar também que na coluna de 'Valor de Venda' os valores estão com os decimais divididos por vírgula, e que são do tipo *string*. Sendo assim, é necessário transformar a vírgula em ponto e o tipo do dado em número para podermos realizar as operações. Pra isso, usaremos uma função que substitua vírgula por ponto e faça um *casting* do dado que o transforma de *string*, sua forma original, em *float*."
      ],
      "metadata": {
        "id": "R_msdUPmUSQj"
      }
    },
    {
      "cell_type": "code",
      "source": [
        "type(conj_dados['Valor de Venda'][0])"
      ],
      "metadata": {
        "colab": {
          "base_uri": "https://localhost:8080/"
        },
        "id": "5m12zhPqW_Kv",
        "outputId": "6bcb9e4e-01d0-4174-a63f-85b962550660"
      },
      "execution_count": null,
      "outputs": [
        {
          "output_type": "execute_result",
          "data": {
            "text/plain": [
              "numpy.float64"
            ]
          },
          "metadata": {},
          "execution_count": 22
        }
      ]
    },
    {
      "cell_type": "code",
      "source": [
        "conj_dados['Valor de Venda'] = conj_dados['Valor de Venda'].apply(lambda y: float(str(y.replace(',','.'))))\n",
        "conj_dados.head(2)"
      ],
      "metadata": {
        "colab": {
          "base_uri": "https://localhost:8080/",
          "height": 350
        },
        "id": "u4H8Fr_QCbsx",
        "outputId": "02c11766-3a20-4687-f245-7c0c1fa66746"
      },
      "execution_count": null,
      "outputs": [
        {
          "output_type": "execute_result",
          "data": {
            "text/plain": [
              "  Regiao - Sigla Estado - Sigla Municipio  \\\n",
              "0             SE             ES  COLATINA   \n",
              "1             SE             ES  COLATINA   \n",
              "\n",
              "                                             Revenda      CNPJ da Revenda  \\\n",
              "0  SAO FRANCISCO DE ASSIS COMERCIO DE COMBUSTIVEI...   08.519.545/0001-10   \n",
              "1  SAO FRANCISCO DE ASSIS COMERCIO DE COMBUSTIVEI...   08.519.545/0001-10   \n",
              "\n",
              "             Nome da Rua Numero Rua Complemento Bairro        Cep  \\\n",
              "0  PRACA FIDELIS FERRARI         35         NaN   LACE  29703-030   \n",
              "1  PRACA FIDELIS FERRARI         35         NaN   LACE  29703-030   \n",
              "\n",
              "              Produto Data da Coleta  Valor de Venda  Valor de Compra  \\\n",
              "0  GASOLINA ADITIVADA     2022-07-01            7.48              NaN   \n",
              "1            GASOLINA     2022-07-01            7.38              NaN   \n",
              "\n",
              "  Unidade de Medida       Bandeira  \n",
              "0        R$ / litro  VIBRA ENERGIA  \n",
              "1        R$ / litro  VIBRA ENERGIA  "
            ],
            "text/html": [
              "\n",
              "  <div id=\"df-134de376-3554-46f5-a64e-eb3d11ac77f7\">\n",
              "    <div class=\"colab-df-container\">\n",
              "      <div>\n",
              "<style scoped>\n",
              "    .dataframe tbody tr th:only-of-type {\n",
              "        vertical-align: middle;\n",
              "    }\n",
              "\n",
              "    .dataframe tbody tr th {\n",
              "        vertical-align: top;\n",
              "    }\n",
              "\n",
              "    .dataframe thead th {\n",
              "        text-align: right;\n",
              "    }\n",
              "</style>\n",
              "<table border=\"1\" class=\"dataframe\">\n",
              "  <thead>\n",
              "    <tr style=\"text-align: right;\">\n",
              "      <th></th>\n",
              "      <th>Regiao - Sigla</th>\n",
              "      <th>Estado - Sigla</th>\n",
              "      <th>Municipio</th>\n",
              "      <th>Revenda</th>\n",
              "      <th>CNPJ da Revenda</th>\n",
              "      <th>Nome da Rua</th>\n",
              "      <th>Numero Rua</th>\n",
              "      <th>Complemento</th>\n",
              "      <th>Bairro</th>\n",
              "      <th>Cep</th>\n",
              "      <th>Produto</th>\n",
              "      <th>Data da Coleta</th>\n",
              "      <th>Valor de Venda</th>\n",
              "      <th>Valor de Compra</th>\n",
              "      <th>Unidade de Medida</th>\n",
              "      <th>Bandeira</th>\n",
              "    </tr>\n",
              "  </thead>\n",
              "  <tbody>\n",
              "    <tr>\n",
              "      <th>0</th>\n",
              "      <td>SE</td>\n",
              "      <td>ES</td>\n",
              "      <td>COLATINA</td>\n",
              "      <td>SAO FRANCISCO DE ASSIS COMERCIO DE COMBUSTIVEI...</td>\n",
              "      <td>08.519.545/0001-10</td>\n",
              "      <td>PRACA FIDELIS FERRARI</td>\n",
              "      <td>35</td>\n",
              "      <td>NaN</td>\n",
              "      <td>LACE</td>\n",
              "      <td>29703-030</td>\n",
              "      <td>GASOLINA ADITIVADA</td>\n",
              "      <td>2022-07-01</td>\n",
              "      <td>7.48</td>\n",
              "      <td>NaN</td>\n",
              "      <td>R$ / litro</td>\n",
              "      <td>VIBRA ENERGIA</td>\n",
              "    </tr>\n",
              "    <tr>\n",
              "      <th>1</th>\n",
              "      <td>SE</td>\n",
              "      <td>ES</td>\n",
              "      <td>COLATINA</td>\n",
              "      <td>SAO FRANCISCO DE ASSIS COMERCIO DE COMBUSTIVEI...</td>\n",
              "      <td>08.519.545/0001-10</td>\n",
              "      <td>PRACA FIDELIS FERRARI</td>\n",
              "      <td>35</td>\n",
              "      <td>NaN</td>\n",
              "      <td>LACE</td>\n",
              "      <td>29703-030</td>\n",
              "      <td>GASOLINA</td>\n",
              "      <td>2022-07-01</td>\n",
              "      <td>7.38</td>\n",
              "      <td>NaN</td>\n",
              "      <td>R$ / litro</td>\n",
              "      <td>VIBRA ENERGIA</td>\n",
              "    </tr>\n",
              "  </tbody>\n",
              "</table>\n",
              "</div>\n",
              "      <button class=\"colab-df-convert\" onclick=\"convertToInteractive('df-134de376-3554-46f5-a64e-eb3d11ac77f7')\"\n",
              "              title=\"Convert this dataframe to an interactive table.\"\n",
              "              style=\"display:none;\">\n",
              "        \n",
              "  <svg xmlns=\"http://www.w3.org/2000/svg\" height=\"24px\"viewBox=\"0 0 24 24\"\n",
              "       width=\"24px\">\n",
              "    <path d=\"M0 0h24v24H0V0z\" fill=\"none\"/>\n",
              "    <path d=\"M18.56 5.44l.94 2.06.94-2.06 2.06-.94-2.06-.94-.94-2.06-.94 2.06-2.06.94zm-11 1L8.5 8.5l.94-2.06 2.06-.94-2.06-.94L8.5 2.5l-.94 2.06-2.06.94zm10 10l.94 2.06.94-2.06 2.06-.94-2.06-.94-.94-2.06-.94 2.06-2.06.94z\"/><path d=\"M17.41 7.96l-1.37-1.37c-.4-.4-.92-.59-1.43-.59-.52 0-1.04.2-1.43.59L10.3 9.45l-7.72 7.72c-.78.78-.78 2.05 0 2.83L4 21.41c.39.39.9.59 1.41.59.51 0 1.02-.2 1.41-.59l7.78-7.78 2.81-2.81c.8-.78.8-2.07 0-2.86zM5.41 20L4 18.59l7.72-7.72 1.47 1.35L5.41 20z\"/>\n",
              "  </svg>\n",
              "      </button>\n",
              "      \n",
              "  <style>\n",
              "    .colab-df-container {\n",
              "      display:flex;\n",
              "      flex-wrap:wrap;\n",
              "      gap: 12px;\n",
              "    }\n",
              "\n",
              "    .colab-df-convert {\n",
              "      background-color: #E8F0FE;\n",
              "      border: none;\n",
              "      border-radius: 50%;\n",
              "      cursor: pointer;\n",
              "      display: none;\n",
              "      fill: #1967D2;\n",
              "      height: 32px;\n",
              "      padding: 0 0 0 0;\n",
              "      width: 32px;\n",
              "    }\n",
              "\n",
              "    .colab-df-convert:hover {\n",
              "      background-color: #E2EBFA;\n",
              "      box-shadow: 0px 1px 2px rgba(60, 64, 67, 0.3), 0px 1px 3px 1px rgba(60, 64, 67, 0.15);\n",
              "      fill: #174EA6;\n",
              "    }\n",
              "\n",
              "    [theme=dark] .colab-df-convert {\n",
              "      background-color: #3B4455;\n",
              "      fill: #D2E3FC;\n",
              "    }\n",
              "\n",
              "    [theme=dark] .colab-df-convert:hover {\n",
              "      background-color: #434B5C;\n",
              "      box-shadow: 0px 1px 3px 1px rgba(0, 0, 0, 0.15);\n",
              "      filter: drop-shadow(0px 1px 2px rgba(0, 0, 0, 0.3));\n",
              "      fill: #FFFFFF;\n",
              "    }\n",
              "  </style>\n",
              "\n",
              "      <script>\n",
              "        const buttonEl =\n",
              "          document.querySelector('#df-134de376-3554-46f5-a64e-eb3d11ac77f7 button.colab-df-convert');\n",
              "        buttonEl.style.display =\n",
              "          google.colab.kernel.accessAllowed ? 'block' : 'none';\n",
              "\n",
              "        async function convertToInteractive(key) {\n",
              "          const element = document.querySelector('#df-134de376-3554-46f5-a64e-eb3d11ac77f7');\n",
              "          const dataTable =\n",
              "            await google.colab.kernel.invokeFunction('convertToInteractive',\n",
              "                                                     [key], {});\n",
              "          if (!dataTable) return;\n",
              "\n",
              "          const docLinkHtml = 'Like what you see? Visit the ' +\n",
              "            '<a target=\"_blank\" href=https://colab.research.google.com/notebooks/data_table.ipynb>data table notebook</a>'\n",
              "            + ' to learn more about interactive tables.';\n",
              "          element.innerHTML = '';\n",
              "          dataTable['output_type'] = 'display_data';\n",
              "          await google.colab.output.renderOutput(dataTable, element);\n",
              "          const docLink = document.createElement('div');\n",
              "          docLink.innerHTML = docLinkHtml;\n",
              "          element.appendChild(docLink);\n",
              "        }\n",
              "      </script>\n",
              "    </div>\n",
              "  </div>\n",
              "  "
            ]
          },
          "metadata": {},
          "execution_count": 21
        }
      ]
    },
    {
      "cell_type": "markdown",
      "source": [
        "Podemos ver que o problema foi resolvido:\n"
      ],
      "metadata": {
        "id": "DbExxqGJWm9s"
      }
    },
    {
      "cell_type": "code",
      "source": [
        "type(conj_dados['Valor de Venda'][0])"
      ],
      "metadata": {
        "colab": {
          "base_uri": "https://localhost:8080/"
        },
        "id": "mhIrGzONWqGi",
        "outputId": "639aaeb4-910b-4154-d3eb-a436791c4f52"
      },
      "execution_count": null,
      "outputs": [
        {
          "output_type": "execute_result",
          "data": {
            "text/plain": [
              "str"
            ]
          },
          "metadata": {},
          "execution_count": 20
        }
      ]
    },
    {
      "cell_type": "markdown",
      "source": [
        "A coluna de 'Data da Coleta' também é uma *string*. Para podermos realizar operações com ela é necessário que a transformemos em data."
      ],
      "metadata": {
        "id": "7MrJoLjDXQh4"
      }
    },
    {
      "cell_type": "code",
      "source": [
        "conj_dados['Data da Coleta'] = pd.to_datetime(conj_dados['Data da Coleta'], format = '%d/%m/%Y')\n"
      ],
      "metadata": {
        "id": "Q_1rJwLxNDjw"
      },
      "execution_count": null,
      "outputs": []
    },
    {
      "cell_type": "code",
      "source": [
        "conj_dados.head(3)"
      ],
      "metadata": {
        "colab": {
          "base_uri": "https://localhost:8080/",
          "height": 416
        },
        "id": "7X5roaEISY4u",
        "outputId": "443ecb99-ea9c-4e21-f5bf-194cc461fce6"
      },
      "execution_count": null,
      "outputs": [
        {
          "output_type": "execute_result",
          "data": {
            "text/plain": [
              "  Regiao - Sigla Estado - Sigla Municipio  \\\n",
              "0             SE             ES  COLATINA   \n",
              "1             SE             ES  COLATINA   \n",
              "2             SE             ES  COLATINA   \n",
              "\n",
              "                                             Revenda      CNPJ da Revenda  \\\n",
              "0  SAO FRANCISCO DE ASSIS COMERCIO DE COMBUSTIVEI...   08.519.545/0001-10   \n",
              "1  SAO FRANCISCO DE ASSIS COMERCIO DE COMBUSTIVEI...   08.519.545/0001-10   \n",
              "2                                 POSTO MOTOCAP LTDA   04.814.652/0001-10   \n",
              "\n",
              "               Nome da Rua Numero Rua Complemento Bairro        Cep  \\\n",
              "0    PRACA FIDELIS FERRARI         35         NaN   LACE  29703-030   \n",
              "1    PRACA FIDELIS FERRARI         35         NaN   LACE  29703-030   \n",
              "2  PRACA ALMIRANTE BARROSO         52     LETRA A   LACE  29703-055   \n",
              "\n",
              "              Produto Data da Coleta Valor de Venda  Valor de Compra  \\\n",
              "0  GASOLINA ADITIVADA     01/07/2022           7,48              NaN   \n",
              "1            GASOLINA     01/07/2022           7,38              NaN   \n",
              "2              ETANOL     01/07/2022           5,99              NaN   \n",
              "\n",
              "  Unidade de Medida       Bandeira  \n",
              "0        R$ / litro  VIBRA ENERGIA  \n",
              "1        R$ / litro  VIBRA ENERGIA  \n",
              "2        R$ / litro  VIBRA ENERGIA  "
            ],
            "text/html": [
              "\n",
              "  <div id=\"df-7c3d6576-9c5b-4322-ac90-2c4cb136b336\">\n",
              "    <div class=\"colab-df-container\">\n",
              "      <div>\n",
              "<style scoped>\n",
              "    .dataframe tbody tr th:only-of-type {\n",
              "        vertical-align: middle;\n",
              "    }\n",
              "\n",
              "    .dataframe tbody tr th {\n",
              "        vertical-align: top;\n",
              "    }\n",
              "\n",
              "    .dataframe thead th {\n",
              "        text-align: right;\n",
              "    }\n",
              "</style>\n",
              "<table border=\"1\" class=\"dataframe\">\n",
              "  <thead>\n",
              "    <tr style=\"text-align: right;\">\n",
              "      <th></th>\n",
              "      <th>Regiao - Sigla</th>\n",
              "      <th>Estado - Sigla</th>\n",
              "      <th>Municipio</th>\n",
              "      <th>Revenda</th>\n",
              "      <th>CNPJ da Revenda</th>\n",
              "      <th>Nome da Rua</th>\n",
              "      <th>Numero Rua</th>\n",
              "      <th>Complemento</th>\n",
              "      <th>Bairro</th>\n",
              "      <th>Cep</th>\n",
              "      <th>Produto</th>\n",
              "      <th>Data da Coleta</th>\n",
              "      <th>Valor de Venda</th>\n",
              "      <th>Valor de Compra</th>\n",
              "      <th>Unidade de Medida</th>\n",
              "      <th>Bandeira</th>\n",
              "    </tr>\n",
              "  </thead>\n",
              "  <tbody>\n",
              "    <tr>\n",
              "      <th>0</th>\n",
              "      <td>SE</td>\n",
              "      <td>ES</td>\n",
              "      <td>COLATINA</td>\n",
              "      <td>SAO FRANCISCO DE ASSIS COMERCIO DE COMBUSTIVEI...</td>\n",
              "      <td>08.519.545/0001-10</td>\n",
              "      <td>PRACA FIDELIS FERRARI</td>\n",
              "      <td>35</td>\n",
              "      <td>NaN</td>\n",
              "      <td>LACE</td>\n",
              "      <td>29703-030</td>\n",
              "      <td>GASOLINA ADITIVADA</td>\n",
              "      <td>01/07/2022</td>\n",
              "      <td>7,48</td>\n",
              "      <td>NaN</td>\n",
              "      <td>R$ / litro</td>\n",
              "      <td>VIBRA ENERGIA</td>\n",
              "    </tr>\n",
              "    <tr>\n",
              "      <th>1</th>\n",
              "      <td>SE</td>\n",
              "      <td>ES</td>\n",
              "      <td>COLATINA</td>\n",
              "      <td>SAO FRANCISCO DE ASSIS COMERCIO DE COMBUSTIVEI...</td>\n",
              "      <td>08.519.545/0001-10</td>\n",
              "      <td>PRACA FIDELIS FERRARI</td>\n",
              "      <td>35</td>\n",
              "      <td>NaN</td>\n",
              "      <td>LACE</td>\n",
              "      <td>29703-030</td>\n",
              "      <td>GASOLINA</td>\n",
              "      <td>01/07/2022</td>\n",
              "      <td>7,38</td>\n",
              "      <td>NaN</td>\n",
              "      <td>R$ / litro</td>\n",
              "      <td>VIBRA ENERGIA</td>\n",
              "    </tr>\n",
              "    <tr>\n",
              "      <th>2</th>\n",
              "      <td>SE</td>\n",
              "      <td>ES</td>\n",
              "      <td>COLATINA</td>\n",
              "      <td>POSTO MOTOCAP LTDA</td>\n",
              "      <td>04.814.652/0001-10</td>\n",
              "      <td>PRACA ALMIRANTE BARROSO</td>\n",
              "      <td>52</td>\n",
              "      <td>LETRA A</td>\n",
              "      <td>LACE</td>\n",
              "      <td>29703-055</td>\n",
              "      <td>ETANOL</td>\n",
              "      <td>01/07/2022</td>\n",
              "      <td>5,99</td>\n",
              "      <td>NaN</td>\n",
              "      <td>R$ / litro</td>\n",
              "      <td>VIBRA ENERGIA</td>\n",
              "    </tr>\n",
              "  </tbody>\n",
              "</table>\n",
              "</div>\n",
              "      <button class=\"colab-df-convert\" onclick=\"convertToInteractive('df-7c3d6576-9c5b-4322-ac90-2c4cb136b336')\"\n",
              "              title=\"Convert this dataframe to an interactive table.\"\n",
              "              style=\"display:none;\">\n",
              "        \n",
              "  <svg xmlns=\"http://www.w3.org/2000/svg\" height=\"24px\"viewBox=\"0 0 24 24\"\n",
              "       width=\"24px\">\n",
              "    <path d=\"M0 0h24v24H0V0z\" fill=\"none\"/>\n",
              "    <path d=\"M18.56 5.44l.94 2.06.94-2.06 2.06-.94-2.06-.94-.94-2.06-.94 2.06-2.06.94zm-11 1L8.5 8.5l.94-2.06 2.06-.94-2.06-.94L8.5 2.5l-.94 2.06-2.06.94zm10 10l.94 2.06.94-2.06 2.06-.94-2.06-.94-.94-2.06-.94 2.06-2.06.94z\"/><path d=\"M17.41 7.96l-1.37-1.37c-.4-.4-.92-.59-1.43-.59-.52 0-1.04.2-1.43.59L10.3 9.45l-7.72 7.72c-.78.78-.78 2.05 0 2.83L4 21.41c.39.39.9.59 1.41.59.51 0 1.02-.2 1.41-.59l7.78-7.78 2.81-2.81c.8-.78.8-2.07 0-2.86zM5.41 20L4 18.59l7.72-7.72 1.47 1.35L5.41 20z\"/>\n",
              "  </svg>\n",
              "      </button>\n",
              "      \n",
              "  <style>\n",
              "    .colab-df-container {\n",
              "      display:flex;\n",
              "      flex-wrap:wrap;\n",
              "      gap: 12px;\n",
              "    }\n",
              "\n",
              "    .colab-df-convert {\n",
              "      background-color: #E8F0FE;\n",
              "      border: none;\n",
              "      border-radius: 50%;\n",
              "      cursor: pointer;\n",
              "      display: none;\n",
              "      fill: #1967D2;\n",
              "      height: 32px;\n",
              "      padding: 0 0 0 0;\n",
              "      width: 32px;\n",
              "    }\n",
              "\n",
              "    .colab-df-convert:hover {\n",
              "      background-color: #E2EBFA;\n",
              "      box-shadow: 0px 1px 2px rgba(60, 64, 67, 0.3), 0px 1px 3px 1px rgba(60, 64, 67, 0.15);\n",
              "      fill: #174EA6;\n",
              "    }\n",
              "\n",
              "    [theme=dark] .colab-df-convert {\n",
              "      background-color: #3B4455;\n",
              "      fill: #D2E3FC;\n",
              "    }\n",
              "\n",
              "    [theme=dark] .colab-df-convert:hover {\n",
              "      background-color: #434B5C;\n",
              "      box-shadow: 0px 1px 3px 1px rgba(0, 0, 0, 0.15);\n",
              "      filter: drop-shadow(0px 1px 2px rgba(0, 0, 0, 0.3));\n",
              "      fill: #FFFFFF;\n",
              "    }\n",
              "  </style>\n",
              "\n",
              "      <script>\n",
              "        const buttonEl =\n",
              "          document.querySelector('#df-7c3d6576-9c5b-4322-ac90-2c4cb136b336 button.colab-df-convert');\n",
              "        buttonEl.style.display =\n",
              "          google.colab.kernel.accessAllowed ? 'block' : 'none';\n",
              "\n",
              "        async function convertToInteractive(key) {\n",
              "          const element = document.querySelector('#df-7c3d6576-9c5b-4322-ac90-2c4cb136b336');\n",
              "          const dataTable =\n",
              "            await google.colab.kernel.invokeFunction('convertToInteractive',\n",
              "                                                     [key], {});\n",
              "          if (!dataTable) return;\n",
              "\n",
              "          const docLinkHtml = 'Like what you see? Visit the ' +\n",
              "            '<a target=\"_blank\" href=https://colab.research.google.com/notebooks/data_table.ipynb>data table notebook</a>'\n",
              "            + ' to learn more about interactive tables.';\n",
              "          element.innerHTML = '';\n",
              "          dataTable['output_type'] = 'display_data';\n",
              "          await google.colab.output.renderOutput(dataTable, element);\n",
              "          const docLink = document.createElement('div');\n",
              "          docLink.innerHTML = docLinkHtml;\n",
              "          element.appendChild(docLink);\n",
              "        }\n",
              "      </script>\n",
              "    </div>\n",
              "  </div>\n",
              "  "
            ]
          },
          "metadata": {},
          "execution_count": 17
        }
      ]
    },
    {
      "cell_type": "code",
      "source": [
        "conj_dados['Data da Coleta'][0]\n"
      ],
      "metadata": {
        "colab": {
          "base_uri": "https://localhost:8080/",
          "height": 35
        },
        "id": "5iRsUyvgNkUU",
        "outputId": "76236fcd-b33a-46e0-87a5-6ac5cbab8b32"
      },
      "execution_count": null,
      "outputs": [
        {
          "output_type": "execute_result",
          "data": {
            "text/plain": [
              "'01/07/2022'"
            ],
            "application/vnd.google.colaboratory.intrinsic+json": {
              "type": "string"
            }
          },
          "metadata": {},
          "execution_count": 16
        }
      ]
    },
    {
      "cell_type": "markdown",
      "source": [
        "Como iremos trabalhar majoritariamente como o calor de venda dos produtos, podemos analisar a distribuição desses valores. Pra isso podemos plotar um histograma."
      ],
      "metadata": {
        "id": "rTdkP99hXiiT"
      }
    },
    {
      "cell_type": "code",
      "source": [
        "hist = plt.hist(conj_dados['Valor de Venda'])\n",
        "plt.xlabel('Valor de Venda (R$)')\n",
        "plt.ylabel('Quantidade')"
      ],
      "metadata": {
        "colab": {
          "base_uri": "https://localhost:8080/",
          "height": 296
        },
        "id": "b5Q5-m3gXxIn",
        "outputId": "b2dbe8a3-38bd-4204-f449-fca57a15dad0"
      },
      "execution_count": null,
      "outputs": [
        {
          "output_type": "execute_result",
          "data": {
            "text/plain": [
              "Text(0, 0.5, 'Quantidade')"
            ]
          },
          "metadata": {},
          "execution_count": 74
        },
        {
          "output_type": "display_data",
          "data": {
            "text/plain": [
              "<Figure size 432x288 with 1 Axes>"
            ],
            "image/png": "[encoded data removed]"
          },
          "metadata": {
            "needs_background": "light"
          }
        }
      ]
    },
    {
      "cell_type": "markdown",
      "source": [
        "Nele é possível observar que a maioria dos valores encontram-se entre 5 e 6 ao longo do período analisado. Podemos ainda ir além e avaliarmos se há algum valor muito discrepante de valor de venda, através de um gráfico Box Plot"
      ],
      "metadata": {
        "id": "sPNU170dX2V7"
      }
    },
    {
      "cell_type": "code",
      "source": [
        "conj_dados['Valor de Venda'].plot(kind='box', vert = False, figsize = (16,4));"
      ],
      "metadata": {
        "colab": {
          "base_uri": "https://localhost:8080/",
          "height": 255
        },
        "id": "Pn4pw00AYJ9M",
        "outputId": "3195dfd1-eb47-4b14-fa99-3b198124e2aa"
      },
      "execution_count": null,
      "outputs": [
        {
          "output_type": "display_data",
          "data": {
            "text/plain": [
              "<Figure size 1152x288 with 1 Axes>"
            ],
            "image/png": "[encoded data removed]"
          },
          "metadata": {
            "needs_background": "light"
          }
        }
      ]
    },
    {
      "cell_type": "markdown",
      "source": [
        "Podemos ver a presença de inúmeros *outliers*. Dados em séries temporais podem sofrer diversas alterações inesperadas, como mudança política, crises econômicas, erros de medida, erros de digitação, etc. Para a presente análise, optamos por não remover nenhum valor discrepante, uma vez que pela análise do bloxpot eles são muitos, o que poderia impactar no nosso volume de dados."
      ],
      "metadata": {
        "id": "LEBbjecPYX1Q"
      }
    },
    {
      "cell_type": "markdown",
      "source": [
        "#<font color ='#DAA520'><b>Análise 📓</b></font>"
      ],
      "metadata": {
        "id": "3r2VQ7QsQPAO"
      }
    },
    {
      "cell_type": "markdown",
      "source": [
        "Quando analizamos séries temporais, ou seja, quando temos uma coleção de obserações ao longo do tempo, instintivamente nos perguntamos: Como essas obervações se alteraram ao longo do período de observações? Nessa análise, tentamos responder as seguintes perguntas:"
      ],
      "metadata": {
        "id": "e_LYURujkwG3"
      }
    },
    {
      "cell_type": "markdown",
      "source": [
        "##<font color ='#DAA520'><b>1. Como se comportaram o preço dos combustíveis durante os dois meses citados?</b></font>\n",
        "\n",
        "Os valores do etanol e da gasolina tiveram uma de queda ou diminuição?\n",
        "\n",
        "Para isso, selecionamos um *subset* do dataframe original apenas com as informações relevantes para essa respota: Qual o produto iremos avaliar, o valor que o produto foi vendido e quando. Calculamos uma média por dia do valor desse produto, para que pudessemos ter uma visão mais geral do valor do produto."
      ],
      "metadata": {
        "id": "uNDCBQUDDmdT"
      }
    },
    {
      "cell_type": "code",
      "source": [
        "preco_por_dia = conj_dados.groupby(['Data da Coleta', 'Produto']).mean('Valor de Venda')\n",
        "preco_por_dia"
      ],
      "metadata": {
        "colab": {
          "base_uri": "https://localhost:8080/",
          "height": 455
        },
        "id": "LP3lVe_okCz4",
        "outputId": "45de92a1-6ab4-4926-9ae1-40663c7ddb28"
      },
      "execution_count": null,
      "outputs": [
        {
          "output_type": "execute_result",
          "data": {
            "text/plain": [
              "                                   Valor de Venda\n",
              "Data da Coleta Produto                           \n",
              "2022-07-01     ETANOL                    5.395652\n",
              "               GASOLINA                  7.173200\n",
              "               GASOLINA ADITIVADA        7.248261\n",
              "2022-07-04     ETANOL                    4.879523\n",
              "               GASOLINA                  6.612834\n",
              "...                                           ...\n",
              "2022-08-30     GASOLINA                  5.213140\n",
              "               GASOLINA ADITIVADA        5.399597\n",
              "2022-08-31     ETANOL                    3.994470\n",
              "               GASOLINA                  5.194275\n",
              "               GASOLINA ADITIVADA        5.354558\n",
              "\n",
              "[132 rows x 1 columns]"
            ],
            "text/html": [
              "\n",
              "  <div id=\"df-49484365-f637-4d95-a85d-a94d8caf728b\">\n",
              "    <div class=\"colab-df-container\">\n",
              "      <div>\n",
              "<style scoped>\n",
              "    .dataframe tbody tr th:only-of-type {\n",
              "        vertical-align: middle;\n",
              "    }\n",
              "\n",
              "    .dataframe tbody tr th {\n",
              "        vertical-align: top;\n",
              "    }\n",
              "\n",
              "    .dataframe thead th {\n",
              "        text-align: right;\n",
              "    }\n",
              "</style>\n",
              "<table border=\"1\" class=\"dataframe\">\n",
              "  <thead>\n",
              "    <tr style=\"text-align: right;\">\n",
              "      <th></th>\n",
              "      <th></th>\n",
              "      <th>Valor de Venda</th>\n",
              "    </tr>\n",
              "    <tr>\n",
              "      <th>Data da Coleta</th>\n",
              "      <th>Produto</th>\n",
              "      <th></th>\n",
              "    </tr>\n",
              "  </thead>\n",
              "  <tbody>\n",
              "    <tr>\n",
              "      <th rowspan=\"3\" valign=\"top\">2022-07-01</th>\n",
              "      <th>ETANOL</th>\n",
              "      <td>5.395652</td>\n",
              "    </tr>\n",
              "    <tr>\n",
              "      <th>GASOLINA</th>\n",
              "      <td>7.173200</td>\n",
              "    </tr>\n",
              "    <tr>\n",
              "      <th>GASOLINA ADITIVADA</th>\n",
              "      <td>7.248261</td>\n",
              "    </tr>\n",
              "    <tr>\n",
              "      <th rowspan=\"2\" valign=\"top\">2022-07-04</th>\n",
              "      <th>ETANOL</th>\n",
              "      <td>4.879523</td>\n",
              "    </tr>\n",
              "    <tr>\n",
              "      <th>GASOLINA</th>\n",
              "      <td>6.612834</td>\n",
              "    </tr>\n",
              "    <tr>\n",
              "      <th>...</th>\n",
              "      <th>...</th>\n",
              "      <td>...</td>\n",
              "    </tr>\n",
              "    <tr>\n",
              "      <th rowspan=\"2\" valign=\"top\">2022-08-30</th>\n",
              "      <th>GASOLINA</th>\n",
              "      <td>5.213140</td>\n",
              "    </tr>\n",
              "    <tr>\n",
              "      <th>GASOLINA ADITIVADA</th>\n",
              "      <td>5.399597</td>\n",
              "    </tr>\n",
              "    <tr>\n",
              "      <th rowspan=\"3\" valign=\"top\">2022-08-31</th>\n",
              "      <th>ETANOL</th>\n",
              "      <td>3.994470</td>\n",
              "    </tr>\n",
              "    <tr>\n",
              "      <th>GASOLINA</th>\n",
              "      <td>5.194275</td>\n",
              "    </tr>\n",
              "    <tr>\n",
              "      <th>GASOLINA ADITIVADA</th>\n",
              "      <td>5.354558</td>\n",
              "    </tr>\n",
              "  </tbody>\n",
              "</table>\n",
              "<p>132 rows × 1 columns</p>\n",
              "</div>\n",
              "      <button class=\"colab-df-convert\" onclick=\"convertToInteractive('df-49484365-f637-4d95-a85d-a94d8caf728b')\"\n",
              "              title=\"Convert this dataframe to an interactive table.\"\n",
              "              style=\"display:none;\">\n",
              "        \n",
              "  <svg xmlns=\"http://www.w3.org/2000/svg\" height=\"24px\"viewBox=\"0 0 24 24\"\n",
              "       width=\"24px\">\n",
              "    <path d=\"M0 0h24v24H0V0z\" fill=\"none\"/>\n",
              "    <path d=\"M18.56 5.44l.94 2.06.94-2.06 2.06-.94-2.06-.94-.94-2.06-.94 2.06-2.06.94zm-11 1L8.5 8.5l.94-2.06 2.06-.94-2.06-.94L8.5 2.5l-.94 2.06-2.06.94zm10 10l.94 2.06.94-2.06 2.06-.94-2.06-.94-.94-2.06-.94 2.06-2.06.94z\"/><path d=\"M17.41 7.96l-1.37-1.37c-.4-.4-.92-.59-1.43-.59-.52 0-1.04.2-1.43.59L10.3 9.45l-7.72 7.72c-.78.78-.78 2.05 0 2.83L4 21.41c.39.39.9.59 1.41.59.51 0 1.02-.2 1.41-.59l7.78-7.78 2.81-2.81c.8-.78.8-2.07 0-2.86zM5.41 20L4 18.59l7.72-7.72 1.47 1.35L5.41 20z\"/>\n",
              "  </svg>\n",
              "      </button>\n",
              "      \n",
              "  <style>\n",
              "    .colab-df-container {\n",
              "      display:flex;\n",
              "      flex-wrap:wrap;\n",
              "      gap: 12px;\n",
              "    }\n",
              "\n",
              "    .colab-df-convert {\n",
              "      background-color: #E8F0FE;\n",
              "      border: none;\n",
              "      border-radius: 50%;\n",
              "      cursor: pointer;\n",
              "      display: none;\n",
              "      fill: #1967D2;\n",
              "      height: 32px;\n",
              "      padding: 0 0 0 0;\n",
              "      width: 32px;\n",
              "    }\n",
              "\n",
              "    .colab-df-convert:hover {\n",
              "      background-color: #E2EBFA;\n",
              "      box-shadow: 0px 1px 2px rgba(60, 64, 67, 0.3), 0px 1px 3px 1px rgba(60, 64, 67, 0.15);\n",
              "      fill: #174EA6;\n",
              "    }\n",
              "\n",
              "    [theme=dark] .colab-df-convert {\n",
              "      background-color: #3B4455;\n",
              "      fill: #D2E3FC;\n",
              "    }\n",
              "\n",
              "    [theme=dark] .colab-df-convert:hover {\n",
              "      background-color: #434B5C;\n",
              "      box-shadow: 0px 1px 3px 1px rgba(0, 0, 0, 0.15);\n",
              "      filter: drop-shadow(0px 1px 2px rgba(0, 0, 0, 0.3));\n",
              "      fill: #FFFFFF;\n",
              "    }\n",
              "  </style>\n",
              "\n",
              "      <script>\n",
              "        const buttonEl =\n",
              "          document.querySelector('#df-49484365-f637-4d95-a85d-a94d8caf728b button.colab-df-convert');\n",
              "        buttonEl.style.display =\n",
              "          google.colab.kernel.accessAllowed ? 'block' : 'none';\n",
              "\n",
              "        async function convertToInteractive(key) {\n",
              "          const element = document.querySelector('#df-49484365-f637-4d95-a85d-a94d8caf728b');\n",
              "          const dataTable =\n",
              "            await google.colab.kernel.invokeFunction('convertToInteractive',\n",
              "                                                     [key], {});\n",
              "          if (!dataTable) return;\n",
              "\n",
              "          const docLinkHtml = 'Like what you see? Visit the ' +\n",
              "            '<a target=\"_blank\" href=https://colab.research.google.com/notebooks/data_table.ipynb>data table notebook</a>'\n",
              "            + ' to learn more about interactive tables.';\n",
              "          element.innerHTML = '';\n",
              "          dataTable['output_type'] = 'display_data';\n",
              "          await google.colab.output.renderOutput(dataTable, element);\n",
              "          const docLink = document.createElement('div');\n",
              "          docLink.innerHTML = docLinkHtml;\n",
              "          element.appendChild(docLink);\n",
              "        }\n",
              "      </script>\n",
              "    </div>\n",
              "  </div>\n",
              "  "
            ]
          },
          "metadata": {},
          "execution_count": 20
        }
      ]
    },
    {
      "cell_type": "markdown",
      "source": [
        "Em seguida, optamos por resetar os valores do índice, de forma que a Data da Coleta passase a ser uma coluna de dados, e não o índice do dataset. "
      ],
      "metadata": {
        "id": "6s5OFR_2HD4f"
      }
    },
    {
      "cell_type": "code",
      "source": [
        "preco_por_dia.reset_index(inplace= True)\n",
        "preco_por_dia.head(2)"
      ],
      "metadata": {
        "colab": {
          "base_uri": "https://localhost:8080/",
          "height": 112
        },
        "id": "Fehi-XA_k0QL",
        "outputId": "124b7ed3-77c7-4404-a368-dc0689795e1d"
      },
      "execution_count": null,
      "outputs": [
        {
          "output_type": "execute_result",
          "data": {
            "text/plain": [
              "  Data da Coleta   Produto  Valor de Venda\n",
              "0     2022-07-01    ETANOL        5.395652\n",
              "1     2022-07-01  GASOLINA        7.173200"
            ],
            "text/html": [
              "\n",
              "  <div id=\"df-787ebabc-ae67-4620-8d70-7d683b36eabf\">\n",
              "    <div class=\"colab-df-container\">\n",
              "      <div>\n",
              "<style scoped>\n",
              "    .dataframe tbody tr th:only-of-type {\n",
              "        vertical-align: middle;\n",
              "    }\n",
              "\n",
              "    .dataframe tbody tr th {\n",
              "        vertical-align: top;\n",
              "    }\n",
              "\n",
              "    .dataframe thead th {\n",
              "        text-align: right;\n",
              "    }\n",
              "</style>\n",
              "<table border=\"1\" class=\"dataframe\">\n",
              "  <thead>\n",
              "    <tr style=\"text-align: right;\">\n",
              "      <th></th>\n",
              "      <th>Data da Coleta</th>\n",
              "      <th>Produto</th>\n",
              "      <th>Valor de Venda</th>\n",
              "    </tr>\n",
              "  </thead>\n",
              "  <tbody>\n",
              "    <tr>\n",
              "      <th>0</th>\n",
              "      <td>2022-07-01</td>\n",
              "      <td>ETANOL</td>\n",
              "      <td>5.395652</td>\n",
              "    </tr>\n",
              "    <tr>\n",
              "      <th>1</th>\n",
              "      <td>2022-07-01</td>\n",
              "      <td>GASOLINA</td>\n",
              "      <td>7.173200</td>\n",
              "    </tr>\n",
              "  </tbody>\n",
              "</table>\n",
              "</div>\n",
              "      <button class=\"colab-df-convert\" onclick=\"convertToInteractive('df-787ebabc-ae67-4620-8d70-7d683b36eabf')\"\n",
              "              title=\"Convert this dataframe to an interactive table.\"\n",
              "              style=\"display:none;\">\n",
              "        \n",
              "  <svg xmlns=\"http://www.w3.org/2000/svg\" height=\"24px\"viewBox=\"0 0 24 24\"\n",
              "       width=\"24px\">\n",
              "    <path d=\"M0 0h24v24H0V0z\" fill=\"none\"/>\n",
              "    <path d=\"M18.56 5.44l.94 2.06.94-2.06 2.06-.94-2.06-.94-.94-2.06-.94 2.06-2.06.94zm-11 1L8.5 8.5l.94-2.06 2.06-.94-2.06-.94L8.5 2.5l-.94 2.06-2.06.94zm10 10l.94 2.06.94-2.06 2.06-.94-2.06-.94-.94-2.06-.94 2.06-2.06.94z\"/><path d=\"M17.41 7.96l-1.37-1.37c-.4-.4-.92-.59-1.43-.59-.52 0-1.04.2-1.43.59L10.3 9.45l-7.72 7.72c-.78.78-.78 2.05 0 2.83L4 21.41c.39.39.9.59 1.41.59.51 0 1.02-.2 1.41-.59l7.78-7.78 2.81-2.81c.8-.78.8-2.07 0-2.86zM5.41 20L4 18.59l7.72-7.72 1.47 1.35L5.41 20z\"/>\n",
              "  </svg>\n",
              "      </button>\n",
              "      \n",
              "  <style>\n",
              "    .colab-df-container {\n",
              "      display:flex;\n",
              "      flex-wrap:wrap;\n",
              "      gap: 12px;\n",
              "    }\n",
              "\n",
              "    .colab-df-convert {\n",
              "      background-color: #E8F0FE;\n",
              "      border: none;\n",
              "      border-radius: 50%;\n",
              "      cursor: pointer;\n",
              "      display: none;\n",
              "      fill: #1967D2;\n",
              "      height: 32px;\n",
              "      padding: 0 0 0 0;\n",
              "      width: 32px;\n",
              "    }\n",
              "\n",
              "    .colab-df-convert:hover {\n",
              "      background-color: #E2EBFA;\n",
              "      box-shadow: 0px 1px 2px rgba(60, 64, 67, 0.3), 0px 1px 3px 1px rgba(60, 64, 67, 0.15);\n",
              "      fill: #174EA6;\n",
              "    }\n",
              "\n",
              "    [theme=dark] .colab-df-convert {\n",
              "      background-color: #3B4455;\n",
              "      fill: #D2E3FC;\n",
              "    }\n",
              "\n",
              "    [theme=dark] .colab-df-convert:hover {\n",
              "      background-color: #434B5C;\n",
              "      box-shadow: 0px 1px 3px 1px rgba(0, 0, 0, 0.15);\n",
              "      filter: drop-shadow(0px 1px 2px rgba(0, 0, 0, 0.3));\n",
              "      fill: #FFFFFF;\n",
              "    }\n",
              "  </style>\n",
              "\n",
              "      <script>\n",
              "        const buttonEl =\n",
              "          document.querySelector('#df-787ebabc-ae67-4620-8d70-7d683b36eabf button.colab-df-convert');\n",
              "        buttonEl.style.display =\n",
              "          google.colab.kernel.accessAllowed ? 'block' : 'none';\n",
              "\n",
              "        async function convertToInteractive(key) {\n",
              "          const element = document.querySelector('#df-787ebabc-ae67-4620-8d70-7d683b36eabf');\n",
              "          const dataTable =\n",
              "            await google.colab.kernel.invokeFunction('convertToInteractive',\n",
              "                                                     [key], {});\n",
              "          if (!dataTable) return;\n",
              "\n",
              "          const docLinkHtml = 'Like what you see? Visit the ' +\n",
              "            '<a target=\"_blank\" href=https://colab.research.google.com/notebooks/data_table.ipynb>data table notebook</a>'\n",
              "            + ' to learn more about interactive tables.';\n",
              "          element.innerHTML = '';\n",
              "          dataTable['output_type'] = 'display_data';\n",
              "          await google.colab.output.renderOutput(dataTable, element);\n",
              "          const docLink = document.createElement('div');\n",
              "          docLink.innerHTML = docLinkHtml;\n",
              "          element.appendChild(docLink);\n",
              "        }\n",
              "      </script>\n",
              "    </div>\n",
              "  </div>\n",
              "  "
            ]
          },
          "metadata": {},
          "execution_count": 21
        }
      ]
    },
    {
      "cell_type": "code",
      "source": [
        "preco_por_dia.shape[:]"
      ],
      "metadata": {
        "colab": {
          "base_uri": "https://localhost:8080/"
        },
        "id": "qDnMSL2Kaayq",
        "outputId": "deb992f2-dfa9-4d65-a2b1-76ebd5ab32cd"
      },
      "execution_count": null,
      "outputs": [
        {
          "output_type": "execute_result",
          "data": {
            "text/plain": [
              "(132, 3)"
            ]
          },
          "metadata": {},
          "execution_count": 22
        }
      ]
    },
    {
      "cell_type": "markdown",
      "source": [
        "Para melhor visualizar a tendência no preço dos  produtos, plotamos um gráfico de linhas para cada um dos três produtos observados ao longo dos meses. 📈📉"
      ],
      "metadata": {
        "id": "Rdn8ZiZpHUPB"
      }
    },
    {
      "cell_type": "code",
      "source": [
        "graf1 = preco_por_dia[preco_por_dia['Produto'] == 'ETANOL'].plot.line(x='Data da Coleta', y='Valor de Venda', label = 'Etanol')\n",
        "graf2 = preco_por_dia[preco_por_dia['Produto'] == 'GASOLINA'].plot.line(x='Data da Coleta', y='Valor de Venda', color = 'red', label = 'Gasolina Comum', ax=graf1 )\n",
        "graf3 = preco_por_dia[preco_por_dia['Produto'] == 'GASOLINA ADITIVADA'].plot.line(x='Data da Coleta', y='Valor de Venda', color = 'green', label = 'Gasolina Aditivada', ax=graf2 )"
      ],
      "metadata": {
        "colab": {
          "base_uri": "https://localhost:8080/",
          "height": 314
        },
        "id": "1EQ_vqZrR_7I",
        "outputId": "f20265c9-11cb-4b09-d81a-23a6f1236065"
      },
      "execution_count": null,
      "outputs": [
        {
          "output_type": "display_data",
          "data": {
            "text/plain": [
              "<Figure size 432x288 with 1 Axes>"
            ],
            "image/png": "[encoded data removed]"
          },
          "metadata": {
            "needs_background": "light"
          }
        }
      ]
    },
    {
      "cell_type": "markdown",
      "source": [
        "Com isso, podemos observar que de julho de 2022 até o final de agosto de 2022, o valor da Gasolina (comum ou aditivada) e o valor do etanol, em média, diminuiram. "
      ],
      "metadata": {
        "id": "NHqFaN9mHzzL"
      }
    },
    {
      "cell_type": "markdown",
      "source": [
        "##<font color ='#DAA520'><b>2. Qual o preço médio da gasolina e do etanol nesses dois meses?</b></font>"
      ],
      "metadata": {
        "id": "pX6PC9hNf5Ax"
      }
    },
    {
      "cell_type": "markdown",
      "source": [
        "Para calcular o preço médio dos produtos nesses dois meses , realizamos um subset em que selecionamos somente o produto e o valor de venda final. Com isso utilizamos a fórmula da média para conseguir obter o resultado desejado."
      ],
      "metadata": {
        "id": "rcsm9yleD7_4"
      }
    },
    {
      "cell_type": "code",
      "source": [
        "preco_medio_tempo= round(conj_dados.groupby(['Produto']).mean('Valor de Venda'),2)\n",
        "\n",
        "preco_medio_tempo\n"
      ],
      "metadata": {
        "colab": {
          "base_uri": "https://localhost:8080/",
          "height": 175
        },
        "id": "OxPWqR0SD8me",
        "outputId": "da985063-0aeb-4cc4-ac55-4554ab6287b7"
      },
      "execution_count": null,
      "outputs": [
        {
          "output_type": "execute_result",
          "data": {
            "text/plain": [
              "                    Valor de Venda\n",
              "Produto                           \n",
              "ETANOL                        4.51\n",
              "GASOLINA                      5.71\n",
              "GASOLINA ADITIVADA            5.89"
            ],
            "text/html": [
              "\n",
              "  <div id=\"df-9114abd1-7191-466e-bf5b-1c0f450c4f4d\">\n",
              "    <div class=\"colab-df-container\">\n",
              "      <div>\n",
              "<style scoped>\n",
              "    .dataframe tbody tr th:only-of-type {\n",
              "        vertical-align: middle;\n",
              "    }\n",
              "\n",
              "    .dataframe tbody tr th {\n",
              "        vertical-align: top;\n",
              "    }\n",
              "\n",
              "    .dataframe thead th {\n",
              "        text-align: right;\n",
              "    }\n",
              "</style>\n",
              "<table border=\"1\" class=\"dataframe\">\n",
              "  <thead>\n",
              "    <tr style=\"text-align: right;\">\n",
              "      <th></th>\n",
              "      <th>Valor de Venda</th>\n",
              "    </tr>\n",
              "    <tr>\n",
              "      <th>Produto</th>\n",
              "      <th></th>\n",
              "    </tr>\n",
              "  </thead>\n",
              "  <tbody>\n",
              "    <tr>\n",
              "      <th>ETANOL</th>\n",
              "      <td>4.51</td>\n",
              "    </tr>\n",
              "    <tr>\n",
              "      <th>GASOLINA</th>\n",
              "      <td>5.71</td>\n",
              "    </tr>\n",
              "    <tr>\n",
              "      <th>GASOLINA ADITIVADA</th>\n",
              "      <td>5.89</td>\n",
              "    </tr>\n",
              "  </tbody>\n",
              "</table>\n",
              "</div>\n",
              "      <button class=\"colab-df-convert\" onclick=\"convertToInteractive('df-9114abd1-7191-466e-bf5b-1c0f450c4f4d')\"\n",
              "              title=\"Convert this dataframe to an interactive table.\"\n",
              "              style=\"display:none;\">\n",
              "        \n",
              "  <svg xmlns=\"http://www.w3.org/2000/svg\" height=\"24px\"viewBox=\"0 0 24 24\"\n",
              "       width=\"24px\">\n",
              "    <path d=\"M0 0h24v24H0V0z\" fill=\"none\"/>\n",
              "    <path d=\"M18.56 5.44l.94 2.06.94-2.06 2.06-.94-2.06-.94-.94-2.06-.94 2.06-2.06.94zm-11 1L8.5 8.5l.94-2.06 2.06-.94-2.06-.94L8.5 2.5l-.94 2.06-2.06.94zm10 10l.94 2.06.94-2.06 2.06-.94-2.06-.94-.94-2.06-.94 2.06-2.06.94z\"/><path d=\"M17.41 7.96l-1.37-1.37c-.4-.4-.92-.59-1.43-.59-.52 0-1.04.2-1.43.59L10.3 9.45l-7.72 7.72c-.78.78-.78 2.05 0 2.83L4 21.41c.39.39.9.59 1.41.59.51 0 1.02-.2 1.41-.59l7.78-7.78 2.81-2.81c.8-.78.8-2.07 0-2.86zM5.41 20L4 18.59l7.72-7.72 1.47 1.35L5.41 20z\"/>\n",
              "  </svg>\n",
              "      </button>\n",
              "      \n",
              "  <style>\n",
              "    .colab-df-container {\n",
              "      display:flex;\n",
              "      flex-wrap:wrap;\n",
              "      gap: 12px;\n",
              "    }\n",
              "\n",
              "    .colab-df-convert {\n",
              "      background-color: #E8F0FE;\n",
              "      border: none;\n",
              "      border-radius: 50%;\n",
              "      cursor: pointer;\n",
              "      display: none;\n",
              "      fill: #1967D2;\n",
              "      height: 32px;\n",
              "      padding: 0 0 0 0;\n",
              "      width: 32px;\n",
              "    }\n",
              "\n",
              "    .colab-df-convert:hover {\n",
              "      background-color: #E2EBFA;\n",
              "      box-shadow: 0px 1px 2px rgba(60, 64, 67, 0.3), 0px 1px 3px 1px rgba(60, 64, 67, 0.15);\n",
              "      fill: #174EA6;\n",
              "    }\n",
              "\n",
              "    [theme=dark] .colab-df-convert {\n",
              "      background-color: #3B4455;\n",
              "      fill: #D2E3FC;\n",
              "    }\n",
              "\n",
              "    [theme=dark] .colab-df-convert:hover {\n",
              "      background-color: #434B5C;\n",
              "      box-shadow: 0px 1px 3px 1px rgba(0, 0, 0, 0.15);\n",
              "      filter: drop-shadow(0px 1px 2px rgba(0, 0, 0, 0.3));\n",
              "      fill: #FFFFFF;\n",
              "    }\n",
              "  </style>\n",
              "\n",
              "      <script>\n",
              "        const buttonEl =\n",
              "          document.querySelector('#df-9114abd1-7191-466e-bf5b-1c0f450c4f4d button.colab-df-convert');\n",
              "        buttonEl.style.display =\n",
              "          google.colab.kernel.accessAllowed ? 'block' : 'none';\n",
              "\n",
              "        async function convertToInteractive(key) {\n",
              "          const element = document.querySelector('#df-9114abd1-7191-466e-bf5b-1c0f450c4f4d');\n",
              "          const dataTable =\n",
              "            await google.colab.kernel.invokeFunction('convertToInteractive',\n",
              "                                                     [key], {});\n",
              "          if (!dataTable) return;\n",
              "\n",
              "          const docLinkHtml = 'Like what you see? Visit the ' +\n",
              "            '<a target=\"_blank\" href=https://colab.research.google.com/notebooks/data_table.ipynb>data table notebook</a>'\n",
              "            + ' to learn more about interactive tables.';\n",
              "          element.innerHTML = '';\n",
              "          dataTable['output_type'] = 'display_data';\n",
              "          await google.colab.output.renderOutput(dataTable, element);\n",
              "          const docLink = document.createElement('div');\n",
              "          docLink.innerHTML = docLinkHtml;\n",
              "          element.appendChild(docLink);\n",
              "        }\n",
              "      </script>\n",
              "    </div>\n",
              "  </div>\n",
              "  "
            ]
          },
          "metadata": {},
          "execution_count": 24
        }
      ]
    },
    {
      "cell_type": "markdown",
      "source": [
        "##<font color ='#DAA520'><b>3. Qual o preço médio da gasolina e do etanol por estado?</b></font>"
      ],
      "metadata": {
        "id": "g7tySUUqf5Wl"
      }
    },
    {
      "cell_type": "markdown",
      "source": [
        "Podemos também avaliar qual a média de preços por estado ao fim desses dois meses. Para isso, agrupamos os valores de média de 'Valor de Venda' por tipo de produto e estado em que é vendido."
      ],
      "metadata": {
        "id": "NECJrcq5mC7d"
      }
    },
    {
      "cell_type": "code",
      "source": [
        "preco_med_estado= conj_dados.groupby(['Estado - Sigla', 'Produto']).mean('Valor de Venda')\n",
        "preco_med_estado"
      ],
      "metadata": {
        "colab": {
          "base_uri": "https://localhost:8080/",
          "height": 455
        },
        "id": "hdfSLxDPERro",
        "outputId": "6b4d52f1-1729-4ee3-d3a3-53b080b43bd7"
      },
      "execution_count": null,
      "outputs": [
        {
          "output_type": "execute_result",
          "data": {
            "text/plain": [
              "                                   Valor de Venda\n",
              "Estado - Sigla Produto                           \n",
              "AC             ETANOL                    5.376684\n",
              "               GASOLINA                  6.211454\n",
              "               GASOLINA ADITIVADA        6.177801\n",
              "AL             ETANOL                    5.240854\n",
              "               GASOLINA                  5.944651\n",
              "...                                           ...\n",
              "SP             GASOLINA                  5.527844\n",
              "               GASOLINA ADITIVADA        5.773200\n",
              "TO             ETANOL                    5.151095\n",
              "               GASOLINA                  6.046250\n",
              "               GASOLINA ADITIVADA        6.176667\n",
              "\n",
              "[81 rows x 1 columns]"
            ],
            "text/html": [
              "\n",
              "  <div id=\"df-1bb598fa-5743-4e77-a73c-cb8d53aad1fe\">\n",
              "    <div class=\"colab-df-container\">\n",
              "      <div>\n",
              "<style scoped>\n",
              "    .dataframe tbody tr th:only-of-type {\n",
              "        vertical-align: middle;\n",
              "    }\n",
              "\n",
              "    .dataframe tbody tr th {\n",
              "        vertical-align: top;\n",
              "    }\n",
              "\n",
              "    .dataframe thead th {\n",
              "        text-align: right;\n",
              "    }\n",
              "</style>\n",
              "<table border=\"1\" class=\"dataframe\">\n",
              "  <thead>\n",
              "    <tr style=\"text-align: right;\">\n",
              "      <th></th>\n",
              "      <th></th>\n",
              "      <th>Valor de Venda</th>\n",
              "    </tr>\n",
              "    <tr>\n",
              "      <th>Estado - Sigla</th>\n",
              "      <th>Produto</th>\n",
              "      <th></th>\n",
              "    </tr>\n",
              "  </thead>\n",
              "  <tbody>\n",
              "    <tr>\n",
              "      <th rowspan=\"3\" valign=\"top\">AC</th>\n",
              "      <th>ETANOL</th>\n",
              "      <td>5.376684</td>\n",
              "    </tr>\n",
              "    <tr>\n",
              "      <th>GASOLINA</th>\n",
              "      <td>6.211454</td>\n",
              "    </tr>\n",
              "    <tr>\n",
              "      <th>GASOLINA ADITIVADA</th>\n",
              "      <td>6.177801</td>\n",
              "    </tr>\n",
              "    <tr>\n",
              "      <th rowspan=\"2\" valign=\"top\">AL</th>\n",
              "      <th>ETANOL</th>\n",
              "      <td>5.240854</td>\n",
              "    </tr>\n",
              "    <tr>\n",
              "      <th>GASOLINA</th>\n",
              "      <td>5.944651</td>\n",
              "    </tr>\n",
              "    <tr>\n",
              "      <th>...</th>\n",
              "      <th>...</th>\n",
              "      <td>...</td>\n",
              "    </tr>\n",
              "    <tr>\n",
              "      <th rowspan=\"2\" valign=\"top\">SP</th>\n",
              "      <th>GASOLINA</th>\n",
              "      <td>5.527844</td>\n",
              "    </tr>\n",
              "    <tr>\n",
              "      <th>GASOLINA ADITIVADA</th>\n",
              "      <td>5.773200</td>\n",
              "    </tr>\n",
              "    <tr>\n",
              "      <th rowspan=\"3\" valign=\"top\">TO</th>\n",
              "      <th>ETANOL</th>\n",
              "      <td>5.151095</td>\n",
              "    </tr>\n",
              "    <tr>\n",
              "      <th>GASOLINA</th>\n",
              "      <td>6.046250</td>\n",
              "    </tr>\n",
              "    <tr>\n",
              "      <th>GASOLINA ADITIVADA</th>\n",
              "      <td>6.176667</td>\n",
              "    </tr>\n",
              "  </tbody>\n",
              "</table>\n",
              "<p>81 rows × 1 columns</p>\n",
              "</div>\n",
              "      <button class=\"colab-df-convert\" onclick=\"convertToInteractive('df-1bb598fa-5743-4e77-a73c-cb8d53aad1fe')\"\n",
              "              title=\"Convert this dataframe to an interactive table.\"\n",
              "              style=\"display:none;\">\n",
              "        \n",
              "  <svg xmlns=\"http://www.w3.org/2000/svg\" height=\"24px\"viewBox=\"0 0 24 24\"\n",
              "       width=\"24px\">\n",
              "    <path d=\"M0 0h24v24H0V0z\" fill=\"none\"/>\n",
              "    <path d=\"M18.56 5.44l.94 2.06.94-2.06 2.06-.94-2.06-.94-.94-2.06-.94 2.06-2.06.94zm-11 1L8.5 8.5l.94-2.06 2.06-.94-2.06-.94L8.5 2.5l-.94 2.06-2.06.94zm10 10l.94 2.06.94-2.06 2.06-.94-2.06-.94-.94-2.06-.94 2.06-2.06.94z\"/><path d=\"M17.41 7.96l-1.37-1.37c-.4-.4-.92-.59-1.43-.59-.52 0-1.04.2-1.43.59L10.3 9.45l-7.72 7.72c-.78.78-.78 2.05 0 2.83L4 21.41c.39.39.9.59 1.41.59.51 0 1.02-.2 1.41-.59l7.78-7.78 2.81-2.81c.8-.78.8-2.07 0-2.86zM5.41 20L4 18.59l7.72-7.72 1.47 1.35L5.41 20z\"/>\n",
              "  </svg>\n",
              "      </button>\n",
              "      \n",
              "  <style>\n",
              "    .colab-df-container {\n",
              "      display:flex;\n",
              "      flex-wrap:wrap;\n",
              "      gap: 12px;\n",
              "    }\n",
              "\n",
              "    .colab-df-convert {\n",
              "      background-color: #E8F0FE;\n",
              "      border: none;\n",
              "      border-radius: 50%;\n",
              "      cursor: pointer;\n",
              "      display: none;\n",
              "      fill: #1967D2;\n",
              "      height: 32px;\n",
              "      padding: 0 0 0 0;\n",
              "      width: 32px;\n",
              "    }\n",
              "\n",
              "    .colab-df-convert:hover {\n",
              "      background-color: #E2EBFA;\n",
              "      box-shadow: 0px 1px 2px rgba(60, 64, 67, 0.3), 0px 1px 3px 1px rgba(60, 64, 67, 0.15);\n",
              "      fill: #174EA6;\n",
              "    }\n",
              "\n",
              "    [theme=dark] .colab-df-convert {\n",
              "      background-color: #3B4455;\n",
              "      fill: #D2E3FC;\n",
              "    }\n",
              "\n",
              "    [theme=dark] .colab-df-convert:hover {\n",
              "      background-color: #434B5C;\n",
              "      box-shadow: 0px 1px 3px 1px rgba(0, 0, 0, 0.15);\n",
              "      filter: drop-shadow(0px 1px 2px rgba(0, 0, 0, 0.3));\n",
              "      fill: #FFFFFF;\n",
              "    }\n",
              "  </style>\n",
              "\n",
              "      <script>\n",
              "        const buttonEl =\n",
              "          document.querySelector('#df-1bb598fa-5743-4e77-a73c-cb8d53aad1fe button.colab-df-convert');\n",
              "        buttonEl.style.display =\n",
              "          google.colab.kernel.accessAllowed ? 'block' : 'none';\n",
              "\n",
              "        async function convertToInteractive(key) {\n",
              "          const element = document.querySelector('#df-1bb598fa-5743-4e77-a73c-cb8d53aad1fe');\n",
              "          const dataTable =\n",
              "            await google.colab.kernel.invokeFunction('convertToInteractive',\n",
              "                                                     [key], {});\n",
              "          if (!dataTable) return;\n",
              "\n",
              "          const docLinkHtml = 'Like what you see? Visit the ' +\n",
              "            '<a target=\"_blank\" href=https://colab.research.google.com/notebooks/data_table.ipynb>data table notebook</a>'\n",
              "            + ' to learn more about interactive tables.';\n",
              "          element.innerHTML = '';\n",
              "          dataTable['output_type'] = 'display_data';\n",
              "          await google.colab.output.renderOutput(dataTable, element);\n",
              "          const docLink = document.createElement('div');\n",
              "          docLink.innerHTML = docLinkHtml;\n",
              "          element.appendChild(docLink);\n",
              "        }\n",
              "      </script>\n",
              "    </div>\n",
              "  </div>\n",
              "  "
            ]
          },
          "metadata": {},
          "execution_count": 25
        }
      ]
    },
    {
      "cell_type": "markdown",
      "source": [
        "Essas informações bom ser melhor visualizadas em forma de gráfico."
      ],
      "metadata": {
        "id": "sD-6BQrdpBXP"
      }
    },
    {
      "cell_type": "code",
      "source": [
        "preco_med_estado.reset_index(inplace = True)\n",
        "pme_etanol = preco_med_estado[preco_med_estado['Produto'] == 'ETANOL']\n",
        "pme_gasolina = preco_med_estado[preco_med_estado['Produto'] == 'GASOLINA']\n",
        "pme_gas_adtv = preco_med_estado[preco_med_estado['Produto'] == 'GASOLINA ADITIVADA']"
      ],
      "metadata": {
        "id": "gePHhFIUmhbr"
      },
      "execution_count": null,
      "outputs": []
    },
    {
      "cell_type": "code",
      "source": [
        "barWidth = 0.25\n",
        "plt.figure(figsize = (20,6))\n",
        "r1 = np.arange(len(pme_etanol['Estado - Sigla']))\n",
        "r2 = [x + barWidth for x in r1]\n",
        "r3 = [x + barWidth for x in r2]\n",
        "plt.bar(r1, pme_etanol['Valor de Venda'], label = 'Etanol', width = barWidth)\n",
        "plt.bar(r2, pme_gasolina['Valor de Venda'], label = 'Gasolina', width = barWidth)\n",
        "plt.bar(r3, pme_gas_adtv['Valor de Venda'], label = 'Gasolina Aditivada', width = barWidth)\n",
        "plt.xlabel('Estado')\n",
        "plt.ylabel('Média de Preço')\n",
        "plt.xticks([r + barWidth for r in range(len(pme_etanol['Estado - Sigla']))], pme_etanol['Estado - Sigla'].tolist())\n",
        "plt.ylim(3.5,6.5)\n",
        "plt.legend();"
      ],
      "metadata": {
        "colab": {
          "base_uri": "https://localhost:8080/",
          "height": 392
        },
        "id": "i7g4x99hnghA",
        "outputId": "e2751393-eff5-4adb-ad0b-1cb807cabedc"
      },
      "execution_count": null,
      "outputs": [
        {
          "output_type": "display_data",
          "data": {
            "text/plain": [
              "<Figure size 1440x432 with 1 Axes>"
            ],
            "image/png": "[encoded data removed]"
          },
          "metadata": {
            "needs_background": "light"
          }
        }
      ]
    },
    {
      "cell_type": "markdown",
      "source": [
        "Podemos observar no gráfico acima que os menores preço médio para o etanol são os de GO, MT e SP. Ainda, a gasolina aditivada costuma ser mais cara que a gasolina comum. "
      ],
      "metadata": {
        "id": "Z7kf0BnWERTc"
      }
    },
    {
      "cell_type": "markdown",
      "source": [
        "##<font color ='#DAA520'><b>4. Quais os 5 estados com o preço médio da gasolina e do etanol mais caros?</b></font>"
      ],
      "metadata": {
        "id": "8Cv5LUq1f5Rj"
      }
    },
    {
      "cell_type": "markdown",
      "source": [
        "Podemos explorar ainda mais as informações do gráfico anterior. Como por exemplo: Quais estados com o combustível mais caro?"
      ],
      "metadata": {
        "id": "MyJXiFLTGdqz"
      }
    },
    {
      "cell_type": "markdown",
      "source": [
        "###<font color ='#DAA520'><b>ETANOL</b></font>\n"
      ],
      "metadata": {
        "id": "8Af9DKzjbDsE"
      }
    },
    {
      "cell_type": "markdown",
      "source": [
        "Aqui criamos um substet com as informações apenas dos registros de Etanol. Ele será util mais a frente."
      ],
      "metadata": {
        "id": "J1EeRUUdqe2W"
      }
    },
    {
      "cell_type": "code",
      "source": [
        "dados_etanol = conj_dados.loc[(conj_dados['Produto']=='ETANOL')]"
      ],
      "metadata": {
        "id": "54FGLDNIG-qx"
      },
      "execution_count": null,
      "outputs": []
    },
    {
      "cell_type": "code",
      "source": [
        "preco_medio_etanol = dados_etanol.groupby('Estado - Sigla').mean('Valor de Venda').sort_values('Valor de Venda',ascending = False)\n",
        "preco_medio_etanol.head()"
      ],
      "metadata": {
        "colab": {
          "base_uri": "https://localhost:8080/",
          "height": 238
        },
        "id": "liNaoiI3Q7Hd",
        "outputId": "e76c5cd5-87d7-4247-a54a-7f19a7537d53"
      },
      "execution_count": null,
      "outputs": [
        {
          "output_type": "execute_result",
          "data": {
            "text/plain": [
              "                Valor de Venda\n",
              "Estado - Sigla                \n",
              "AP                    5.896250\n",
              "RS                    5.660152\n",
              "PA                    5.624816\n",
              "RO                    5.599120\n",
              "RR                    5.568182"
            ],
            "text/html": [
              "\n",
              "  <div id=\"df-e04eff12-eced-4e96-abf7-11058ad10a51\">\n",
              "    <div class=\"colab-df-container\">\n",
              "      <div>\n",
              "<style scoped>\n",
              "    .dataframe tbody tr th:only-of-type {\n",
              "        vertical-align: middle;\n",
              "    }\n",
              "\n",
              "    .dataframe tbody tr th {\n",
              "        vertical-align: top;\n",
              "    }\n",
              "\n",
              "    .dataframe thead th {\n",
              "        text-align: right;\n",
              "    }\n",
              "</style>\n",
              "<table border=\"1\" class=\"dataframe\">\n",
              "  <thead>\n",
              "    <tr style=\"text-align: right;\">\n",
              "      <th></th>\n",
              "      <th>Valor de Venda</th>\n",
              "    </tr>\n",
              "    <tr>\n",
              "      <th>Estado - Sigla</th>\n",
              "      <th></th>\n",
              "    </tr>\n",
              "  </thead>\n",
              "  <tbody>\n",
              "    <tr>\n",
              "      <th>AP</th>\n",
              "      <td>5.896250</td>\n",
              "    </tr>\n",
              "    <tr>\n",
              "      <th>RS</th>\n",
              "      <td>5.660152</td>\n",
              "    </tr>\n",
              "    <tr>\n",
              "      <th>PA</th>\n",
              "      <td>5.624816</td>\n",
              "    </tr>\n",
              "    <tr>\n",
              "      <th>RO</th>\n",
              "      <td>5.599120</td>\n",
              "    </tr>\n",
              "    <tr>\n",
              "      <th>RR</th>\n",
              "      <td>5.568182</td>\n",
              "    </tr>\n",
              "  </tbody>\n",
              "</table>\n",
              "</div>\n",
              "      <button class=\"colab-df-convert\" onclick=\"convertToInteractive('df-e04eff12-eced-4e96-abf7-11058ad10a51')\"\n",
              "              title=\"Convert this dataframe to an interactive table.\"\n",
              "              style=\"display:none;\">\n",
              "        \n",
              "  <svg xmlns=\"http://www.w3.org/2000/svg\" height=\"24px\"viewBox=\"0 0 24 24\"\n",
              "       width=\"24px\">\n",
              "    <path d=\"M0 0h24v24H0V0z\" fill=\"none\"/>\n",
              "    <path d=\"M18.56 5.44l.94 2.06.94-2.06 2.06-.94-2.06-.94-.94-2.06-.94 2.06-2.06.94zm-11 1L8.5 8.5l.94-2.06 2.06-.94-2.06-.94L8.5 2.5l-.94 2.06-2.06.94zm10 10l.94 2.06.94-2.06 2.06-.94-2.06-.94-.94-2.06-.94 2.06-2.06.94z\"/><path d=\"M17.41 7.96l-1.37-1.37c-.4-.4-.92-.59-1.43-.59-.52 0-1.04.2-1.43.59L10.3 9.45l-7.72 7.72c-.78.78-.78 2.05 0 2.83L4 21.41c.39.39.9.59 1.41.59.51 0 1.02-.2 1.41-.59l7.78-7.78 2.81-2.81c.8-.78.8-2.07 0-2.86zM5.41 20L4 18.59l7.72-7.72 1.47 1.35L5.41 20z\"/>\n",
              "  </svg>\n",
              "      </button>\n",
              "      \n",
              "  <style>\n",
              "    .colab-df-container {\n",
              "      display:flex;\n",
              "      flex-wrap:wrap;\n",
              "      gap: 12px;\n",
              "    }\n",
              "\n",
              "    .colab-df-convert {\n",
              "      background-color: #E8F0FE;\n",
              "      border: none;\n",
              "      border-radius: 50%;\n",
              "      cursor: pointer;\n",
              "      display: none;\n",
              "      fill: #1967D2;\n",
              "      height: 32px;\n",
              "      padding: 0 0 0 0;\n",
              "      width: 32px;\n",
              "    }\n",
              "\n",
              "    .colab-df-convert:hover {\n",
              "      background-color: #E2EBFA;\n",
              "      box-shadow: 0px 1px 2px rgba(60, 64, 67, 0.3), 0px 1px 3px 1px rgba(60, 64, 67, 0.15);\n",
              "      fill: #174EA6;\n",
              "    }\n",
              "\n",
              "    [theme=dark] .colab-df-convert {\n",
              "      background-color: #3B4455;\n",
              "      fill: #D2E3FC;\n",
              "    }\n",
              "\n",
              "    [theme=dark] .colab-df-convert:hover {\n",
              "      background-color: #434B5C;\n",
              "      box-shadow: 0px 1px 3px 1px rgba(0, 0, 0, 0.15);\n",
              "      filter: drop-shadow(0px 1px 2px rgba(0, 0, 0, 0.3));\n",
              "      fill: #FFFFFF;\n",
              "    }\n",
              "  </style>\n",
              "\n",
              "      <script>\n",
              "        const buttonEl =\n",
              "          document.querySelector('#df-e04eff12-eced-4e96-abf7-11058ad10a51 button.colab-df-convert');\n",
              "        buttonEl.style.display =\n",
              "          google.colab.kernel.accessAllowed ? 'block' : 'none';\n",
              "\n",
              "        async function convertToInteractive(key) {\n",
              "          const element = document.querySelector('#df-e04eff12-eced-4e96-abf7-11058ad10a51');\n",
              "          const dataTable =\n",
              "            await google.colab.kernel.invokeFunction('convertToInteractive',\n",
              "                                                     [key], {});\n",
              "          if (!dataTable) return;\n",
              "\n",
              "          const docLinkHtml = 'Like what you see? Visit the ' +\n",
              "            '<a target=\"_blank\" href=https://colab.research.google.com/notebooks/data_table.ipynb>data table notebook</a>'\n",
              "            + ' to learn more about interactive tables.';\n",
              "          element.innerHTML = '';\n",
              "          dataTable['output_type'] = 'display_data';\n",
              "          await google.colab.output.renderOutput(dataTable, element);\n",
              "          const docLink = document.createElement('div');\n",
              "          docLink.innerHTML = docLinkHtml;\n",
              "          element.appendChild(docLink);\n",
              "        }\n",
              "      </script>\n",
              "    </div>\n",
              "  </div>\n",
              "  "
            ]
          },
          "metadata": {},
          "execution_count": 29
        }
      ]
    },
    {
      "cell_type": "markdown",
      "source": [
        "Dessa forma, os estados com o etanol mais caro são Amapá, Rio Grande do Sul, Pará, Rondonia e Roraima."
      ],
      "metadata": {
        "id": "9MeeLGsYqA05"
      }
    },
    {
      "cell_type": "markdown",
      "source": [
        "###<font color ='#DAA520'><b>GASOLINA</b></font>\n"
      ],
      "metadata": {
        "id": "lM1ADeBASviC"
      }
    },
    {
      "cell_type": "markdown",
      "source": [
        "De forma semelhante, criamos um substet com as informações apenas dos registros de Gasolina"
      ],
      "metadata": {
        "id": "7MESHrKaqwmp"
      }
    },
    {
      "cell_type": "code",
      "source": [
        "dados_gasolina = conj_dados.loc[(conj_dados['Produto']=='GASOLINA')]"
      ],
      "metadata": {
        "id": "NvWPSj2_bTjW"
      },
      "execution_count": null,
      "outputs": []
    },
    {
      "cell_type": "code",
      "source": [
        "preco_medio_gasolina = dados_gasolina.groupby('Estado - Sigla').mean('Valor de Venda').sort_values('Valor de Venda',ascending = False)\n",
        "preco_medio_gasolina.head()"
      ],
      "metadata": {
        "colab": {
          "base_uri": "https://localhost:8080/",
          "height": 238
        },
        "id": "pYIp_wKJbjPo",
        "outputId": "7a0014f1-0337-4c1b-db61-72a88816fab0"
      },
      "execution_count": null,
      "outputs": [
        {
          "output_type": "execute_result",
          "data": {
            "text/plain": [
              "                Valor de Venda\n",
              "Estado - Sigla                \n",
              "AC                    6.211454\n",
              "AM                    6.188049\n",
              "PI                    6.075050\n",
              "TO                    6.046250\n",
              "BA                    6.030862"
            ],
            "text/html": [
              "\n",
              "  <div id=\"df-b6403c01-a41c-411a-a0af-b01e9e6758c4\">\n",
              "    <div class=\"colab-df-container\">\n",
              "      <div>\n",
              "<style scoped>\n",
              "    .dataframe tbody tr th:only-of-type {\n",
              "        vertical-align: middle;\n",
              "    }\n",
              "\n",
              "    .dataframe tbody tr th {\n",
              "        vertical-align: top;\n",
              "    }\n",
              "\n",
              "    .dataframe thead th {\n",
              "        text-align: right;\n",
              "    }\n",
              "</style>\n",
              "<table border=\"1\" class=\"dataframe\">\n",
              "  <thead>\n",
              "    <tr style=\"text-align: right;\">\n",
              "      <th></th>\n",
              "      <th>Valor de Venda</th>\n",
              "    </tr>\n",
              "    <tr>\n",
              "      <th>Estado - Sigla</th>\n",
              "      <th></th>\n",
              "    </tr>\n",
              "  </thead>\n",
              "  <tbody>\n",
              "    <tr>\n",
              "      <th>AC</th>\n",
              "      <td>6.211454</td>\n",
              "    </tr>\n",
              "    <tr>\n",
              "      <th>AM</th>\n",
              "      <td>6.188049</td>\n",
              "    </tr>\n",
              "    <tr>\n",
              "      <th>PI</th>\n",
              "      <td>6.075050</td>\n",
              "    </tr>\n",
              "    <tr>\n",
              "      <th>TO</th>\n",
              "      <td>6.046250</td>\n",
              "    </tr>\n",
              "    <tr>\n",
              "      <th>BA</th>\n",
              "      <td>6.030862</td>\n",
              "    </tr>\n",
              "  </tbody>\n",
              "</table>\n",
              "</div>\n",
              "      <button class=\"colab-df-convert\" onclick=\"convertToInteractive('df-b6403c01-a41c-411a-a0af-b01e9e6758c4')\"\n",
              "              title=\"Convert this dataframe to an interactive table.\"\n",
              "              style=\"display:none;\">\n",
              "        \n",
              "  <svg xmlns=\"http://www.w3.org/2000/svg\" height=\"24px\"viewBox=\"0 0 24 24\"\n",
              "       width=\"24px\">\n",
              "    <path d=\"M0 0h24v24H0V0z\" fill=\"none\"/>\n",
              "    <path d=\"M18.56 5.44l.94 2.06.94-2.06 2.06-.94-2.06-.94-.94-2.06-.94 2.06-2.06.94zm-11 1L8.5 8.5l.94-2.06 2.06-.94-2.06-.94L8.5 2.5l-.94 2.06-2.06.94zm10 10l.94 2.06.94-2.06 2.06-.94-2.06-.94-.94-2.06-.94 2.06-2.06.94z\"/><path d=\"M17.41 7.96l-1.37-1.37c-.4-.4-.92-.59-1.43-.59-.52 0-1.04.2-1.43.59L10.3 9.45l-7.72 7.72c-.78.78-.78 2.05 0 2.83L4 21.41c.39.39.9.59 1.41.59.51 0 1.02-.2 1.41-.59l7.78-7.78 2.81-2.81c.8-.78.8-2.07 0-2.86zM5.41 20L4 18.59l7.72-7.72 1.47 1.35L5.41 20z\"/>\n",
              "  </svg>\n",
              "      </button>\n",
              "      \n",
              "  <style>\n",
              "    .colab-df-container {\n",
              "      display:flex;\n",
              "      flex-wrap:wrap;\n",
              "      gap: 12px;\n",
              "    }\n",
              "\n",
              "    .colab-df-convert {\n",
              "      background-color: #E8F0FE;\n",
              "      border: none;\n",
              "      border-radius: 50%;\n",
              "      cursor: pointer;\n",
              "      display: none;\n",
              "      fill: #1967D2;\n",
              "      height: 32px;\n",
              "      padding: 0 0 0 0;\n",
              "      width: 32px;\n",
              "    }\n",
              "\n",
              "    .colab-df-convert:hover {\n",
              "      background-color: #E2EBFA;\n",
              "      box-shadow: 0px 1px 2px rgba(60, 64, 67, 0.3), 0px 1px 3px 1px rgba(60, 64, 67, 0.15);\n",
              "      fill: #174EA6;\n",
              "    }\n",
              "\n",
              "    [theme=dark] .colab-df-convert {\n",
              "      background-color: #3B4455;\n",
              "      fill: #D2E3FC;\n",
              "    }\n",
              "\n",
              "    [theme=dark] .colab-df-convert:hover {\n",
              "      background-color: #434B5C;\n",
              "      box-shadow: 0px 1px 3px 1px rgba(0, 0, 0, 0.15);\n",
              "      filter: drop-shadow(0px 1px 2px rgba(0, 0, 0, 0.3));\n",
              "      fill: #FFFFFF;\n",
              "    }\n",
              "  </style>\n",
              "\n",
              "      <script>\n",
              "        const buttonEl =\n",
              "          document.querySelector('#df-b6403c01-a41c-411a-a0af-b01e9e6758c4 button.colab-df-convert');\n",
              "        buttonEl.style.display =\n",
              "          google.colab.kernel.accessAllowed ? 'block' : 'none';\n",
              "\n",
              "        async function convertToInteractive(key) {\n",
              "          const element = document.querySelector('#df-b6403c01-a41c-411a-a0af-b01e9e6758c4');\n",
              "          const dataTable =\n",
              "            await google.colab.kernel.invokeFunction('convertToInteractive',\n",
              "                                                     [key], {});\n",
              "          if (!dataTable) return;\n",
              "\n",
              "          const docLinkHtml = 'Like what you see? Visit the ' +\n",
              "            '<a target=\"_blank\" href=https://colab.research.google.com/notebooks/data_table.ipynb>data table notebook</a>'\n",
              "            + ' to learn more about interactive tables.';\n",
              "          element.innerHTML = '';\n",
              "          dataTable['output_type'] = 'display_data';\n",
              "          await google.colab.output.renderOutput(dataTable, element);\n",
              "          const docLink = document.createElement('div');\n",
              "          docLink.innerHTML = docLinkHtml;\n",
              "          element.appendChild(docLink);\n",
              "        }\n",
              "      </script>\n",
              "    </div>\n",
              "  </div>\n",
              "  "
            ]
          },
          "metadata": {},
          "execution_count": 31
        }
      ]
    },
    {
      "cell_type": "markdown",
      "source": [
        "De forma análoga, os estados com a gasolina mais cara foram Acre, Amazonas, Piauí, Tocantins e Bahia. "
      ],
      "metadata": {
        "id": "L5dF_f9CqP6Z"
      }
    },
    {
      "cell_type": "markdown",
      "source": [
        "##<font color ='#DAA520'><b>5. Qual o município que possui o maior preço para a gasolina e para o etanol?</b></font>"
      ],
      "metadata": {
        "id": "mcqJlfm1fmbg"
      }
    },
    {
      "cell_type": "markdown",
      "source": [
        "Para essa pesquisa localizamos o produto específico como a gasolina e o etanol na coluna \"Produto\", nessa pesquisa selecionamos series especificas e em seguida, com base nessas series procuramos o maior valor referente à coluna \"Valor de venda\" para cada produto, no final informamos qual o o maior valor de venda de cada produto e em qual município. O . loc nos auxiliou a localizar e especificar series e o .idxmax nos informou o maior valor."
      ],
      "metadata": {
        "id": "K6fX8C4l-BjT"
      }
    },
    {
      "cell_type": "code",
      "source": [
        "max_gasolina_mun = dados_gasolina.loc[(dados_gasolina['Valor de Venda'].idxmax())]\n",
        "max_gasolina_mun = max_gasolina_mun[['Municipio','Estado - Sigla', 'Valor de Venda']]\n",
        "max_gasolina_mun\n",
        "\n",
        "#O Município com maior valor de gasolina"
      ],
      "metadata": {
        "colab": {
          "base_uri": "https://localhost:8080/"
        },
        "id": "7B5qyblODZnN",
        "outputId": "39377c89-77b1-4fd8-a8b9-2f3943b8347e"
      },
      "execution_count": null,
      "outputs": [
        {
          "output_type": "execute_result",
          "data": {
            "text/plain": [
              "Municipio         GURUPI\n",
              "Estado - Sigla        TO\n",
              "Valor de Venda      8.75\n",
              "Name: 88341, dtype: object"
            ]
          },
          "metadata": {},
          "execution_count": 32
        }
      ]
    },
    {
      "cell_type": "code",
      "source": [
        "max_etanol_mun = dados_etanol.loc[(dados_etanol['Valor de Venda'].idxmax())]\n",
        "max_etanol_mun = max_etanol_mun[['Municipio', 'Estado - Sigla', 'Valor de Venda']]\n",
        "max_etanol_mun\n",
        "#O Município com maior valor de etanol"
      ],
      "metadata": {
        "colab": {
          "base_uri": "https://localhost:8080/"
        },
        "id": "PutOwWjbDMvv",
        "outputId": "7e5cddaf-3895-4613-9f34-24dcbba72f0a"
      },
      "execution_count": null,
      "outputs": [
        {
          "output_type": "execute_result",
          "data": {
            "text/plain": [
              "Municipio         BAGE\n",
              "Estado - Sigla      RS\n",
              "Valor de Venda    7.89\n",
              "Name: 9260, dtype: object"
            ]
          },
          "metadata": {},
          "execution_count": 33
        }
      ]
    },
    {
      "cell_type": "code",
      "source": [
        "dados_gas_adtv = conj_dados.loc[(conj_dados['Produto']=='GASOLINA ADITIVADA')]\n",
        "max_gas_adtv_mun = dados_gas_adtv.loc[(dados_gas_adtv['Valor de Venda'].idxmax())]\n",
        "max_gas_adtv_mun = max_gas_adtv_mun[['Municipio','Estado - Sigla', 'Valor de Venda']]\n",
        "max_gas_adtv_mun\n",
        "#O município com maior valor de gasolina aditivada"
      ],
      "metadata": {
        "colab": {
          "base_uri": "https://localhost:8080/"
        },
        "id": "SBOARQC5tFj1",
        "outputId": "ff86288d-518a-4cfb-b1c0-36c786fb9620"
      },
      "execution_count": null,
      "outputs": [
        {
          "output_type": "execute_result",
          "data": {
            "text/plain": [
              "Municipio         MAGE\n",
              "Estado - Sigla      RJ\n",
              "Valor de Venda    9.27\n",
              "Name: 6478, dtype: object"
            ]
          },
          "metadata": {},
          "execution_count": 34
        }
      ]
    },
    {
      "cell_type": "markdown",
      "source": [
        "##<font color ='#DAA520'><b>6. Qual o município que possui o menor preço para a gasolina e para o etanol?</b></font>"
      ],
      "metadata": {
        "id": "vYCuX606fmSx"
      }
    },
    {
      "cell_type": "markdown",
      "source": [
        "Usamos as mesmas funcionalidades na questão anterior, porém, foi usado o .idxmin  para nos informar o menor valor de cada produto."
      ],
      "metadata": {
        "id": "QHLuLwIQBQPQ"
      }
    },
    {
      "cell_type": "code",
      "source": [
        "min_gasolina_mun = dados_gasolina.loc[(dados_gasolina['Valor de Venda'].idxmin())]\n",
        "min_gasolina_mun = min_gasolina_mun[['Municipio', 'Valor de Venda']]\n",
        "min_gasolina_mun\n",
        "#O Município com menor valor de gasolina"
      ],
      "metadata": {
        "colab": {
          "base_uri": "https://localhost:8080/"
        },
        "id": "L-zLU7mD--V9",
        "outputId": "f77c32fa-2459-49a5-8a3f-16035c0bbc00"
      },
      "execution_count": null,
      "outputs": [
        {
          "output_type": "execute_result",
          "data": {
            "text/plain": [
              "Municipio         PASSO FUNDO\n",
              "Valor de Venda           4.13\n",
              "Name: 115938, dtype: object"
            ]
          },
          "metadata": {},
          "execution_count": 35
        }
      ]
    },
    {
      "cell_type": "code",
      "source": [
        "min_etanol_mun = dados_etanol.loc[(dados_etanol['Valor de Venda'].idxmin())]\n",
        "min_etanol_mun = min_etanol_mun[['Municipio', 'Valor de Venda']]\n",
        "min_etanol_mun\n",
        "#O Município com menor valor de etanol"
      ],
      "metadata": {
        "colab": {
          "base_uri": "https://localhost:8080/"
        },
        "id": "5ODPFubS_FPj",
        "outputId": "77806845-2d80-49be-d0de-b979d8084f81"
      },
      "execution_count": null,
      "outputs": [
        {
          "output_type": "execute_result",
          "data": {
            "text/plain": [
              "Municipio         PRESIDENTE PRUDENTE\n",
              "Valor de Venda                   2.89\n",
              "Name: 125423, dtype: object"
            ]
          },
          "metadata": {},
          "execution_count": 36
        }
      ]
    },
    {
      "cell_type": "code",
      "source": [
        "min_gas_adtv_mun = dados_gas_adtv.loc[(dados_gas_adtv['Valor de Venda'].idxmin())]\n",
        "min_gas_adtv_mun = min_gas_adtv_mun[['Municipio','Estado - Sigla', 'Valor de Venda']]\n",
        "min_gas_adtv_mun\n",
        "#O município com menor valor de gasolina aditivada"
      ],
      "metadata": {
        "colab": {
          "base_uri": "https://localhost:8080/"
        },
        "id": "s2VczItOuOND",
        "outputId": "8de735d8-d3ef-4b5d-e725-8b9beababc14"
      },
      "execution_count": null,
      "outputs": [
        {
          "output_type": "execute_result",
          "data": {
            "text/plain": [
              "Municipio         PASSO FUNDO\n",
              "Estado - Sigla             RS\n",
              "Valor de Venda           4.13\n",
              "Name: 118990, dtype: object"
            ]
          },
          "metadata": {},
          "execution_count": 37
        }
      ]
    },
    {
      "cell_type": "markdown",
      "source": [
        "##<font color ='#DAA520'><b>7. Qual a região que possui o maior valor médio da gasolina?</b></font>"
      ],
      "metadata": {
        "id": "gN1T4VY6fmfw"
      }
    },
    {
      "cell_type": "markdown",
      "source": [
        "Podemos pensar apenas no valor mais alto das médias de valor de venda por região:"
      ],
      "metadata": {
        "id": "er4ipDs9vJj0"
      }
    },
    {
      "cell_type": "code",
      "source": [
        "med_gasolina = dados_gasolina.groupby(['Regiao - Sigla', 'Produto']).mean('Valor de Venda')\n",
        "\n",
        "max_gasolina = med_gasolina.loc[[med_gasolina['Valor de Venda'].idxmax()]]\n",
        "\n",
        "max_gasolina"
      ],
      "metadata": {
        "colab": {
          "base_uri": "https://localhost:8080/",
          "height": 112
        },
        "id": "aftIOijs9ZPD",
        "outputId": "eff31b0a-36cc-4c32-d2ff-98d3ef760d4b"
      },
      "execution_count": null,
      "outputs": [
        {
          "output_type": "execute_result",
          "data": {
            "text/plain": [
              "                         Valor de Venda\n",
              "Regiao - Sigla Produto                 \n",
              "N              GASOLINA        5.972082"
            ],
            "text/html": [
              "\n",
              "  <div id=\"df-01ba6359-5ab5-459a-8bec-6fb39f087be5\">\n",
              "    <div class=\"colab-df-container\">\n",
              "      <div>\n",
              "<style scoped>\n",
              "    .dataframe tbody tr th:only-of-type {\n",
              "        vertical-align: middle;\n",
              "    }\n",
              "\n",
              "    .dataframe tbody tr th {\n",
              "        vertical-align: top;\n",
              "    }\n",
              "\n",
              "    .dataframe thead th {\n",
              "        text-align: right;\n",
              "    }\n",
              "</style>\n",
              "<table border=\"1\" class=\"dataframe\">\n",
              "  <thead>\n",
              "    <tr style=\"text-align: right;\">\n",
              "      <th></th>\n",
              "      <th></th>\n",
              "      <th>Valor de Venda</th>\n",
              "    </tr>\n",
              "    <tr>\n",
              "      <th>Regiao - Sigla</th>\n",
              "      <th>Produto</th>\n",
              "      <th></th>\n",
              "    </tr>\n",
              "  </thead>\n",
              "  <tbody>\n",
              "    <tr>\n",
              "      <th>N</th>\n",
              "      <th>GASOLINA</th>\n",
              "      <td>5.972082</td>\n",
              "    </tr>\n",
              "  </tbody>\n",
              "</table>\n",
              "</div>\n",
              "      <button class=\"colab-df-convert\" onclick=\"convertToInteractive('df-01ba6359-5ab5-459a-8bec-6fb39f087be5')\"\n",
              "              title=\"Convert this dataframe to an interactive table.\"\n",
              "              style=\"display:none;\">\n",
              "        \n",
              "  <svg xmlns=\"http://www.w3.org/2000/svg\" height=\"24px\"viewBox=\"0 0 24 24\"\n",
              "       width=\"24px\">\n",
              "    <path d=\"M0 0h24v24H0V0z\" fill=\"none\"/>\n",
              "    <path d=\"M18.56 5.44l.94 2.06.94-2.06 2.06-.94-2.06-.94-.94-2.06-.94 2.06-2.06.94zm-11 1L8.5 8.5l.94-2.06 2.06-.94-2.06-.94L8.5 2.5l-.94 2.06-2.06.94zm10 10l.94 2.06.94-2.06 2.06-.94-2.06-.94-.94-2.06-.94 2.06-2.06.94z\"/><path d=\"M17.41 7.96l-1.37-1.37c-.4-.4-.92-.59-1.43-.59-.52 0-1.04.2-1.43.59L10.3 9.45l-7.72 7.72c-.78.78-.78 2.05 0 2.83L4 21.41c.39.39.9.59 1.41.59.51 0 1.02-.2 1.41-.59l7.78-7.78 2.81-2.81c.8-.78.8-2.07 0-2.86zM5.41 20L4 18.59l7.72-7.72 1.47 1.35L5.41 20z\"/>\n",
              "  </svg>\n",
              "      </button>\n",
              "      \n",
              "  <style>\n",
              "    .colab-df-container {\n",
              "      display:flex;\n",
              "      flex-wrap:wrap;\n",
              "      gap: 12px;\n",
              "    }\n",
              "\n",
              "    .colab-df-convert {\n",
              "      background-color: #E8F0FE;\n",
              "      border: none;\n",
              "      border-radius: 50%;\n",
              "      cursor: pointer;\n",
              "      display: none;\n",
              "      fill: #1967D2;\n",
              "      height: 32px;\n",
              "      padding: 0 0 0 0;\n",
              "      width: 32px;\n",
              "    }\n",
              "\n",
              "    .colab-df-convert:hover {\n",
              "      background-color: #E2EBFA;\n",
              "      box-shadow: 0px 1px 2px rgba(60, 64, 67, 0.3), 0px 1px 3px 1px rgba(60, 64, 67, 0.15);\n",
              "      fill: #174EA6;\n",
              "    }\n",
              "\n",
              "    [theme=dark] .colab-df-convert {\n",
              "      background-color: #3B4455;\n",
              "      fill: #D2E3FC;\n",
              "    }\n",
              "\n",
              "    [theme=dark] .colab-df-convert:hover {\n",
              "      background-color: #434B5C;\n",
              "      box-shadow: 0px 1px 3px 1px rgba(0, 0, 0, 0.15);\n",
              "      filter: drop-shadow(0px 1px 2px rgba(0, 0, 0, 0.3));\n",
              "      fill: #FFFFFF;\n",
              "    }\n",
              "  </style>\n",
              "\n",
              "      <script>\n",
              "        const buttonEl =\n",
              "          document.querySelector('#df-01ba6359-5ab5-459a-8bec-6fb39f087be5 button.colab-df-convert');\n",
              "        buttonEl.style.display =\n",
              "          google.colab.kernel.accessAllowed ? 'block' : 'none';\n",
              "\n",
              "        async function convertToInteractive(key) {\n",
              "          const element = document.querySelector('#df-01ba6359-5ab5-459a-8bec-6fb39f087be5');\n",
              "          const dataTable =\n",
              "            await google.colab.kernel.invokeFunction('convertToInteractive',\n",
              "                                                     [key], {});\n",
              "          if (!dataTable) return;\n",
              "\n",
              "          const docLinkHtml = 'Like what you see? Visit the ' +\n",
              "            '<a target=\"_blank\" href=https://colab.research.google.com/notebooks/data_table.ipynb>data table notebook</a>'\n",
              "            + ' to learn more about interactive tables.';\n",
              "          element.innerHTML = '';\n",
              "          dataTable['output_type'] = 'display_data';\n",
              "          await google.colab.output.renderOutput(dataTable, element);\n",
              "          const docLink = document.createElement('div');\n",
              "          docLink.innerHTML = docLinkHtml;\n",
              "          element.appendChild(docLink);\n",
              "        }\n",
              "      </script>\n",
              "    </div>\n",
              "  </div>\n",
              "  "
            ]
          },
          "metadata": {},
          "execution_count": 38
        }
      ]
    },
    {
      "cell_type": "markdown",
      "source": [
        "Dessa forma, a região com a gasolina mais cara é a Região Norte. \n",
        "\n",
        "Mas podemos também olhar para a média de valores de todas as regiões atraves de um gráfico:"
      ],
      "metadata": {
        "id": "D12WEBdivac0"
      }
    },
    {
      "cell_type": "code",
      "source": [
        "med_gasolina.reset_index(inplace = True)"
      ],
      "metadata": {
        "id": "JUMQVQ2-uidQ"
      },
      "execution_count": null,
      "outputs": []
    },
    {
      "cell_type": "code",
      "source": [
        "barWidth = 0.5\n",
        "plt.figure(figsize = (12,6))\n",
        "r1 = np.arange(len(med_gasolina['Regiao - Sigla']))\n",
        "plt.bar(r1, med_gasolina['Valor de Venda'], width = barWidth, align='center')\n",
        "plt.xticks(np.arange(len(med_gasolina['Regiao - Sigla'])), med_gasolina['Regiao - Sigla'].tolist())\n",
        "plt.ylabel('Preço de Venda')\n",
        "plt.ylim(3.5,6.5);"
      ],
      "metadata": {
        "colab": {
          "base_uri": "https://localhost:8080/",
          "height": 378
        },
        "id": "kBOj5VmFxe5d",
        "outputId": "63be85fd-b113-407b-ea5d-82283aef13cc"
      },
      "execution_count": null,
      "outputs": [
        {
          "output_type": "display_data",
          "data": {
            "text/plain": [
              "<Figure size 864x432 with 1 Axes>"
            ],
            "image/png": "[encoded data removed]"
          },
          "metadata": {
            "needs_background": "light"
          }
        }
      ]
    },
    {
      "cell_type": "markdown",
      "source": [
        "Pelo gráfico podemos notar que a média de preços da região Nordeste é bem próxima à da região Norte. "
      ],
      "metadata": {
        "id": "_Ze275Vb0zxk"
      }
    },
    {
      "cell_type": "markdown",
      "source": [
        "##<font color ='#DAA520'><b>8. Qual a região que possui o menor valor médio do etanol?</b></font>\n",
        "\n",
        "Semelhante à pergunta anterior, podemos responder em valores absolutos ou em forma de gráfico."
      ],
      "metadata": {
        "id": "UMdEPnY1fmjg"
      }
    },
    {
      "cell_type": "code",
      "source": [
        "med_etanol = dados_etanol.groupby(['Regiao - Sigla', 'Produto']).mean('Valor de Venda')\n",
        "\n",
        "min_etanol = med_etanol.loc[[med_etanol['Valor de Venda'].idxmin()]]\n",
        "\n",
        "min_etanol"
      ],
      "metadata": {
        "id": "B7n73aH8lH9Y",
        "colab": {
          "base_uri": "https://localhost:8080/",
          "height": 112
        },
        "outputId": "00cbda9a-11a8-4f07-91f9-1af2eb97237f"
      },
      "execution_count": null,
      "outputs": [
        {
          "output_type": "execute_result",
          "data": {
            "text/plain": [
              "                        Valor de Venda\n",
              "Regiao - Sigla Produto                \n",
              "CO             ETANOL         4.107305"
            ],
            "text/html": [
              "\n",
              "  <div id=\"df-9218ba7c-9943-4fcc-adfa-8e4d01a158f4\">\n",
              "    <div class=\"colab-df-container\">\n",
              "      <div>\n",
              "<style scoped>\n",
              "    .dataframe tbody tr th:only-of-type {\n",
              "        vertical-align: middle;\n",
              "    }\n",
              "\n",
              "    .dataframe tbody tr th {\n",
              "        vertical-align: top;\n",
              "    }\n",
              "\n",
              "    .dataframe thead th {\n",
              "        text-align: right;\n",
              "    }\n",
              "</style>\n",
              "<table border=\"1\" class=\"dataframe\">\n",
              "  <thead>\n",
              "    <tr style=\"text-align: right;\">\n",
              "      <th></th>\n",
              "      <th></th>\n",
              "      <th>Valor de Venda</th>\n",
              "    </tr>\n",
              "    <tr>\n",
              "      <th>Regiao - Sigla</th>\n",
              "      <th>Produto</th>\n",
              "      <th></th>\n",
              "    </tr>\n",
              "  </thead>\n",
              "  <tbody>\n",
              "    <tr>\n",
              "      <th>CO</th>\n",
              "      <th>ETANOL</th>\n",
              "      <td>4.107305</td>\n",
              "    </tr>\n",
              "  </tbody>\n",
              "</table>\n",
              "</div>\n",
              "      <button class=\"colab-df-convert\" onclick=\"convertToInteractive('df-9218ba7c-9943-4fcc-adfa-8e4d01a158f4')\"\n",
              "              title=\"Convert this dataframe to an interactive table.\"\n",
              "              style=\"display:none;\">\n",
              "        \n",
              "  <svg xmlns=\"http://www.w3.org/2000/svg\" height=\"24px\"viewBox=\"0 0 24 24\"\n",
              "       width=\"24px\">\n",
              "    <path d=\"M0 0h24v24H0V0z\" fill=\"none\"/>\n",
              "    <path d=\"M18.56 5.44l.94 2.06.94-2.06 2.06-.94-2.06-.94-.94-2.06-.94 2.06-2.06.94zm-11 1L8.5 8.5l.94-2.06 2.06-.94-2.06-.94L8.5 2.5l-.94 2.06-2.06.94zm10 10l.94 2.06.94-2.06 2.06-.94-2.06-.94-.94-2.06-.94 2.06-2.06.94z\"/><path d=\"M17.41 7.96l-1.37-1.37c-.4-.4-.92-.59-1.43-.59-.52 0-1.04.2-1.43.59L10.3 9.45l-7.72 7.72c-.78.78-.78 2.05 0 2.83L4 21.41c.39.39.9.59 1.41.59.51 0 1.02-.2 1.41-.59l7.78-7.78 2.81-2.81c.8-.78.8-2.07 0-2.86zM5.41 20L4 18.59l7.72-7.72 1.47 1.35L5.41 20z\"/>\n",
              "  </svg>\n",
              "      </button>\n",
              "      \n",
              "  <style>\n",
              "    .colab-df-container {\n",
              "      display:flex;\n",
              "      flex-wrap:wrap;\n",
              "      gap: 12px;\n",
              "    }\n",
              "\n",
              "    .colab-df-convert {\n",
              "      background-color: #E8F0FE;\n",
              "      border: none;\n",
              "      border-radius: 50%;\n",
              "      cursor: pointer;\n",
              "      display: none;\n",
              "      fill: #1967D2;\n",
              "      height: 32px;\n",
              "      padding: 0 0 0 0;\n",
              "      width: 32px;\n",
              "    }\n",
              "\n",
              "    .colab-df-convert:hover {\n",
              "      background-color: #E2EBFA;\n",
              "      box-shadow: 0px 1px 2px rgba(60, 64, 67, 0.3), 0px 1px 3px 1px rgba(60, 64, 67, 0.15);\n",
              "      fill: #174EA6;\n",
              "    }\n",
              "\n",
              "    [theme=dark] .colab-df-convert {\n",
              "      background-color: #3B4455;\n",
              "      fill: #D2E3FC;\n",
              "    }\n",
              "\n",
              "    [theme=dark] .colab-df-convert:hover {\n",
              "      background-color: #434B5C;\n",
              "      box-shadow: 0px 1px 3px 1px rgba(0, 0, 0, 0.15);\n",
              "      filter: drop-shadow(0px 1px 2px rgba(0, 0, 0, 0.3));\n",
              "      fill: #FFFFFF;\n",
              "    }\n",
              "  </style>\n",
              "\n",
              "      <script>\n",
              "        const buttonEl =\n",
              "          document.querySelector('#df-9218ba7c-9943-4fcc-adfa-8e4d01a158f4 button.colab-df-convert');\n",
              "        buttonEl.style.display =\n",
              "          google.colab.kernel.accessAllowed ? 'block' : 'none';\n",
              "\n",
              "        async function convertToInteractive(key) {\n",
              "          const element = document.querySelector('#df-9218ba7c-9943-4fcc-adfa-8e4d01a158f4');\n",
              "          const dataTable =\n",
              "            await google.colab.kernel.invokeFunction('convertToInteractive',\n",
              "                                                     [key], {});\n",
              "          if (!dataTable) return;\n",
              "\n",
              "          const docLinkHtml = 'Like what you see? Visit the ' +\n",
              "            '<a target=\"_blank\" href=https://colab.research.google.com/notebooks/data_table.ipynb>data table notebook</a>'\n",
              "            + ' to learn more about interactive tables.';\n",
              "          element.innerHTML = '';\n",
              "          dataTable['output_type'] = 'display_data';\n",
              "          await google.colab.output.renderOutput(dataTable, element);\n",
              "          const docLink = document.createElement('div');\n",
              "          docLink.innerHTML = docLinkHtml;\n",
              "          element.appendChild(docLink);\n",
              "        }\n",
              "      </script>\n",
              "    </div>\n",
              "  </div>\n",
              "  "
            ]
          },
          "metadata": {},
          "execution_count": 41
        }
      ]
    },
    {
      "cell_type": "code",
      "source": [
        "med_etanol.reset_index(inplace = True)"
      ],
      "metadata": {
        "id": "jdv9I_ho1LtI"
      },
      "execution_count": null,
      "outputs": []
    },
    {
      "cell_type": "code",
      "source": [
        "barWidth = 0.5\n",
        "plt.figure(figsize = (12,6))\n",
        "r1 = np.arange(len(med_etanol['Regiao - Sigla']))\n",
        "plt.bar(r1, med_etanol['Valor de Venda'], width = barWidth, align='center')\n",
        "plt.xticks(np.arange(len(med_etanol['Regiao - Sigla'])), med_etanol['Regiao - Sigla'].tolist())\n",
        "plt.ylabel('Preço de Venda (R$)')\n",
        "plt.ylim(3,6);"
      ],
      "metadata": {
        "colab": {
          "base_uri": "https://localhost:8080/",
          "height": 378
        },
        "id": "rj39XHJE1Qx4",
        "outputId": "889807ca-86b1-4c7d-d387-20a9b07a361e"
      },
      "execution_count": null,
      "outputs": [
        {
          "output_type": "display_data",
          "data": {
            "text/plain": [
              "<Figure size 864x432 with 1 Axes>"
            ],
            "image/png": "[encoded data removed]"
          },
          "metadata": {
            "needs_background": "light"
          }
        }
      ]
    },
    {
      "cell_type": "markdown",
      "source": [
        "É possível notar que a região sudeste vem logo em seguida da região centro-oeste com os menores valores de etanol. "
      ],
      "metadata": {
        "id": "HlVLPCeQ1r5R"
      }
    },
    {
      "cell_type": "markdown",
      "source": [
        "##<font color ='#DAA520'><b>9. Há alguma correlação entre o valor do combustível (gasolina e etanol) e a região onde ele é vendido?</b></font>\n",
        "\n",
        "Vendo a variação de preços de região para região, podemos nos perguntar se esses fatores influenciam nos preços dos combustíveis. Para isso, iremos calcular a correlação entre preço e região. \n"
      ],
      "metadata": {
        "id": "msobssRlfmp5"
      }
    },
    {
      "cell_type": "code",
      "source": [
        "valor_regiao = conj_dados[['Regiao - Sigla', 'Produto', 'Valor de Venda']]"
      ],
      "metadata": {
        "id": "dfEVy2j4g4i5"
      },
      "execution_count": null,
      "outputs": []
    },
    {
      "cell_type": "markdown",
      "source": [
        "Para calcular a correlação, tanto numericamente quanto para a execução do gráfico de *heatmap* precisamos que as varáveis sejam quantitativas, ou seja, que elas sejam representadas por um valor. Sabemos que são 5 as regiões, por isso iremos atribuir um valor de 0 a 4 para cada uma das regiões. "
      ],
      "metadata": {
        "id": "hv6tVE_I2Xlw"
      }
    },
    {
      "cell_type": "code",
      "source": [
        "def mapeando_regioes(df):\n",
        "  a = valor_regiao['Regiao - Sigla'].unique()\n",
        "  c = 0\n",
        "  for i in a:\n",
        "    df['Regiao - Sigla'] = df['Regiao - Sigla'].replace(i, c)\n",
        "    c = c +1\n",
        "\n",
        "mapeando_regioes(valor_regiao)\n"
      ],
      "metadata": {
        "colab": {
          "base_uri": "https://localhost:8080/"
        },
        "id": "4LcpH1z92ojp",
        "outputId": "252b95a4-8669-4955-9773-454388886f09"
      },
      "execution_count": null,
      "outputs": [
        {
          "output_type": "stream",
          "name": "stderr",
          "text": [
            "/usr/local/lib/python3.7/dist-packages/ipykernel_launcher.py:5: SettingWithCopyWarning: \n",
            "A value is trying to be set on a copy of a slice from a DataFrame.\n",
            "Try using .loc[row_indexer,col_indexer] = value instead\n",
            "\n",
            "See the caveats in the documentation: https://pandas.pydata.org/pandas-docs/stable/user_guide/indexing.html#returning-a-view-versus-a-copy\n",
            "  \"\"\"\n"
          ]
        }
      ]
    },
    {
      "cell_type": "markdown",
      "source": [
        "É necessário realizar o mesmo procedimento para os produtos. É sabido que exitem apenas 3 produtos diferentes no Dataset: Etanol, Gasolina e Gasolina Aditivada, mas para essa análise, separamos apenas em Etanol e Gasolina, uma vez que o valor da gasolina aditivada é muito semelhante ao da gasolina e varia sempre na mesma proporção."
      ],
      "metadata": {
        "id": "zkIVNF8Z3O3e"
      }
    },
    {
      "cell_type": "code",
      "source": [
        "valor_regiao['Produto'] = valor_regiao['Produto'].apply(lambda x: 1 if x == 'ETANOL' else 2 )"
      ],
      "metadata": {
        "colab": {
          "base_uri": "https://localhost:8080/"
        },
        "id": "cfTCXjOT3ddD",
        "outputId": "ee651f39-3196-4a96-e0d6-fd5959f546a9"
      },
      "execution_count": null,
      "outputs": [
        {
          "output_type": "stream",
          "name": "stderr",
          "text": [
            "/usr/local/lib/python3.7/dist-packages/ipykernel_launcher.py:1: SettingWithCopyWarning: \n",
            "A value is trying to be set on a copy of a slice from a DataFrame.\n",
            "Try using .loc[row_indexer,col_indexer] = value instead\n",
            "\n",
            "See the caveats in the documentation: https://pandas.pydata.org/pandas-docs/stable/user_guide/indexing.html#returning-a-view-versus-a-copy\n",
            "  \"\"\"Entry point for launching an IPython kernel.\n"
          ]
        }
      ]
    },
    {
      "cell_type": "code",
      "source": [
        "valor_regiao.head()"
      ],
      "metadata": {
        "colab": {
          "base_uri": "https://localhost:8080/",
          "height": 206
        },
        "id": "IRzZrl6M3put",
        "outputId": "789305d7-b50d-4d71-84f1-261a96464cdb"
      },
      "execution_count": null,
      "outputs": [
        {
          "output_type": "execute_result",
          "data": {
            "text/plain": [
              "   Regiao - Sigla  Produto  Valor de Venda\n",
              "0               0        2            7.48\n",
              "1               0        2            7.38\n",
              "2               0        1            5.99\n",
              "3               0        2            7.39\n",
              "4               1        2            6.49"
            ],
            "text/html": [
              "\n",
              "  <div id=\"df-77d97fa5-b73e-470b-b692-519bde381464\">\n",
              "    <div class=\"colab-df-container\">\n",
              "      <div>\n",
              "<style scoped>\n",
              "    .dataframe tbody tr th:only-of-type {\n",
              "        vertical-align: middle;\n",
              "    }\n",
              "\n",
              "    .dataframe tbody tr th {\n",
              "        vertical-align: top;\n",
              "    }\n",
              "\n",
              "    .dataframe thead th {\n",
              "        text-align: right;\n",
              "    }\n",
              "</style>\n",
              "<table border=\"1\" class=\"dataframe\">\n",
              "  <thead>\n",
              "    <tr style=\"text-align: right;\">\n",
              "      <th></th>\n",
              "      <th>Regiao - Sigla</th>\n",
              "      <th>Produto</th>\n",
              "      <th>Valor de Venda</th>\n",
              "    </tr>\n",
              "  </thead>\n",
              "  <tbody>\n",
              "    <tr>\n",
              "      <th>0</th>\n",
              "      <td>0</td>\n",
              "      <td>2</td>\n",
              "      <td>7.48</td>\n",
              "    </tr>\n",
              "    <tr>\n",
              "      <th>1</th>\n",
              "      <td>0</td>\n",
              "      <td>2</td>\n",
              "      <td>7.38</td>\n",
              "    </tr>\n",
              "    <tr>\n",
              "      <th>2</th>\n",
              "      <td>0</td>\n",
              "      <td>1</td>\n",
              "      <td>5.99</td>\n",
              "    </tr>\n",
              "    <tr>\n",
              "      <th>3</th>\n",
              "      <td>0</td>\n",
              "      <td>2</td>\n",
              "      <td>7.39</td>\n",
              "    </tr>\n",
              "    <tr>\n",
              "      <th>4</th>\n",
              "      <td>1</td>\n",
              "      <td>2</td>\n",
              "      <td>6.49</td>\n",
              "    </tr>\n",
              "  </tbody>\n",
              "</table>\n",
              "</div>\n",
              "      <button class=\"colab-df-convert\" onclick=\"convertToInteractive('df-77d97fa5-b73e-470b-b692-519bde381464')\"\n",
              "              title=\"Convert this dataframe to an interactive table.\"\n",
              "              style=\"display:none;\">\n",
              "        \n",
              "  <svg xmlns=\"http://www.w3.org/2000/svg\" height=\"24px\"viewBox=\"0 0 24 24\"\n",
              "       width=\"24px\">\n",
              "    <path d=\"M0 0h24v24H0V0z\" fill=\"none\"/>\n",
              "    <path d=\"M18.56 5.44l.94 2.06.94-2.06 2.06-.94-2.06-.94-.94-2.06-.94 2.06-2.06.94zm-11 1L8.5 8.5l.94-2.06 2.06-.94-2.06-.94L8.5 2.5l-.94 2.06-2.06.94zm10 10l.94 2.06.94-2.06 2.06-.94-2.06-.94-.94-2.06-.94 2.06-2.06.94z\"/><path d=\"M17.41 7.96l-1.37-1.37c-.4-.4-.92-.59-1.43-.59-.52 0-1.04.2-1.43.59L10.3 9.45l-7.72 7.72c-.78.78-.78 2.05 0 2.83L4 21.41c.39.39.9.59 1.41.59.51 0 1.02-.2 1.41-.59l7.78-7.78 2.81-2.81c.8-.78.8-2.07 0-2.86zM5.41 20L4 18.59l7.72-7.72 1.47 1.35L5.41 20z\"/>\n",
              "  </svg>\n",
              "      </button>\n",
              "      \n",
              "  <style>\n",
              "    .colab-df-container {\n",
              "      display:flex;\n",
              "      flex-wrap:wrap;\n",
              "      gap: 12px;\n",
              "    }\n",
              "\n",
              "    .colab-df-convert {\n",
              "      background-color: #E8F0FE;\n",
              "      border: none;\n",
              "      border-radius: 50%;\n",
              "      cursor: pointer;\n",
              "      display: none;\n",
              "      fill: #1967D2;\n",
              "      height: 32px;\n",
              "      padding: 0 0 0 0;\n",
              "      width: 32px;\n",
              "    }\n",
              "\n",
              "    .colab-df-convert:hover {\n",
              "      background-color: #E2EBFA;\n",
              "      box-shadow: 0px 1px 2px rgba(60, 64, 67, 0.3), 0px 1px 3px 1px rgba(60, 64, 67, 0.15);\n",
              "      fill: #174EA6;\n",
              "    }\n",
              "\n",
              "    [theme=dark] .colab-df-convert {\n",
              "      background-color: #3B4455;\n",
              "      fill: #D2E3FC;\n",
              "    }\n",
              "\n",
              "    [theme=dark] .colab-df-convert:hover {\n",
              "      background-color: #434B5C;\n",
              "      box-shadow: 0px 1px 3px 1px rgba(0, 0, 0, 0.15);\n",
              "      filter: drop-shadow(0px 1px 2px rgba(0, 0, 0, 0.3));\n",
              "      fill: #FFFFFF;\n",
              "    }\n",
              "  </style>\n",
              "\n",
              "      <script>\n",
              "        const buttonEl =\n",
              "          document.querySelector('#df-77d97fa5-b73e-470b-b692-519bde381464 button.colab-df-convert');\n",
              "        buttonEl.style.display =\n",
              "          google.colab.kernel.accessAllowed ? 'block' : 'none';\n",
              "\n",
              "        async function convertToInteractive(key) {\n",
              "          const element = document.querySelector('#df-77d97fa5-b73e-470b-b692-519bde381464');\n",
              "          const dataTable =\n",
              "            await google.colab.kernel.invokeFunction('convertToInteractive',\n",
              "                                                     [key], {});\n",
              "          if (!dataTable) return;\n",
              "\n",
              "          const docLinkHtml = 'Like what you see? Visit the ' +\n",
              "            '<a target=\"_blank\" href=https://colab.research.google.com/notebooks/data_table.ipynb>data table notebook</a>'\n",
              "            + ' to learn more about interactive tables.';\n",
              "          element.innerHTML = '';\n",
              "          dataTable['output_type'] = 'display_data';\n",
              "          await google.colab.output.renderOutput(dataTable, element);\n",
              "          const docLink = document.createElement('div');\n",
              "          docLink.innerHTML = docLinkHtml;\n",
              "          element.appendChild(docLink);\n",
              "        }\n",
              "      </script>\n",
              "    </div>\n",
              "  </div>\n",
              "  "
            ]
          },
          "metadata": {},
          "execution_count": 47
        }
      ]
    },
    {
      "cell_type": "markdown",
      "source": [
        "Com os dados devidamente mapeados, podemos calcular a tabela de correlação."
      ],
      "metadata": {
        "id": "snmOOR083tfz"
      }
    },
    {
      "cell_type": "code",
      "source": [
        "corr = valor_regiao.corr()\n",
        "corr"
      ],
      "metadata": {
        "colab": {
          "base_uri": "https://localhost:8080/",
          "height": 143
        },
        "id": "9gv45yli30Ta",
        "outputId": "04c9dedb-670e-4805-966e-9fbb920f8aff"
      },
      "execution_count": null,
      "outputs": [
        {
          "output_type": "execute_result",
          "data": {
            "text/plain": [
              "                Regiao - Sigla   Produto  Valor de Venda\n",
              "Regiao - Sigla        1.000000  0.095309        0.279721\n",
              "Produto               0.095309  1.000000        0.703472\n",
              "Valor de Venda        0.279721  0.703472        1.000000"
            ],
            "text/html": [
              "\n",
              "  <div id=\"df-fb03ea4f-4ffc-43d2-8c29-eb44e5d6d5a4\">\n",
              "    <div class=\"colab-df-container\">\n",
              "      <div>\n",
              "<style scoped>\n",
              "    .dataframe tbody tr th:only-of-type {\n",
              "        vertical-align: middle;\n",
              "    }\n",
              "\n",
              "    .dataframe tbody tr th {\n",
              "        vertical-align: top;\n",
              "    }\n",
              "\n",
              "    .dataframe thead th {\n",
              "        text-align: right;\n",
              "    }\n",
              "</style>\n",
              "<table border=\"1\" class=\"dataframe\">\n",
              "  <thead>\n",
              "    <tr style=\"text-align: right;\">\n",
              "      <th></th>\n",
              "      <th>Regiao - Sigla</th>\n",
              "      <th>Produto</th>\n",
              "      <th>Valor de Venda</th>\n",
              "    </tr>\n",
              "  </thead>\n",
              "  <tbody>\n",
              "    <tr>\n",
              "      <th>Regiao - Sigla</th>\n",
              "      <td>1.000000</td>\n",
              "      <td>0.095309</td>\n",
              "      <td>0.279721</td>\n",
              "    </tr>\n",
              "    <tr>\n",
              "      <th>Produto</th>\n",
              "      <td>0.095309</td>\n",
              "      <td>1.000000</td>\n",
              "      <td>0.703472</td>\n",
              "    </tr>\n",
              "    <tr>\n",
              "      <th>Valor de Venda</th>\n",
              "      <td>0.279721</td>\n",
              "      <td>0.703472</td>\n",
              "      <td>1.000000</td>\n",
              "    </tr>\n",
              "  </tbody>\n",
              "</table>\n",
              "</div>\n",
              "      <button class=\"colab-df-convert\" onclick=\"convertToInteractive('df-fb03ea4f-4ffc-43d2-8c29-eb44e5d6d5a4')\"\n",
              "              title=\"Convert this dataframe to an interactive table.\"\n",
              "              style=\"display:none;\">\n",
              "        \n",
              "  <svg xmlns=\"http://www.w3.org/2000/svg\" height=\"24px\"viewBox=\"0 0 24 24\"\n",
              "       width=\"24px\">\n",
              "    <path d=\"M0 0h24v24H0V0z\" fill=\"none\"/>\n",
              "    <path d=\"M18.56 5.44l.94 2.06.94-2.06 2.06-.94-2.06-.94-.94-2.06-.94 2.06-2.06.94zm-11 1L8.5 8.5l.94-2.06 2.06-.94-2.06-.94L8.5 2.5l-.94 2.06-2.06.94zm10 10l.94 2.06.94-2.06 2.06-.94-2.06-.94-.94-2.06-.94 2.06-2.06.94z\"/><path d=\"M17.41 7.96l-1.37-1.37c-.4-.4-.92-.59-1.43-.59-.52 0-1.04.2-1.43.59L10.3 9.45l-7.72 7.72c-.78.78-.78 2.05 0 2.83L4 21.41c.39.39.9.59 1.41.59.51 0 1.02-.2 1.41-.59l7.78-7.78 2.81-2.81c.8-.78.8-2.07 0-2.86zM5.41 20L4 18.59l7.72-7.72 1.47 1.35L5.41 20z\"/>\n",
              "  </svg>\n",
              "      </button>\n",
              "      \n",
              "  <style>\n",
              "    .colab-df-container {\n",
              "      display:flex;\n",
              "      flex-wrap:wrap;\n",
              "      gap: 12px;\n",
              "    }\n",
              "\n",
              "    .colab-df-convert {\n",
              "      background-color: #E8F0FE;\n",
              "      border: none;\n",
              "      border-radius: 50%;\n",
              "      cursor: pointer;\n",
              "      display: none;\n",
              "      fill: #1967D2;\n",
              "      height: 32px;\n",
              "      padding: 0 0 0 0;\n",
              "      width: 32px;\n",
              "    }\n",
              "\n",
              "    .colab-df-convert:hover {\n",
              "      background-color: #E2EBFA;\n",
              "      box-shadow: 0px 1px 2px rgba(60, 64, 67, 0.3), 0px 1px 3px 1px rgba(60, 64, 67, 0.15);\n",
              "      fill: #174EA6;\n",
              "    }\n",
              "\n",
              "    [theme=dark] .colab-df-convert {\n",
              "      background-color: #3B4455;\n",
              "      fill: #D2E3FC;\n",
              "    }\n",
              "\n",
              "    [theme=dark] .colab-df-convert:hover {\n",
              "      background-color: #434B5C;\n",
              "      box-shadow: 0px 1px 3px 1px rgba(0, 0, 0, 0.15);\n",
              "      filter: drop-shadow(0px 1px 2px rgba(0, 0, 0, 0.3));\n",
              "      fill: #FFFFFF;\n",
              "    }\n",
              "  </style>\n",
              "\n",
              "      <script>\n",
              "        const buttonEl =\n",
              "          document.querySelector('#df-fb03ea4f-4ffc-43d2-8c29-eb44e5d6d5a4 button.colab-df-convert');\n",
              "        buttonEl.style.display =\n",
              "          google.colab.kernel.accessAllowed ? 'block' : 'none';\n",
              "\n",
              "        async function convertToInteractive(key) {\n",
              "          const element = document.querySelector('#df-fb03ea4f-4ffc-43d2-8c29-eb44e5d6d5a4');\n",
              "          const dataTable =\n",
              "            await google.colab.kernel.invokeFunction('convertToInteractive',\n",
              "                                                     [key], {});\n",
              "          if (!dataTable) return;\n",
              "\n",
              "          const docLinkHtml = 'Like what you see? Visit the ' +\n",
              "            '<a target=\"_blank\" href=https://colab.research.google.com/notebooks/data_table.ipynb>data table notebook</a>'\n",
              "            + ' to learn more about interactive tables.';\n",
              "          element.innerHTML = '';\n",
              "          dataTable['output_type'] = 'display_data';\n",
              "          await google.colab.output.renderOutput(dataTable, element);\n",
              "          const docLink = document.createElement('div');\n",
              "          docLink.innerHTML = docLinkHtml;\n",
              "          element.appendChild(docLink);\n",
              "        }\n",
              "      </script>\n",
              "    </div>\n",
              "  </div>\n",
              "  "
            ]
          },
          "metadata": {},
          "execution_count": 48
        }
      ]
    },
    {
      "cell_type": "markdown",
      "source": [
        "Pela tabela, podemos inferir que há uma correlação alta entre o produto e o valor de venda, mas não enre o valor e a região."
      ],
      "metadata": {
        "id": "tCE4HNZH4DLg"
      }
    },
    {
      "cell_type": "code",
      "source": [
        "plot1 = sn.heatmap(corr, annot = True, fmt=\".2f\", linewidths=.6);"
      ],
      "metadata": {
        "colab": {
          "base_uri": "https://localhost:8080/",
          "height": 269
        },
        "id": "Xr2kqawn4Pxm",
        "outputId": "8d34cc6e-87d3-430f-e86f-44f430f1212c"
      },
      "execution_count": null,
      "outputs": [
        {
          "output_type": "display_data",
          "data": {
            "text/plain": [
              "<Figure size 432x288 with 2 Axes>"
            ],
            "image/png": "[encoded data removed]"
          },
          "metadata": {
            "needs_background": "light"
          }
        }
      ]
    },
    {
      "cell_type": "markdown",
      "source": [
        "Pelo heatmap fica evidente que a correlação entre produto e região é baixíssima. Portanto, a Região não influencia no preço do combustível."
      ],
      "metadata": {
        "id": "nLkl_Y8l4SEk"
      }
    },
    {
      "cell_type": "markdown",
      "source": [
        "##<font color ='#DAA520'><b>10. Há alguma correlação entre o valor do combustível (gasolina e etanol) e a bandeira que vende ele?</b></font>\n",
        "\n",
        "Podemos pensar também se existe dependência entre outras duas variáveis, por exemplo:\n",
        "\n",
        "Mais uma vez, vamos selecionar em um novo *subset* apenas as colunar relevantes para a análise: Bandeira, Produto e Valor de Venda."
      ],
      "metadata": {
        "id": "bMGCpE6ifdsN"
      }
    },
    {
      "cell_type": "code",
      "source": [
        "valor_bandeira = conj_dados[['Bandeira', 'Produto', 'Valor de Venda']]"
      ],
      "metadata": {
        "id": "d20F8PQbnDsA"
      },
      "execution_count": null,
      "outputs": []
    },
    {
      "cell_type": "markdown",
      "source": [
        "O procedimento é identico à analise anterior. A diferença é que existem 49 bandeiras diferentes. Iremos atribuir um valor de 0 a 48 para cada uma dessas bandeiras diferentes. E para isso criamos uma função:"
      ],
      "metadata": {
        "id": "UTlk2jTOJS9h"
      }
    },
    {
      "cell_type": "code",
      "source": [
        "a = valor_bandeira['Bandeira'].unique()\n",
        "len(a)"
      ],
      "metadata": {
        "id": "IPX8jmmLoF4h",
        "colab": {
          "base_uri": "https://localhost:8080/"
        },
        "outputId": "b130bf06-cd68-4ea6-ec5c-a71329640591"
      },
      "execution_count": null,
      "outputs": [
        {
          "output_type": "execute_result",
          "data": {
            "text/plain": [
              "49"
            ]
          },
          "metadata": {},
          "execution_count": 51
        }
      ]
    },
    {
      "cell_type": "code",
      "source": [
        "def mapeando(df):\n",
        "  a = valor_bandeira['Bandeira'].unique()\n",
        "  c = 0\n",
        "  for i in a:\n",
        "    df['Bandeira'] = df['Bandeira'].replace(i, c)\n",
        "    c = c +1\n",
        "\n",
        "mapeando(valor_bandeira)\n"
      ],
      "metadata": {
        "id": "KGMI21z9otHo",
        "colab": {
          "base_uri": "https://localhost:8080/"
        },
        "outputId": "f0ab2e63-7524-438b-c2d6-7ab61d334125"
      },
      "execution_count": null,
      "outputs": [
        {
          "output_type": "stream",
          "name": "stderr",
          "text": [
            "/usr/local/lib/python3.7/dist-packages/ipykernel_launcher.py:5: SettingWithCopyWarning: \n",
            "A value is trying to be set on a copy of a slice from a DataFrame.\n",
            "Try using .loc[row_indexer,col_indexer] = value instead\n",
            "\n",
            "See the caveats in the documentation: https://pandas.pydata.org/pandas-docs/stable/user_guide/indexing.html#returning-a-view-versus-a-copy\n",
            "  \"\"\"\n"
          ]
        }
      ]
    },
    {
      "cell_type": "markdown",
      "source": [
        "Abaixo podemos ver que os valores para \"Bandeira\" agora são numéricos:"
      ],
      "metadata": {
        "id": "3qXqWGlMKNhK"
      }
    },
    {
      "cell_type": "code",
      "source": [
        "valor_bandeira['Bandeira'].unique()"
      ],
      "metadata": {
        "id": "gV4NZzIVqjmd",
        "colab": {
          "base_uri": "https://localhost:8080/"
        },
        "outputId": "03a8ab1e-8644-4fb4-e08d-fa5cefb7cbae"
      },
      "execution_count": null,
      "outputs": [
        {
          "output_type": "execute_result",
          "data": {
            "text/plain": [
              "array([ 0,  1,  2,  3,  4,  5,  6,  7,  8,  9, 10, 11, 12, 13, 14, 15, 16,\n",
              "       17, 18, 19, 20, 21, 22, 23, 24, 25, 26, 27, 28, 29, 30, 31, 32, 33,\n",
              "       34, 35, 36, 37, 38, 39, 40, 41, 42, 43, 44, 45, 46, 47, 48])"
            ]
          },
          "metadata": {},
          "execution_count": 53
        }
      ]
    },
    {
      "cell_type": "code",
      "source": [
        "valor_bandeira['Produto'] = valor_bandeira['Produto'].apply(lambda x: 1 if x == 'ETANOL' else 2 )\n",
        "valor_bandeira"
      ],
      "metadata": {
        "id": "fnU4oeKKoAXG",
        "colab": {
          "base_uri": "https://localhost:8080/",
          "height": 528
        },
        "outputId": "f0f8f258-6b62-4cd9-d414-a30a8beee18a"
      },
      "execution_count": null,
      "outputs": [
        {
          "output_type": "stream",
          "name": "stderr",
          "text": [
            "/usr/local/lib/python3.7/dist-packages/ipykernel_launcher.py:1: SettingWithCopyWarning: \n",
            "A value is trying to be set on a copy of a slice from a DataFrame.\n",
            "Try using .loc[row_indexer,col_indexer] = value instead\n",
            "\n",
            "See the caveats in the documentation: https://pandas.pydata.org/pandas-docs/stable/user_guide/indexing.html#returning-a-view-versus-a-copy\n",
            "  \"\"\"Entry point for launching an IPython kernel.\n"
          ]
        },
        {
          "output_type": "execute_result",
          "data": {
            "text/plain": [
              "        Bandeira  Produto  Valor de Venda\n",
              "0              0        2            7.48\n",
              "1              0        2            7.38\n",
              "2              0        1            5.99\n",
              "3              0        2            7.39\n",
              "4              1        2            6.49\n",
              "...          ...      ...             ...\n",
              "127171         1        1            3.99\n",
              "127172         1        2            5.19\n",
              "127173         1        2            5.19\n",
              "127174         2        2            5.27\n",
              "127175         2        1            3.67\n",
              "\n",
              "[127176 rows x 3 columns]"
            ],
            "text/html": [
              "\n",
              "  <div id=\"df-614d0000-82a2-497f-9b54-243c6f70af8f\">\n",
              "    <div class=\"colab-df-container\">\n",
              "      <div>\n",
              "<style scoped>\n",
              "    .dataframe tbody tr th:only-of-type {\n",
              "        vertical-align: middle;\n",
              "    }\n",
              "\n",
              "    .dataframe tbody tr th {\n",
              "        vertical-align: top;\n",
              "    }\n",
              "\n",
              "    .dataframe thead th {\n",
              "        text-align: right;\n",
              "    }\n",
              "</style>\n",
              "<table border=\"1\" class=\"dataframe\">\n",
              "  <thead>\n",
              "    <tr style=\"text-align: right;\">\n",
              "      <th></th>\n",
              "      <th>Bandeira</th>\n",
              "      <th>Produto</th>\n",
              "      <th>Valor de Venda</th>\n",
              "    </tr>\n",
              "  </thead>\n",
              "  <tbody>\n",
              "    <tr>\n",
              "      <th>0</th>\n",
              "      <td>0</td>\n",
              "      <td>2</td>\n",
              "      <td>7.48</td>\n",
              "    </tr>\n",
              "    <tr>\n",
              "      <th>1</th>\n",
              "      <td>0</td>\n",
              "      <td>2</td>\n",
              "      <td>7.38</td>\n",
              "    </tr>\n",
              "    <tr>\n",
              "      <th>2</th>\n",
              "      <td>0</td>\n",
              "      <td>1</td>\n",
              "      <td>5.99</td>\n",
              "    </tr>\n",
              "    <tr>\n",
              "      <th>3</th>\n",
              "      <td>0</td>\n",
              "      <td>2</td>\n",
              "      <td>7.39</td>\n",
              "    </tr>\n",
              "    <tr>\n",
              "      <th>4</th>\n",
              "      <td>1</td>\n",
              "      <td>2</td>\n",
              "      <td>6.49</td>\n",
              "    </tr>\n",
              "    <tr>\n",
              "      <th>...</th>\n",
              "      <td>...</td>\n",
              "      <td>...</td>\n",
              "      <td>...</td>\n",
              "    </tr>\n",
              "    <tr>\n",
              "      <th>127171</th>\n",
              "      <td>1</td>\n",
              "      <td>1</td>\n",
              "      <td>3.99</td>\n",
              "    </tr>\n",
              "    <tr>\n",
              "      <th>127172</th>\n",
              "      <td>1</td>\n",
              "      <td>2</td>\n",
              "      <td>5.19</td>\n",
              "    </tr>\n",
              "    <tr>\n",
              "      <th>127173</th>\n",
              "      <td>1</td>\n",
              "      <td>2</td>\n",
              "      <td>5.19</td>\n",
              "    </tr>\n",
              "    <tr>\n",
              "      <th>127174</th>\n",
              "      <td>2</td>\n",
              "      <td>2</td>\n",
              "      <td>5.27</td>\n",
              "    </tr>\n",
              "    <tr>\n",
              "      <th>127175</th>\n",
              "      <td>2</td>\n",
              "      <td>1</td>\n",
              "      <td>3.67</td>\n",
              "    </tr>\n",
              "  </tbody>\n",
              "</table>\n",
              "<p>127176 rows × 3 columns</p>\n",
              "</div>\n",
              "      <button class=\"colab-df-convert\" onclick=\"convertToInteractive('df-614d0000-82a2-497f-9b54-243c6f70af8f')\"\n",
              "              title=\"Convert this dataframe to an interactive table.\"\n",
              "              style=\"display:none;\">\n",
              "        \n",
              "  <svg xmlns=\"http://www.w3.org/2000/svg\" height=\"24px\"viewBox=\"0 0 24 24\"\n",
              "       width=\"24px\">\n",
              "    <path d=\"M0 0h24v24H0V0z\" fill=\"none\"/>\n",
              "    <path d=\"M18.56 5.44l.94 2.06.94-2.06 2.06-.94-2.06-.94-.94-2.06-.94 2.06-2.06.94zm-11 1L8.5 8.5l.94-2.06 2.06-.94-2.06-.94L8.5 2.5l-.94 2.06-2.06.94zm10 10l.94 2.06.94-2.06 2.06-.94-2.06-.94-.94-2.06-.94 2.06-2.06.94z\"/><path d=\"M17.41 7.96l-1.37-1.37c-.4-.4-.92-.59-1.43-.59-.52 0-1.04.2-1.43.59L10.3 9.45l-7.72 7.72c-.78.78-.78 2.05 0 2.83L4 21.41c.39.39.9.59 1.41.59.51 0 1.02-.2 1.41-.59l7.78-7.78 2.81-2.81c.8-.78.8-2.07 0-2.86zM5.41 20L4 18.59l7.72-7.72 1.47 1.35L5.41 20z\"/>\n",
              "  </svg>\n",
              "      </button>\n",
              "      \n",
              "  <style>\n",
              "    .colab-df-container {\n",
              "      display:flex;\n",
              "      flex-wrap:wrap;\n",
              "      gap: 12px;\n",
              "    }\n",
              "\n",
              "    .colab-df-convert {\n",
              "      background-color: #E8F0FE;\n",
              "      border: none;\n",
              "      border-radius: 50%;\n",
              "      cursor: pointer;\n",
              "      display: none;\n",
              "      fill: #1967D2;\n",
              "      height: 32px;\n",
              "      padding: 0 0 0 0;\n",
              "      width: 32px;\n",
              "    }\n",
              "\n",
              "    .colab-df-convert:hover {\n",
              "      background-color: #E2EBFA;\n",
              "      box-shadow: 0px 1px 2px rgba(60, 64, 67, 0.3), 0px 1px 3px 1px rgba(60, 64, 67, 0.15);\n",
              "      fill: #174EA6;\n",
              "    }\n",
              "\n",
              "    [theme=dark] .colab-df-convert {\n",
              "      background-color: #3B4455;\n",
              "      fill: #D2E3FC;\n",
              "    }\n",
              "\n",
              "    [theme=dark] .colab-df-convert:hover {\n",
              "      background-color: #434B5C;\n",
              "      box-shadow: 0px 1px 3px 1px rgba(0, 0, 0, 0.15);\n",
              "      filter: drop-shadow(0px 1px 2px rgba(0, 0, 0, 0.3));\n",
              "      fill: #FFFFFF;\n",
              "    }\n",
              "  </style>\n",
              "\n",
              "      <script>\n",
              "        const buttonEl =\n",
              "          document.querySelector('#df-614d0000-82a2-497f-9b54-243c6f70af8f button.colab-df-convert');\n",
              "        buttonEl.style.display =\n",
              "          google.colab.kernel.accessAllowed ? 'block' : 'none';\n",
              "\n",
              "        async function convertToInteractive(key) {\n",
              "          const element = document.querySelector('#df-614d0000-82a2-497f-9b54-243c6f70af8f');\n",
              "          const dataTable =\n",
              "            await google.colab.kernel.invokeFunction('convertToInteractive',\n",
              "                                                     [key], {});\n",
              "          if (!dataTable) return;\n",
              "\n",
              "          const docLinkHtml = 'Like what you see? Visit the ' +\n",
              "            '<a target=\"_blank\" href=https://colab.research.google.com/notebooks/data_table.ipynb>data table notebook</a>'\n",
              "            + ' to learn more about interactive tables.';\n",
              "          element.innerHTML = '';\n",
              "          dataTable['output_type'] = 'display_data';\n",
              "          await google.colab.output.renderOutput(dataTable, element);\n",
              "          const docLink = document.createElement('div');\n",
              "          docLink.innerHTML = docLinkHtml;\n",
              "          element.appendChild(docLink);\n",
              "        }\n",
              "      </script>\n",
              "    </div>\n",
              "  </div>\n",
              "  "
            ]
          },
          "metadata": {},
          "execution_count": 54
        }
      ]
    },
    {
      "cell_type": "markdown",
      "source": [
        "Com os dados prontos, podemos calcular a tabela de correlação entre as varáveis"
      ],
      "metadata": {
        "id": "rvIRdKdiKwOg"
      }
    },
    {
      "cell_type": "code",
      "source": [
        "corr = valor_bandeira.corr()\n",
        "corr"
      ],
      "metadata": {
        "id": "sKE8pAdOnUGw",
        "colab": {
          "base_uri": "https://localhost:8080/",
          "height": 143
        },
        "outputId": "28b122e3-faec-4386-de73-353bf277a89f"
      },
      "execution_count": null,
      "outputs": [
        {
          "output_type": "execute_result",
          "data": {
            "text/plain": [
              "                Bandeira   Produto  Valor de Venda\n",
              "Bandeira        1.000000  0.016663        0.035793\n",
              "Produto         0.016663  1.000000        0.703472\n",
              "Valor de Venda  0.035793  0.703472        1.000000"
            ],
            "text/html": [
              "\n",
              "  <div id=\"df-55d93698-2941-4f55-85d2-2655f7c99adb\">\n",
              "    <div class=\"colab-df-container\">\n",
              "      <div>\n",
              "<style scoped>\n",
              "    .dataframe tbody tr th:only-of-type {\n",
              "        vertical-align: middle;\n",
              "    }\n",
              "\n",
              "    .dataframe tbody tr th {\n",
              "        vertical-align: top;\n",
              "    }\n",
              "\n",
              "    .dataframe thead th {\n",
              "        text-align: right;\n",
              "    }\n",
              "</style>\n",
              "<table border=\"1\" class=\"dataframe\">\n",
              "  <thead>\n",
              "    <tr style=\"text-align: right;\">\n",
              "      <th></th>\n",
              "      <th>Bandeira</th>\n",
              "      <th>Produto</th>\n",
              "      <th>Valor de Venda</th>\n",
              "    </tr>\n",
              "  </thead>\n",
              "  <tbody>\n",
              "    <tr>\n",
              "      <th>Bandeira</th>\n",
              "      <td>1.000000</td>\n",
              "      <td>0.016663</td>\n",
              "      <td>0.035793</td>\n",
              "    </tr>\n",
              "    <tr>\n",
              "      <th>Produto</th>\n",
              "      <td>0.016663</td>\n",
              "      <td>1.000000</td>\n",
              "      <td>0.703472</td>\n",
              "    </tr>\n",
              "    <tr>\n",
              "      <th>Valor de Venda</th>\n",
              "      <td>0.035793</td>\n",
              "      <td>0.703472</td>\n",
              "      <td>1.000000</td>\n",
              "    </tr>\n",
              "  </tbody>\n",
              "</table>\n",
              "</div>\n",
              "      <button class=\"colab-df-convert\" onclick=\"convertToInteractive('df-55d93698-2941-4f55-85d2-2655f7c99adb')\"\n",
              "              title=\"Convert this dataframe to an interactive table.\"\n",
              "              style=\"display:none;\">\n",
              "        \n",
              "  <svg xmlns=\"http://www.w3.org/2000/svg\" height=\"24px\"viewBox=\"0 0 24 24\"\n",
              "       width=\"24px\">\n",
              "    <path d=\"M0 0h24v24H0V0z\" fill=\"none\"/>\n",
              "    <path d=\"M18.56 5.44l.94 2.06.94-2.06 2.06-.94-2.06-.94-.94-2.06-.94 2.06-2.06.94zm-11 1L8.5 8.5l.94-2.06 2.06-.94-2.06-.94L8.5 2.5l-.94 2.06-2.06.94zm10 10l.94 2.06.94-2.06 2.06-.94-2.06-.94-.94-2.06-.94 2.06-2.06.94z\"/><path d=\"M17.41 7.96l-1.37-1.37c-.4-.4-.92-.59-1.43-.59-.52 0-1.04.2-1.43.59L10.3 9.45l-7.72 7.72c-.78.78-.78 2.05 0 2.83L4 21.41c.39.39.9.59 1.41.59.51 0 1.02-.2 1.41-.59l7.78-7.78 2.81-2.81c.8-.78.8-2.07 0-2.86zM5.41 20L4 18.59l7.72-7.72 1.47 1.35L5.41 20z\"/>\n",
              "  </svg>\n",
              "      </button>\n",
              "      \n",
              "  <style>\n",
              "    .colab-df-container {\n",
              "      display:flex;\n",
              "      flex-wrap:wrap;\n",
              "      gap: 12px;\n",
              "    }\n",
              "\n",
              "    .colab-df-convert {\n",
              "      background-color: #E8F0FE;\n",
              "      border: none;\n",
              "      border-radius: 50%;\n",
              "      cursor: pointer;\n",
              "      display: none;\n",
              "      fill: #1967D2;\n",
              "      height: 32px;\n",
              "      padding: 0 0 0 0;\n",
              "      width: 32px;\n",
              "    }\n",
              "\n",
              "    .colab-df-convert:hover {\n",
              "      background-color: #E2EBFA;\n",
              "      box-shadow: 0px 1px 2px rgba(60, 64, 67, 0.3), 0px 1px 3px 1px rgba(60, 64, 67, 0.15);\n",
              "      fill: #174EA6;\n",
              "    }\n",
              "\n",
              "    [theme=dark] .colab-df-convert {\n",
              "      background-color: #3B4455;\n",
              "      fill: #D2E3FC;\n",
              "    }\n",
              "\n",
              "    [theme=dark] .colab-df-convert:hover {\n",
              "      background-color: #434B5C;\n",
              "      box-shadow: 0px 1px 3px 1px rgba(0, 0, 0, 0.15);\n",
              "      filter: drop-shadow(0px 1px 2px rgba(0, 0, 0, 0.3));\n",
              "      fill: #FFFFFF;\n",
              "    }\n",
              "  </style>\n",
              "\n",
              "      <script>\n",
              "        const buttonEl =\n",
              "          document.querySelector('#df-55d93698-2941-4f55-85d2-2655f7c99adb button.colab-df-convert');\n",
              "        buttonEl.style.display =\n",
              "          google.colab.kernel.accessAllowed ? 'block' : 'none';\n",
              "\n",
              "        async function convertToInteractive(key) {\n",
              "          const element = document.querySelector('#df-55d93698-2941-4f55-85d2-2655f7c99adb');\n",
              "          const dataTable =\n",
              "            await google.colab.kernel.invokeFunction('convertToInteractive',\n",
              "                                                     [key], {});\n",
              "          if (!dataTable) return;\n",
              "\n",
              "          const docLinkHtml = 'Like what you see? Visit the ' +\n",
              "            '<a target=\"_blank\" href=https://colab.research.google.com/notebooks/data_table.ipynb>data table notebook</a>'\n",
              "            + ' to learn more about interactive tables.';\n",
              "          element.innerHTML = '';\n",
              "          dataTable['output_type'] = 'display_data';\n",
              "          await google.colab.output.renderOutput(dataTable, element);\n",
              "          const docLink = document.createElement('div');\n",
              "          docLink.innerHTML = docLinkHtml;\n",
              "          element.appendChild(docLink);\n",
              "        }\n",
              "      </script>\n",
              "    </div>\n",
              "  </div>\n",
              "  "
            ]
          },
          "metadata": {},
          "execution_count": 55
        }
      ]
    },
    {
      "cell_type": "markdown",
      "source": [
        "Podemos observar que existe uma correlação entre o valor de venda e o do produto, como é de se esperar, uma vez que o valor do etanol e da gasolina são bem diferentes, mas não existe correlação significativa entre o valor de venda e a bandeira (0.03). A vizualização em forma de *heatmap* pode ser observada logo abaixo"
      ],
      "metadata": {
        "id": "UGrBmLddLCtY"
      }
    },
    {
      "cell_type": "code",
      "source": [
        "plot1 = sn.heatmap(corr, annot = True, fmt=\".2f\", linewidths=.6);"
      ],
      "metadata": {
        "id": "gnzc59S8CvN7",
        "colab": {
          "base_uri": "https://localhost:8080/",
          "height": 269
        },
        "outputId": "b69af68a-e3ab-4e54-f916-9d0b522618f5"
      },
      "execution_count": null,
      "outputs": [
        {
          "output_type": "display_data",
          "data": {
            "text/plain": [
              "<Figure size 432x288 with 2 Axes>"
            ],
            "image/png": "[encoded data removed]"
          },
          "metadata": {
            "needs_background": "light"
          }
        }
      ]
    },
    {
      "cell_type": "markdown",
      "source": [
        "Isso nos leva a concluir que o preço da gasolina e do etanol não varia significativamente de acordo com a bandeira que o vende. "
      ],
      "metadata": {
        "id": "00d8ociSLhAi"
      }
    },
    {
      "cell_type": "markdown",
      "source": [
        "#<font color ='#DAA520'><b>Outras perguntas que nos permitem tirar mais dados relevantes do *dataset* 👩‍💻</b></font>"
      ],
      "metadata": {
        "id": "M7LRahnlDk3v"
      }
    },
    {
      "cell_type": "markdown",
      "source": [
        "##<font color ='#DAA520'><b>11. Quais os estados que valem mais a pena para abastecer com gasolina? E com etanol?</b></font>\n",
        "\n",
        "Segundo o Inmetro, existe um cálculo tomado como padrão para saber se o álcool leva vantagem sobre a gasolina. O cálculo considera o preço do litro do álcool dividido pelo preço da gasolina deve ser igual ou inferior a 0,7 a 70%. Para esse cálculo, consideraremos as medias de preço por estado nos meses de julho e agosto. "
      ],
      "metadata": {
        "id": "7STja0z4E02d"
      }
    },
    {
      "cell_type": "code",
      "source": [
        "preco_medio_estado= conj_dados.groupby(['Data da Coleta', 'Estado - Sigla', 'Produto']).mean('Valor de Venda')\n",
        "preco_medio_estado.reset_index(inplace = True)\n",
        "preco_medio_estado['Mês'] = preco_medio_estado['Data da Coleta'].dt.month\n",
        "preco_medio_estado_mes = preco_medio_estado.groupby(['Mês', 'Estado - Sigla', 'Produto']).mean('Valor de Venda')\n",
        "preco_medio_estado_mes.reset_index(inplace = True)\n",
        "preco_medio_estado_mes.sort_values(['Mês', 'Estado - Sigla'])"
      ],
      "metadata": {
        "colab": {
          "base_uri": "https://localhost:8080/",
          "height": 424
        },
        "id": "Ewhkcc03XjW3",
        "outputId": "12b31747-c9e6-4f0e-b990-76a5f2b5f3bd"
      },
      "execution_count": null,
      "outputs": [
        {
          "output_type": "execute_result",
          "data": {
            "text/plain": [
              "     Mês Estado - Sigla             Produto  Valor de Venda\n",
              "0      7             AC              ETANOL        5.681418\n",
              "1      7             AC            GASOLINA        6.474007\n",
              "2      7             AC  GASOLINA ADITIVADA        6.510219\n",
              "3      7             AL              ETANOL        5.562701\n",
              "4      7             AL            GASOLINA        6.381061\n",
              "..   ...            ...                 ...             ...\n",
              "157    8             SP            GASOLINA        5.293588\n",
              "158    8             SP  GASOLINA ADITIVADA        5.516719\n",
              "159    8             TO              ETANOL        4.916533\n",
              "160    8             TO            GASOLINA        5.719055\n",
              "161    8             TO  GASOLINA ADITIVADA        5.874228\n",
              "\n",
              "[162 rows x 4 columns]"
            ],
            "text/html": [
              "\n",
              "  <div id=\"df-1c411139-ccf5-45b3-a421-761c0e3ba2d2\">\n",
              "    <div class=\"colab-df-container\">\n",
              "      <div>\n",
              "<style scoped>\n",
              "    .dataframe tbody tr th:only-of-type {\n",
              "        vertical-align: middle;\n",
              "    }\n",
              "\n",
              "    .dataframe tbody tr th {\n",
              "        vertical-align: top;\n",
              "    }\n",
              "\n",
              "    .dataframe thead th {\n",
              "        text-align: right;\n",
              "    }\n",
              "</style>\n",
              "<table border=\"1\" class=\"dataframe\">\n",
              "  <thead>\n",
              "    <tr style=\"text-align: right;\">\n",
              "      <th></th>\n",
              "      <th>Mês</th>\n",
              "      <th>Estado - Sigla</th>\n",
              "      <th>Produto</th>\n",
              "      <th>Valor de Venda</th>\n",
              "    </tr>\n",
              "  </thead>\n",
              "  <tbody>\n",
              "    <tr>\n",
              "      <th>0</th>\n",
              "      <td>7</td>\n",
              "      <td>AC</td>\n",
              "      <td>ETANOL</td>\n",
              "      <td>5.681418</td>\n",
              "    </tr>\n",
              "    <tr>\n",
              "      <th>1</th>\n",
              "      <td>7</td>\n",
              "      <td>AC</td>\n",
              "      <td>GASOLINA</td>\n",
              "      <td>6.474007</td>\n",
              "    </tr>\n",
              "    <tr>\n",
              "      <th>2</th>\n",
              "      <td>7</td>\n",
              "      <td>AC</td>\n",
              "      <td>GASOLINA ADITIVADA</td>\n",
              "      <td>6.510219</td>\n",
              "    </tr>\n",
              "    <tr>\n",
              "      <th>3</th>\n",
              "      <td>7</td>\n",
              "      <td>AL</td>\n",
              "      <td>ETANOL</td>\n",
              "      <td>5.562701</td>\n",
              "    </tr>\n",
              "    <tr>\n",
              "      <th>4</th>\n",
              "      <td>7</td>\n",
              "      <td>AL</td>\n",
              "      <td>GASOLINA</td>\n",
              "      <td>6.381061</td>\n",
              "    </tr>\n",
              "    <tr>\n",
              "      <th>...</th>\n",
              "      <td>...</td>\n",
              "      <td>...</td>\n",
              "      <td>...</td>\n",
              "      <td>...</td>\n",
              "    </tr>\n",
              "    <tr>\n",
              "      <th>157</th>\n",
              "      <td>8</td>\n",
              "      <td>SP</td>\n",
              "      <td>GASOLINA</td>\n",
              "      <td>5.293588</td>\n",
              "    </tr>\n",
              "    <tr>\n",
              "      <th>158</th>\n",
              "      <td>8</td>\n",
              "      <td>SP</td>\n",
              "      <td>GASOLINA ADITIVADA</td>\n",
              "      <td>5.516719</td>\n",
              "    </tr>\n",
              "    <tr>\n",
              "      <th>159</th>\n",
              "      <td>8</td>\n",
              "      <td>TO</td>\n",
              "      <td>ETANOL</td>\n",
              "      <td>4.916533</td>\n",
              "    </tr>\n",
              "    <tr>\n",
              "      <th>160</th>\n",
              "      <td>8</td>\n",
              "      <td>TO</td>\n",
              "      <td>GASOLINA</td>\n",
              "      <td>5.719055</td>\n",
              "    </tr>\n",
              "    <tr>\n",
              "      <th>161</th>\n",
              "      <td>8</td>\n",
              "      <td>TO</td>\n",
              "      <td>GASOLINA ADITIVADA</td>\n",
              "      <td>5.874228</td>\n",
              "    </tr>\n",
              "  </tbody>\n",
              "</table>\n",
              "<p>162 rows × 4 columns</p>\n",
              "</div>\n",
              "      <button class=\"colab-df-convert\" onclick=\"convertToInteractive('df-1c411139-ccf5-45b3-a421-761c0e3ba2d2')\"\n",
              "              title=\"Convert this dataframe to an interactive table.\"\n",
              "              style=\"display:none;\">\n",
              "        \n",
              "  <svg xmlns=\"http://www.w3.org/2000/svg\" height=\"24px\"viewBox=\"0 0 24 24\"\n",
              "       width=\"24px\">\n",
              "    <path d=\"M0 0h24v24H0V0z\" fill=\"none\"/>\n",
              "    <path d=\"M18.56 5.44l.94 2.06.94-2.06 2.06-.94-2.06-.94-.94-2.06-.94 2.06-2.06.94zm-11 1L8.5 8.5l.94-2.06 2.06-.94-2.06-.94L8.5 2.5l-.94 2.06-2.06.94zm10 10l.94 2.06.94-2.06 2.06-.94-2.06-.94-.94-2.06-.94 2.06-2.06.94z\"/><path d=\"M17.41 7.96l-1.37-1.37c-.4-.4-.92-.59-1.43-.59-.52 0-1.04.2-1.43.59L10.3 9.45l-7.72 7.72c-.78.78-.78 2.05 0 2.83L4 21.41c.39.39.9.59 1.41.59.51 0 1.02-.2 1.41-.59l7.78-7.78 2.81-2.81c.8-.78.8-2.07 0-2.86zM5.41 20L4 18.59l7.72-7.72 1.47 1.35L5.41 20z\"/>\n",
              "  </svg>\n",
              "      </button>\n",
              "      \n",
              "  <style>\n",
              "    .colab-df-container {\n",
              "      display:flex;\n",
              "      flex-wrap:wrap;\n",
              "      gap: 12px;\n",
              "    }\n",
              "\n",
              "    .colab-df-convert {\n",
              "      background-color: #E8F0FE;\n",
              "      border: none;\n",
              "      border-radius: 50%;\n",
              "      cursor: pointer;\n",
              "      display: none;\n",
              "      fill: #1967D2;\n",
              "      height: 32px;\n",
              "      padding: 0 0 0 0;\n",
              "      width: 32px;\n",
              "    }\n",
              "\n",
              "    .colab-df-convert:hover {\n",
              "      background-color: #E2EBFA;\n",
              "      box-shadow: 0px 1px 2px rgba(60, 64, 67, 0.3), 0px 1px 3px 1px rgba(60, 64, 67, 0.15);\n",
              "      fill: #174EA6;\n",
              "    }\n",
              "\n",
              "    [theme=dark] .colab-df-convert {\n",
              "      background-color: #3B4455;\n",
              "      fill: #D2E3FC;\n",
              "    }\n",
              "\n",
              "    [theme=dark] .colab-df-convert:hover {\n",
              "      background-color: #434B5C;\n",
              "      box-shadow: 0px 1px 3px 1px rgba(0, 0, 0, 0.15);\n",
              "      filter: drop-shadow(0px 1px 2px rgba(0, 0, 0, 0.3));\n",
              "      fill: #FFFFFF;\n",
              "    }\n",
              "  </style>\n",
              "\n",
              "      <script>\n",
              "        const buttonEl =\n",
              "          document.querySelector('#df-1c411139-ccf5-45b3-a421-761c0e3ba2d2 button.colab-df-convert');\n",
              "        buttonEl.style.display =\n",
              "          google.colab.kernel.accessAllowed ? 'block' : 'none';\n",
              "\n",
              "        async function convertToInteractive(key) {\n",
              "          const element = document.querySelector('#df-1c411139-ccf5-45b3-a421-761c0e3ba2d2');\n",
              "          const dataTable =\n",
              "            await google.colab.kernel.invokeFunction('convertToInteractive',\n",
              "                                                     [key], {});\n",
              "          if (!dataTable) return;\n",
              "\n",
              "          const docLinkHtml = 'Like what you see? Visit the ' +\n",
              "            '<a target=\"_blank\" href=https://colab.research.google.com/notebooks/data_table.ipynb>data table notebook</a>'\n",
              "            + ' to learn more about interactive tables.';\n",
              "          element.innerHTML = '';\n",
              "          dataTable['output_type'] = 'display_data';\n",
              "          await google.colab.output.renderOutput(dataTable, element);\n",
              "          const docLink = document.createElement('div');\n",
              "          docLink.innerHTML = docLinkHtml;\n",
              "          element.appendChild(docLink);\n",
              "        }\n",
              "      </script>\n",
              "    </div>\n",
              "  </div>\n",
              "  "
            ]
          },
          "metadata": {},
          "execution_count": 57
        }
      ]
    },
    {
      "cell_type": "code",
      "source": [
        "preco_medio_estado_mes_gasolina = preco_medio_estado_mes.loc[(preco_medio_estado_mes['Produto'] == 'GASOLINA')].sort_values(['Mês', 'Estado - Sigla'])\n",
        "preco_medio_estado_mes_etanol = preco_medio_estado_mes.loc[(preco_medio_estado_mes['Produto'] == 'ETANOL')].sort_values(['Mês', 'Estado - Sigla'])\n",
        "preco_medio_estado_mes_etanol.reset_index(inplace=True)\n",
        "preco_medio_estado_mes_gasolina.reset_index(inplace=True)"
      ],
      "metadata": {
        "id": "YTndbHaSeI2m"
      },
      "execution_count": null,
      "outputs": []
    },
    {
      "cell_type": "markdown",
      "source": [
        "Calculamos a razão entre o preço do etanol e da gasolina e o adicionamos numa coluna chamad proporção no dataframe com as informações do etanol:"
      ],
      "metadata": {
        "id": "VnRjOl9N5HLk"
      }
    },
    {
      "cell_type": "code",
      "source": [
        "def dividir(df1, df2):\n",
        "  df1['Porcentagem'] = df1['Valor de Venda'] / df2 ['Valor de Venda']\n",
        "\n",
        "dividir(preco_medio_estado_mes_etanol, preco_medio_estado_mes_gasolina)"
      ],
      "metadata": {
        "id": "Twe13Cx9AP4O"
      },
      "execution_count": null,
      "outputs": []
    },
    {
      "cell_type": "markdown",
      "source": [
        "Separamo o dataset em 2: os correspondentes ao mês de julho e ao mês de agosto, para avaliarmos separadamente."
      ],
      "metadata": {
        "id": "4_KA33wa5YKc"
      }
    },
    {
      "cell_type": "code",
      "source": [
        "preco_julho = preco_medio_estado_mes_etanol[preco_medio_estado_mes_etanol['Mês'] == 7]\n",
        "preco_agosto= preco_medio_estado_mes_etanol[preco_medio_estado_mes_etanol['Mês'] == 8]"
      ],
      "metadata": {
        "id": "tKVMStKuf6XW"
      },
      "execution_count": null,
      "outputs": []
    },
    {
      "cell_type": "markdown",
      "source": [
        "E então plotamos oo gráfico. A linha vermelha indica o valor de 0,7 como resultado da divisão. as barras acima dela nos dizem que naquele estado e mês não valia a pena abastecer o carro ocm etanol no lugar da gasolina. Já as barras abaixo indicam que é melhor abastecer com etanol "
      ],
      "metadata": {
        "id": "hMJ2YfXO5iNS"
      }
    },
    {
      "cell_type": "code",
      "source": [
        "barWidth = 0.45\n",
        "plt.figure(figsize = (14,6))\n",
        "r1 = np.arange(len(preco_julho['Mês']))\n",
        "r2 = [x + barWidth for x in r1]\n",
        "plt.bar(r1, preco_julho['Porcentagem'], label = 'Média de Julho', width = barWidth)\n",
        "plt.bar(r2, preco_agosto['Porcentagem'], label = 'Média de Agosto', width = barWidth)\n",
        "plt.xlabel('Estado')\n",
        "plt.ylabel('Porcentagem (%)')\n",
        "plt.xticks([r + barWidth for r in range(len(preco_julho['Mês']))], preco_julho['Estado - Sigla'].tolist())\n",
        "plt.axhline(y=0.7, color = 'red', dash_capstyle = 'butt', label = 'Valor do Etanol é 70% da Gasolina')\n",
        "plt.legend();"
      ],
      "metadata": {
        "colab": {
          "base_uri": "https://localhost:8080/",
          "height": 388
        },
        "id": "YUh5AYKbJhNl",
        "outputId": "e5ec8d61-e25c-4386-d4fe-48a02be9b96c"
      },
      "execution_count": null,
      "outputs": [
        {
          "output_type": "display_data",
          "data": {
            "text/plain": [
              "<Figure size 1008x432 with 1 Axes>"
            ],
            "image/png": "[encoded data removed]"
          },
          "metadata": {
            "needs_background": "light"
          }
        }
      ]
    },
    {
      "cell_type": "markdown",
      "source": [
        "Apenas no estadi de MT era vantajoso substituir a gasolina por etanol em ambos os meses avaliados. "
      ],
      "metadata": {
        "id": "y0bzmSxb55PX"
      }
    },
    {
      "cell_type": "markdown",
      "source": [
        "##<font color ='#DAA520'><b>12. Qual estado que tem a maior e a menor variação de preço do etanol e da gasolina?</b></font>"
      ],
      "metadata": {
        "id": "3zP3tI2eFFCB"
      }
    },
    {
      "cell_type": "markdown",
      "source": [
        "###<font color ='#DAA520'><b>ETANOL</b></font>\n"
      ],
      "metadata": {
        "id": "ScTxDrJUUjQT"
      }
    },
    {
      "cell_type": "code",
      "source": [
        "et_var = conj_dados.loc[(conj_dados['Produto']=='ETANOL')]\n",
        "et_var = et_var.groupby(['Estado - Sigla', 'Produto']).mean('Valor de Venda')\n",
        "\n",
        "et_var = et_var.pct_change()#calcular a variação \n",
        "\n",
        "et_var = et_var.sort_values('Valor de Venda')\n",
        "\n",
        "et_var "
      ],
      "metadata": {
        "id": "Q5qG1OBNNabX",
        "colab": {
          "base_uri": "https://localhost:8080/",
          "height": 927
        },
        "outputId": "dea451fa-f6ec-4b2a-e7f3-3d3c939d4baf"
      },
      "execution_count": null,
      "outputs": [
        {
          "output_type": "execute_result",
          "data": {
            "text/plain": [
              "                        Valor de Venda\n",
              "Estado - Sigla Produto                \n",
              "SP             ETANOL        -0.235012\n",
              "MG             ETANOL        -0.202822\n",
              "GO             ETANOL        -0.181956\n",
              "BA             ETANOL        -0.139392\n",
              "MT             ETANOL        -0.136537\n",
              "DF             ETANOL        -0.133697\n",
              "PR             ETANOL        -0.113204\n",
              "PB             ETANOL        -0.092767\n",
              "SC             ETANOL        -0.078809\n",
              "PI             ETANOL        -0.066857\n",
              "AM             ETANOL        -0.054928\n",
              "AL             ETANOL        -0.025263\n",
              "SE             ETANOL        -0.023288\n",
              "RR             ETANOL        -0.005525\n",
              "RS             ETANOL         0.016517\n",
              "RO             ETANOL         0.021284\n",
              "MS             ETANOL         0.036914\n",
              "ES             ETANOL         0.045140\n",
              "PE             ETANOL         0.047306\n",
              "CE             ETANOL         0.080376\n",
              "RJ             ETANOL         0.102173\n",
              "RN             ETANOL         0.124736\n",
              "AP             ETANOL         0.190444\n",
              "MA             ETANOL         0.313149\n",
              "TO             ETANOL         0.322211\n",
              "PA             ETANOL         0.478003\n",
              "AC             ETANOL              NaN"
            ],
            "text/html": [
              "\n",
              "  <div id=\"df-d5a67a5a-8d0a-44cf-8cd2-c9d0068c9994\">\n",
              "    <div class=\"colab-df-container\">\n",
              "      <div>\n",
              "<style scoped>\n",
              "    .dataframe tbody tr th:only-of-type {\n",
              "        vertical-align: middle;\n",
              "    }\n",
              "\n",
              "    .dataframe tbody tr th {\n",
              "        vertical-align: top;\n",
              "    }\n",
              "\n",
              "    .dataframe thead th {\n",
              "        text-align: right;\n",
              "    }\n",
              "</style>\n",
              "<table border=\"1\" class=\"dataframe\">\n",
              "  <thead>\n",
              "    <tr style=\"text-align: right;\">\n",
              "      <th></th>\n",
              "      <th></th>\n",
              "      <th>Valor de Venda</th>\n",
              "    </tr>\n",
              "    <tr>\n",
              "      <th>Estado - Sigla</th>\n",
              "      <th>Produto</th>\n",
              "      <th></th>\n",
              "    </tr>\n",
              "  </thead>\n",
              "  <tbody>\n",
              "    <tr>\n",
              "      <th>SP</th>\n",
              "      <th>ETANOL</th>\n",
              "      <td>-0.235012</td>\n",
              "    </tr>\n",
              "    <tr>\n",
              "      <th>MG</th>\n",
              "      <th>ETANOL</th>\n",
              "      <td>-0.202822</td>\n",
              "    </tr>\n",
              "    <tr>\n",
              "      <th>GO</th>\n",
              "      <th>ETANOL</th>\n",
              "      <td>-0.181956</td>\n",
              "    </tr>\n",
              "    <tr>\n",
              "      <th>BA</th>\n",
              "      <th>ETANOL</th>\n",
              "      <td>-0.139392</td>\n",
              "    </tr>\n",
              "    <tr>\n",
              "      <th>MT</th>\n",
              "      <th>ETANOL</th>\n",
              "      <td>-0.136537</td>\n",
              "    </tr>\n",
              "    <tr>\n",
              "      <th>DF</th>\n",
              "      <th>ETANOL</th>\n",
              "      <td>-0.133697</td>\n",
              "    </tr>\n",
              "    <tr>\n",
              "      <th>PR</th>\n",
              "      <th>ETANOL</th>\n",
              "      <td>-0.113204</td>\n",
              "    </tr>\n",
              "    <tr>\n",
              "      <th>PB</th>\n",
              "      <th>ETANOL</th>\n",
              "      <td>-0.092767</td>\n",
              "    </tr>\n",
              "    <tr>\n",
              "      <th>SC</th>\n",
              "      <th>ETANOL</th>\n",
              "      <td>-0.078809</td>\n",
              "    </tr>\n",
              "    <tr>\n",
              "      <th>PI</th>\n",
              "      <th>ETANOL</th>\n",
              "      <td>-0.066857</td>\n",
              "    </tr>\n",
              "    <tr>\n",
              "      <th>AM</th>\n",
              "      <th>ETANOL</th>\n",
              "      <td>-0.054928</td>\n",
              "    </tr>\n",
              "    <tr>\n",
              "      <th>AL</th>\n",
              "      <th>ETANOL</th>\n",
              "      <td>-0.025263</td>\n",
              "    </tr>\n",
              "    <tr>\n",
              "      <th>SE</th>\n",
              "      <th>ETANOL</th>\n",
              "      <td>-0.023288</td>\n",
              "    </tr>\n",
              "    <tr>\n",
              "      <th>RR</th>\n",
              "      <th>ETANOL</th>\n",
              "      <td>-0.005525</td>\n",
              "    </tr>\n",
              "    <tr>\n",
              "      <th>RS</th>\n",
              "      <th>ETANOL</th>\n",
              "      <td>0.016517</td>\n",
              "    </tr>\n",
              "    <tr>\n",
              "      <th>RO</th>\n",
              "      <th>ETANOL</th>\n",
              "      <td>0.021284</td>\n",
              "    </tr>\n",
              "    <tr>\n",
              "      <th>MS</th>\n",
              "      <th>ETANOL</th>\n",
              "      <td>0.036914</td>\n",
              "    </tr>\n",
              "    <tr>\n",
              "      <th>ES</th>\n",
              "      <th>ETANOL</th>\n",
              "      <td>0.045140</td>\n",
              "    </tr>\n",
              "    <tr>\n",
              "      <th>PE</th>\n",
              "      <th>ETANOL</th>\n",
              "      <td>0.047306</td>\n",
              "    </tr>\n",
              "    <tr>\n",
              "      <th>CE</th>\n",
              "      <th>ETANOL</th>\n",
              "      <td>0.080376</td>\n",
              "    </tr>\n",
              "    <tr>\n",
              "      <th>RJ</th>\n",
              "      <th>ETANOL</th>\n",
              "      <td>0.102173</td>\n",
              "    </tr>\n",
              "    <tr>\n",
              "      <th>RN</th>\n",
              "      <th>ETANOL</th>\n",
              "      <td>0.124736</td>\n",
              "    </tr>\n",
              "    <tr>\n",
              "      <th>AP</th>\n",
              "      <th>ETANOL</th>\n",
              "      <td>0.190444</td>\n",
              "    </tr>\n",
              "    <tr>\n",
              "      <th>MA</th>\n",
              "      <th>ETANOL</th>\n",
              "      <td>0.313149</td>\n",
              "    </tr>\n",
              "    <tr>\n",
              "      <th>TO</th>\n",
              "      <th>ETANOL</th>\n",
              "      <td>0.322211</td>\n",
              "    </tr>\n",
              "    <tr>\n",
              "      <th>PA</th>\n",
              "      <th>ETANOL</th>\n",
              "      <td>0.478003</td>\n",
              "    </tr>\n",
              "    <tr>\n",
              "      <th>AC</th>\n",
              "      <th>ETANOL</th>\n",
              "      <td>NaN</td>\n",
              "    </tr>\n",
              "  </tbody>\n",
              "</table>\n",
              "</div>\n",
              "      <button class=\"colab-df-convert\" onclick=\"convertToInteractive('df-d5a67a5a-8d0a-44cf-8cd2-c9d0068c9994')\"\n",
              "              title=\"Convert this dataframe to an interactive table.\"\n",
              "              style=\"display:none;\">\n",
              "        \n",
              "  <svg xmlns=\"http://www.w3.org/2000/svg\" height=\"24px\"viewBox=\"0 0 24 24\"\n",
              "       width=\"24px\">\n",
              "    <path d=\"M0 0h24v24H0V0z\" fill=\"none\"/>\n",
              "    <path d=\"M18.56 5.44l.94 2.06.94-2.06 2.06-.94-2.06-.94-.94-2.06-.94 2.06-2.06.94zm-11 1L8.5 8.5l.94-2.06 2.06-.94-2.06-.94L8.5 2.5l-.94 2.06-2.06.94zm10 10l.94 2.06.94-2.06 2.06-.94-2.06-.94-.94-2.06-.94 2.06-2.06.94z\"/><path d=\"M17.41 7.96l-1.37-1.37c-.4-.4-.92-.59-1.43-.59-.52 0-1.04.2-1.43.59L10.3 9.45l-7.72 7.72c-.78.78-.78 2.05 0 2.83L4 21.41c.39.39.9.59 1.41.59.51 0 1.02-.2 1.41-.59l7.78-7.78 2.81-2.81c.8-.78.8-2.07 0-2.86zM5.41 20L4 18.59l7.72-7.72 1.47 1.35L5.41 20z\"/>\n",
              "  </svg>\n",
              "      </button>\n",
              "      \n",
              "  <style>\n",
              "    .colab-df-container {\n",
              "      display:flex;\n",
              "      flex-wrap:wrap;\n",
              "      gap: 12px;\n",
              "    }\n",
              "\n",
              "    .colab-df-convert {\n",
              "      background-color: #E8F0FE;\n",
              "      border: none;\n",
              "      border-radius: 50%;\n",
              "      cursor: pointer;\n",
              "      display: none;\n",
              "      fill: #1967D2;\n",
              "      height: 32px;\n",
              "      padding: 0 0 0 0;\n",
              "      width: 32px;\n",
              "    }\n",
              "\n",
              "    .colab-df-convert:hover {\n",
              "      background-color: #E2EBFA;\n",
              "      box-shadow: 0px 1px 2px rgba(60, 64, 67, 0.3), 0px 1px 3px 1px rgba(60, 64, 67, 0.15);\n",
              "      fill: #174EA6;\n",
              "    }\n",
              "\n",
              "    [theme=dark] .colab-df-convert {\n",
              "      background-color: #3B4455;\n",
              "      fill: #D2E3FC;\n",
              "    }\n",
              "\n",
              "    [theme=dark] .colab-df-convert:hover {\n",
              "      background-color: #434B5C;\n",
              "      box-shadow: 0px 1px 3px 1px rgba(0, 0, 0, 0.15);\n",
              "      filter: drop-shadow(0px 1px 2px rgba(0, 0, 0, 0.3));\n",
              "      fill: #FFFFFF;\n",
              "    }\n",
              "  </style>\n",
              "\n",
              "      <script>\n",
              "        const buttonEl =\n",
              "          document.querySelector('#df-d5a67a5a-8d0a-44cf-8cd2-c9d0068c9994 button.colab-df-convert');\n",
              "        buttonEl.style.display =\n",
              "          google.colab.kernel.accessAllowed ? 'block' : 'none';\n",
              "\n",
              "        async function convertToInteractive(key) {\n",
              "          const element = document.querySelector('#df-d5a67a5a-8d0a-44cf-8cd2-c9d0068c9994');\n",
              "          const dataTable =\n",
              "            await google.colab.kernel.invokeFunction('convertToInteractive',\n",
              "                                                     [key], {});\n",
              "          if (!dataTable) return;\n",
              "\n",
              "          const docLinkHtml = 'Like what you see? Visit the ' +\n",
              "            '<a target=\"_blank\" href=https://colab.research.google.com/notebooks/data_table.ipynb>data table notebook</a>'\n",
              "            + ' to learn more about interactive tables.';\n",
              "          element.innerHTML = '';\n",
              "          dataTable['output_type'] = 'display_data';\n",
              "          await google.colab.output.renderOutput(dataTable, element);\n",
              "          const docLink = document.createElement('div');\n",
              "          docLink.innerHTML = docLinkHtml;\n",
              "          element.appendChild(docLink);\n",
              "        }\n",
              "      </script>\n",
              "    </div>\n",
              "  </div>\n",
              "  "
            ]
          },
          "metadata": {},
          "execution_count": 29
        }
      ]
    },
    {
      "cell_type": "markdown",
      "source": [
        "#### <font color ='#DAA520'><b>Os estados com a  menor variação de etanol:</b></font>\n"
      ],
      "metadata": {
        "id": "RbT2X8CtSgei"
      }
    },
    {
      "cell_type": "code",
      "source": [
        "et_var.head()#filtra as 5 primeiras linhas"
      ],
      "metadata": {
        "id": "Buum-M1ESX7D",
        "colab": {
          "base_uri": "https://localhost:8080/",
          "height": 238
        },
        "outputId": "a87bba99-847d-4860-f5ff-ad33f2b00b08"
      },
      "execution_count": null,
      "outputs": [
        {
          "output_type": "execute_result",
          "data": {
            "text/plain": [
              "                        Valor de Venda\n",
              "Estado - Sigla Produto                \n",
              "SP             ETANOL        -0.235012\n",
              "MG             ETANOL        -0.202822\n",
              "GO             ETANOL        -0.181956\n",
              "BA             ETANOL        -0.139392\n",
              "MT             ETANOL        -0.136537"
            ],
            "text/html": [
              "\n",
              "  <div id=\"df-fef747aa-a01d-46b0-825c-ac21df381046\">\n",
              "    <div class=\"colab-df-container\">\n",
              "      <div>\n",
              "<style scoped>\n",
              "    .dataframe tbody tr th:only-of-type {\n",
              "        vertical-align: middle;\n",
              "    }\n",
              "\n",
              "    .dataframe tbody tr th {\n",
              "        vertical-align: top;\n",
              "    }\n",
              "\n",
              "    .dataframe thead th {\n",
              "        text-align: right;\n",
              "    }\n",
              "</style>\n",
              "<table border=\"1\" class=\"dataframe\">\n",
              "  <thead>\n",
              "    <tr style=\"text-align: right;\">\n",
              "      <th></th>\n",
              "      <th></th>\n",
              "      <th>Valor de Venda</th>\n",
              "    </tr>\n",
              "    <tr>\n",
              "      <th>Estado - Sigla</th>\n",
              "      <th>Produto</th>\n",
              "      <th></th>\n",
              "    </tr>\n",
              "  </thead>\n",
              "  <tbody>\n",
              "    <tr>\n",
              "      <th>SP</th>\n",
              "      <th>ETANOL</th>\n",
              "      <td>-0.235012</td>\n",
              "    </tr>\n",
              "    <tr>\n",
              "      <th>MG</th>\n",
              "      <th>ETANOL</th>\n",
              "      <td>-0.202822</td>\n",
              "    </tr>\n",
              "    <tr>\n",
              "      <th>GO</th>\n",
              "      <th>ETANOL</th>\n",
              "      <td>-0.181956</td>\n",
              "    </tr>\n",
              "    <tr>\n",
              "      <th>BA</th>\n",
              "      <th>ETANOL</th>\n",
              "      <td>-0.139392</td>\n",
              "    </tr>\n",
              "    <tr>\n",
              "      <th>MT</th>\n",
              "      <th>ETANOL</th>\n",
              "      <td>-0.136537</td>\n",
              "    </tr>\n",
              "  </tbody>\n",
              "</table>\n",
              "</div>\n",
              "      <button class=\"colab-df-convert\" onclick=\"convertToInteractive('df-fef747aa-a01d-46b0-825c-ac21df381046')\"\n",
              "              title=\"Convert this dataframe to an interactive table.\"\n",
              "              style=\"display:none;\">\n",
              "        \n",
              "  <svg xmlns=\"http://www.w3.org/2000/svg\" height=\"24px\"viewBox=\"0 0 24 24\"\n",
              "       width=\"24px\">\n",
              "    <path d=\"M0 0h24v24H0V0z\" fill=\"none\"/>\n",
              "    <path d=\"M18.56 5.44l.94 2.06.94-2.06 2.06-.94-2.06-.94-.94-2.06-.94 2.06-2.06.94zm-11 1L8.5 8.5l.94-2.06 2.06-.94-2.06-.94L8.5 2.5l-.94 2.06-2.06.94zm10 10l.94 2.06.94-2.06 2.06-.94-2.06-.94-.94-2.06-.94 2.06-2.06.94z\"/><path d=\"M17.41 7.96l-1.37-1.37c-.4-.4-.92-.59-1.43-.59-.52 0-1.04.2-1.43.59L10.3 9.45l-7.72 7.72c-.78.78-.78 2.05 0 2.83L4 21.41c.39.39.9.59 1.41.59.51 0 1.02-.2 1.41-.59l7.78-7.78 2.81-2.81c.8-.78.8-2.07 0-2.86zM5.41 20L4 18.59l7.72-7.72 1.47 1.35L5.41 20z\"/>\n",
              "  </svg>\n",
              "      </button>\n",
              "      \n",
              "  <style>\n",
              "    .colab-df-container {\n",
              "      display:flex;\n",
              "      flex-wrap:wrap;\n",
              "      gap: 12px;\n",
              "    }\n",
              "\n",
              "    .colab-df-convert {\n",
              "      background-color: #E8F0FE;\n",
              "      border: none;\n",
              "      border-radius: 50%;\n",
              "      cursor: pointer;\n",
              "      display: none;\n",
              "      fill: #1967D2;\n",
              "      height: 32px;\n",
              "      padding: 0 0 0 0;\n",
              "      width: 32px;\n",
              "    }\n",
              "\n",
              "    .colab-df-convert:hover {\n",
              "      background-color: #E2EBFA;\n",
              "      box-shadow: 0px 1px 2px rgba(60, 64, 67, 0.3), 0px 1px 3px 1px rgba(60, 64, 67, 0.15);\n",
              "      fill: #174EA6;\n",
              "    }\n",
              "\n",
              "    [theme=dark] .colab-df-convert {\n",
              "      background-color: #3B4455;\n",
              "      fill: #D2E3FC;\n",
              "    }\n",
              "\n",
              "    [theme=dark] .colab-df-convert:hover {\n",
              "      background-color: #434B5C;\n",
              "      box-shadow: 0px 1px 3px 1px rgba(0, 0, 0, 0.15);\n",
              "      filter: drop-shadow(0px 1px 2px rgba(0, 0, 0, 0.3));\n",
              "      fill: #FFFFFF;\n",
              "    }\n",
              "  </style>\n",
              "\n",
              "      <script>\n",
              "        const buttonEl =\n",
              "          document.querySelector('#df-fef747aa-a01d-46b0-825c-ac21df381046 button.colab-df-convert');\n",
              "        buttonEl.style.display =\n",
              "          google.colab.kernel.accessAllowed ? 'block' : 'none';\n",
              "\n",
              "        async function convertToInteractive(key) {\n",
              "          const element = document.querySelector('#df-fef747aa-a01d-46b0-825c-ac21df381046');\n",
              "          const dataTable =\n",
              "            await google.colab.kernel.invokeFunction('convertToInteractive',\n",
              "                                                     [key], {});\n",
              "          if (!dataTable) return;\n",
              "\n",
              "          const docLinkHtml = 'Like what you see? Visit the ' +\n",
              "            '<a target=\"_blank\" href=https://colab.research.google.com/notebooks/data_table.ipynb>data table notebook</a>'\n",
              "            + ' to learn more about interactive tables.';\n",
              "          element.innerHTML = '';\n",
              "          dataTable['output_type'] = 'display_data';\n",
              "          await google.colab.output.renderOutput(dataTable, element);\n",
              "          const docLink = document.createElement('div');\n",
              "          docLink.innerHTML = docLinkHtml;\n",
              "          element.appendChild(docLink);\n",
              "        }\n",
              "      </script>\n",
              "    </div>\n",
              "  </div>\n",
              "  "
            ]
          },
          "metadata": {},
          "execution_count": 30
        }
      ]
    },
    {
      "cell_type": "markdown",
      "source": [
        "#### <font color ='#DAA520'><b>Os estados com a  maior variação de etanol:</b></font>\n"
      ],
      "metadata": {
        "id": "Kno1H7WOSyZ4"
      }
    },
    {
      "cell_type": "code",
      "source": [
        "et_var.tail()#filtra as 5 últimas linhas"
      ],
      "metadata": {
        "id": "p_eXzV2gSOu4",
        "colab": {
          "base_uri": "https://localhost:8080/",
          "height": 238
        },
        "outputId": "5e13a922-8eab-4085-c6e2-6370c896fa61"
      },
      "execution_count": null,
      "outputs": [
        {
          "output_type": "execute_result",
          "data": {
            "text/plain": [
              "                        Valor de Venda\n",
              "Estado - Sigla Produto                \n",
              "AP             ETANOL         0.190444\n",
              "MA             ETANOL         0.313149\n",
              "TO             ETANOL         0.322211\n",
              "PA             ETANOL         0.478003\n",
              "AC             ETANOL              NaN"
            ],
            "text/html": [
              "\n",
              "  <div id=\"df-e1a029fe-8533-4247-978e-54bc9ee1cc36\">\n",
              "    <div class=\"colab-df-container\">\n",
              "      <div>\n",
              "<style scoped>\n",
              "    .dataframe tbody tr th:only-of-type {\n",
              "        vertical-align: middle;\n",
              "    }\n",
              "\n",
              "    .dataframe tbody tr th {\n",
              "        vertical-align: top;\n",
              "    }\n",
              "\n",
              "    .dataframe thead th {\n",
              "        text-align: right;\n",
              "    }\n",
              "</style>\n",
              "<table border=\"1\" class=\"dataframe\">\n",
              "  <thead>\n",
              "    <tr style=\"text-align: right;\">\n",
              "      <th></th>\n",
              "      <th></th>\n",
              "      <th>Valor de Venda</th>\n",
              "    </tr>\n",
              "    <tr>\n",
              "      <th>Estado - Sigla</th>\n",
              "      <th>Produto</th>\n",
              "      <th></th>\n",
              "    </tr>\n",
              "  </thead>\n",
              "  <tbody>\n",
              "    <tr>\n",
              "      <th>AP</th>\n",
              "      <th>ETANOL</th>\n",
              "      <td>0.190444</td>\n",
              "    </tr>\n",
              "    <tr>\n",
              "      <th>MA</th>\n",
              "      <th>ETANOL</th>\n",
              "      <td>0.313149</td>\n",
              "    </tr>\n",
              "    <tr>\n",
              "      <th>TO</th>\n",
              "      <th>ETANOL</th>\n",
              "      <td>0.322211</td>\n",
              "    </tr>\n",
              "    <tr>\n",
              "      <th>PA</th>\n",
              "      <th>ETANOL</th>\n",
              "      <td>0.478003</td>\n",
              "    </tr>\n",
              "    <tr>\n",
              "      <th>AC</th>\n",
              "      <th>ETANOL</th>\n",
              "      <td>NaN</td>\n",
              "    </tr>\n",
              "  </tbody>\n",
              "</table>\n",
              "</div>\n",
              "      <button class=\"colab-df-convert\" onclick=\"convertToInteractive('df-e1a029fe-8533-4247-978e-54bc9ee1cc36')\"\n",
              "              title=\"Convert this dataframe to an interactive table.\"\n",
              "              style=\"display:none;\">\n",
              "        \n",
              "  <svg xmlns=\"http://www.w3.org/2000/svg\" height=\"24px\"viewBox=\"0 0 24 24\"\n",
              "       width=\"24px\">\n",
              "    <path d=\"M0 0h24v24H0V0z\" fill=\"none\"/>\n",
              "    <path d=\"M18.56 5.44l.94 2.06.94-2.06 2.06-.94-2.06-.94-.94-2.06-.94 2.06-2.06.94zm-11 1L8.5 8.5l.94-2.06 2.06-.94-2.06-.94L8.5 2.5l-.94 2.06-2.06.94zm10 10l.94 2.06.94-2.06 2.06-.94-2.06-.94-.94-2.06-.94 2.06-2.06.94z\"/><path d=\"M17.41 7.96l-1.37-1.37c-.4-.4-.92-.59-1.43-.59-.52 0-1.04.2-1.43.59L10.3 9.45l-7.72 7.72c-.78.78-.78 2.05 0 2.83L4 21.41c.39.39.9.59 1.41.59.51 0 1.02-.2 1.41-.59l7.78-7.78 2.81-2.81c.8-.78.8-2.07 0-2.86zM5.41 20L4 18.59l7.72-7.72 1.47 1.35L5.41 20z\"/>\n",
              "  </svg>\n",
              "      </button>\n",
              "      \n",
              "  <style>\n",
              "    .colab-df-container {\n",
              "      display:flex;\n",
              "      flex-wrap:wrap;\n",
              "      gap: 12px;\n",
              "    }\n",
              "\n",
              "    .colab-df-convert {\n",
              "      background-color: #E8F0FE;\n",
              "      border: none;\n",
              "      border-radius: 50%;\n",
              "      cursor: pointer;\n",
              "      display: none;\n",
              "      fill: #1967D2;\n",
              "      height: 32px;\n",
              "      padding: 0 0 0 0;\n",
              "      width: 32px;\n",
              "    }\n",
              "\n",
              "    .colab-df-convert:hover {\n",
              "      background-color: #E2EBFA;\n",
              "      box-shadow: 0px 1px 2px rgba(60, 64, 67, 0.3), 0px 1px 3px 1px rgba(60, 64, 67, 0.15);\n",
              "      fill: #174EA6;\n",
              "    }\n",
              "\n",
              "    [theme=dark] .colab-df-convert {\n",
              "      background-color: #3B4455;\n",
              "      fill: #D2E3FC;\n",
              "    }\n",
              "\n",
              "    [theme=dark] .colab-df-convert:hover {\n",
              "      background-color: #434B5C;\n",
              "      box-shadow: 0px 1px 3px 1px rgba(0, 0, 0, 0.15);\n",
              "      filter: drop-shadow(0px 1px 2px rgba(0, 0, 0, 0.3));\n",
              "      fill: #FFFFFF;\n",
              "    }\n",
              "  </style>\n",
              "\n",
              "      <script>\n",
              "        const buttonEl =\n",
              "          document.querySelector('#df-e1a029fe-8533-4247-978e-54bc9ee1cc36 button.colab-df-convert');\n",
              "        buttonEl.style.display =\n",
              "          google.colab.kernel.accessAllowed ? 'block' : 'none';\n",
              "\n",
              "        async function convertToInteractive(key) {\n",
              "          const element = document.querySelector('#df-e1a029fe-8533-4247-978e-54bc9ee1cc36');\n",
              "          const dataTable =\n",
              "            await google.colab.kernel.invokeFunction('convertToInteractive',\n",
              "                                                     [key], {});\n",
              "          if (!dataTable) return;\n",
              "\n",
              "          const docLinkHtml = 'Like what you see? Visit the ' +\n",
              "            '<a target=\"_blank\" href=https://colab.research.google.com/notebooks/data_table.ipynb>data table notebook</a>'\n",
              "            + ' to learn more about interactive tables.';\n",
              "          element.innerHTML = '';\n",
              "          dataTable['output_type'] = 'display_data';\n",
              "          await google.colab.output.renderOutput(dataTable, element);\n",
              "          const docLink = document.createElement('div');\n",
              "          docLink.innerHTML = docLinkHtml;\n",
              "          element.appendChild(docLink);\n",
              "        }\n",
              "      </script>\n",
              "    </div>\n",
              "  </div>\n",
              "  "
            ]
          },
          "metadata": {},
          "execution_count": 31
        }
      ]
    },
    {
      "cell_type": "markdown",
      "source": [
        "#### <font color ='#DAA520'><b>Gráfico da variação dos valores de venda do etanol</b></font>\n"
      ],
      "metadata": {
        "id": "5BUn65orS_d_"
      }
    },
    {
      "cell_type": "code",
      "source": [
        "et_var.plot(kind=\"barh\", title=\"Variação de valores de venda do etanol\",\n",
        "        color={\"orange\"}, figsize=(9,8))\n",
        "plt.show();"
      ],
      "metadata": {
        "colab": {
          "base_uri": "https://localhost:8080/",
          "height": 499
        },
        "id": "mBoiFVqyZjIH",
        "outputId": "b24a0b4f-c107-428e-ef0a-98ba69426b3b"
      },
      "execution_count": 54,
      "outputs": [
        {
          "output_type": "display_data",
          "data": {
            "text/plain": [
              "<Figure size 648x576 with 1 Axes>"
            ],
            "image/png": "[encoded data removed]"
          },
          "metadata": {
            "needs_background": "light"
          }
        }
      ]
    },
    {
      "cell_type": "markdown",
      "source": [
        "###<font color ='#DAA520'><b>GASOLINA</b></font>\n"
      ],
      "metadata": {
        "id": "0dSR7-AqUpMs"
      }
    },
    {
      "cell_type": "code",
      "source": [
        "gas_var = conj_dados.loc[(conj_dados['Produto']=='GASOLINA')]\n",
        "gas_var = gas_var.groupby(['Estado - Sigla', 'Produto']).mean('Valor de Venda')\n",
        "\n",
        "gas_var = gas_var.pct_change()#calcular a variação \n",
        "gas_var = gas_var.sort_values('Valor de Venda')\n",
        "\n",
        "gas_var"
      ],
      "metadata": {
        "id": "DD2N61vQUvM1",
        "colab": {
          "base_uri": "https://localhost:8080/",
          "height": 927
        },
        "outputId": "87569c31-a24d-463b-d515-4389dbd71773"
      },
      "execution_count": null,
      "outputs": [
        {
          "output_type": "execute_result",
          "data": {
            "text/plain": [
              "                         Valor de Venda\n",
              "Estado - Sigla Produto                 \n",
              "AP             GASOLINA       -0.174690\n",
              "PR             GASOLINA       -0.073128\n",
              "RS             GASOLINA       -0.066627\n",
              "DF             GASOLINA       -0.059546\n",
              "GO             GASOLINA       -0.047852\n",
              "MG             GASOLINA       -0.047011\n",
              "PB             GASOLINA       -0.044285\n",
              "AL             GASOLINA       -0.042953\n",
              "RO             GASOLINA       -0.032527\n",
              "MS             GASOLINA       -0.019662\n",
              "SE             GASOLINA       -0.017615\n",
              "CE             GASOLINA       -0.012533\n",
              "SP             GASOLINA       -0.008570\n",
              "SC             GASOLINA        0.008401\n",
              "MT             GASOLINA        0.021986\n",
              "PI             GASOLINA        0.024776\n",
              "PE             GASOLINA        0.031339\n",
              "RN             GASOLINA        0.032339\n",
              "RR             GASOLINA        0.033762\n",
              "ES             GASOLINA        0.034888\n",
              "RJ             GASOLINA        0.037223\n",
              "AM             GASOLINA        0.040944\n",
              "PA             GASOLINA        0.058857\n",
              "MA             GASOLINA        0.077973\n",
              "TO             GASOLINA        0.093781\n",
              "BA             GASOLINA        0.180888\n",
              "AC             GASOLINA             NaN"
            ],
            "text/html": [
              "\n",
              "  <div id=\"df-433c78a2-0c9d-417f-a7c5-582d1fe97264\">\n",
              "    <div class=\"colab-df-container\">\n",
              "      <div>\n",
              "<style scoped>\n",
              "    .dataframe tbody tr th:only-of-type {\n",
              "        vertical-align: middle;\n",
              "    }\n",
              "\n",
              "    .dataframe tbody tr th {\n",
              "        vertical-align: top;\n",
              "    }\n",
              "\n",
              "    .dataframe thead th {\n",
              "        text-align: right;\n",
              "    }\n",
              "</style>\n",
              "<table border=\"1\" class=\"dataframe\">\n",
              "  <thead>\n",
              "    <tr style=\"text-align: right;\">\n",
              "      <th></th>\n",
              "      <th></th>\n",
              "      <th>Valor de Venda</th>\n",
              "    </tr>\n",
              "    <tr>\n",
              "      <th>Estado - Sigla</th>\n",
              "      <th>Produto</th>\n",
              "      <th></th>\n",
              "    </tr>\n",
              "  </thead>\n",
              "  <tbody>\n",
              "    <tr>\n",
              "      <th>AP</th>\n",
              "      <th>GASOLINA</th>\n",
              "      <td>-0.174690</td>\n",
              "    </tr>\n",
              "    <tr>\n",
              "      <th>PR</th>\n",
              "      <th>GASOLINA</th>\n",
              "      <td>-0.073128</td>\n",
              "    </tr>\n",
              "    <tr>\n",
              "      <th>RS</th>\n",
              "      <th>GASOLINA</th>\n",
              "      <td>-0.066627</td>\n",
              "    </tr>\n",
              "    <tr>\n",
              "      <th>DF</th>\n",
              "      <th>GASOLINA</th>\n",
              "      <td>-0.059546</td>\n",
              "    </tr>\n",
              "    <tr>\n",
              "      <th>GO</th>\n",
              "      <th>GASOLINA</th>\n",
              "      <td>-0.047852</td>\n",
              "    </tr>\n",
              "    <tr>\n",
              "      <th>MG</th>\n",
              "      <th>GASOLINA</th>\n",
              "      <td>-0.047011</td>\n",
              "    </tr>\n",
              "    <tr>\n",
              "      <th>PB</th>\n",
              "      <th>GASOLINA</th>\n",
              "      <td>-0.044285</td>\n",
              "    </tr>\n",
              "    <tr>\n",
              "      <th>AL</th>\n",
              "      <th>GASOLINA</th>\n",
              "      <td>-0.042953</td>\n",
              "    </tr>\n",
              "    <tr>\n",
              "      <th>RO</th>\n",
              "      <th>GASOLINA</th>\n",
              "      <td>-0.032527</td>\n",
              "    </tr>\n",
              "    <tr>\n",
              "      <th>MS</th>\n",
              "      <th>GASOLINA</th>\n",
              "      <td>-0.019662</td>\n",
              "    </tr>\n",
              "    <tr>\n",
              "      <th>SE</th>\n",
              "      <th>GASOLINA</th>\n",
              "      <td>-0.017615</td>\n",
              "    </tr>\n",
              "    <tr>\n",
              "      <th>CE</th>\n",
              "      <th>GASOLINA</th>\n",
              "      <td>-0.012533</td>\n",
              "    </tr>\n",
              "    <tr>\n",
              "      <th>SP</th>\n",
              "      <th>GASOLINA</th>\n",
              "      <td>-0.008570</td>\n",
              "    </tr>\n",
              "    <tr>\n",
              "      <th>SC</th>\n",
              "      <th>GASOLINA</th>\n",
              "      <td>0.008401</td>\n",
              "    </tr>\n",
              "    <tr>\n",
              "      <th>MT</th>\n",
              "      <th>GASOLINA</th>\n",
              "      <td>0.021986</td>\n",
              "    </tr>\n",
              "    <tr>\n",
              "      <th>PI</th>\n",
              "      <th>GASOLINA</th>\n",
              "      <td>0.024776</td>\n",
              "    </tr>\n",
              "    <tr>\n",
              "      <th>PE</th>\n",
              "      <th>GASOLINA</th>\n",
              "      <td>0.031339</td>\n",
              "    </tr>\n",
              "    <tr>\n",
              "      <th>RN</th>\n",
              "      <th>GASOLINA</th>\n",
              "      <td>0.032339</td>\n",
              "    </tr>\n",
              "    <tr>\n",
              "      <th>RR</th>\n",
              "      <th>GASOLINA</th>\n",
              "      <td>0.033762</td>\n",
              "    </tr>\n",
              "    <tr>\n",
              "      <th>ES</th>\n",
              "      <th>GASOLINA</th>\n",
              "      <td>0.034888</td>\n",
              "    </tr>\n",
              "    <tr>\n",
              "      <th>RJ</th>\n",
              "      <th>GASOLINA</th>\n",
              "      <td>0.037223</td>\n",
              "    </tr>\n",
              "    <tr>\n",
              "      <th>AM</th>\n",
              "      <th>GASOLINA</th>\n",
              "      <td>0.040944</td>\n",
              "    </tr>\n",
              "    <tr>\n",
              "      <th>PA</th>\n",
              "      <th>GASOLINA</th>\n",
              "      <td>0.058857</td>\n",
              "    </tr>\n",
              "    <tr>\n",
              "      <th>MA</th>\n",
              "      <th>GASOLINA</th>\n",
              "      <td>0.077973</td>\n",
              "    </tr>\n",
              "    <tr>\n",
              "      <th>TO</th>\n",
              "      <th>GASOLINA</th>\n",
              "      <td>0.093781</td>\n",
              "    </tr>\n",
              "    <tr>\n",
              "      <th>BA</th>\n",
              "      <th>GASOLINA</th>\n",
              "      <td>0.180888</td>\n",
              "    </tr>\n",
              "    <tr>\n",
              "      <th>AC</th>\n",
              "      <th>GASOLINA</th>\n",
              "      <td>NaN</td>\n",
              "    </tr>\n",
              "  </tbody>\n",
              "</table>\n",
              "</div>\n",
              "      <button class=\"colab-df-convert\" onclick=\"convertToInteractive('df-433c78a2-0c9d-417f-a7c5-582d1fe97264')\"\n",
              "              title=\"Convert this dataframe to an interactive table.\"\n",
              "              style=\"display:none;\">\n",
              "        \n",
              "  <svg xmlns=\"http://www.w3.org/2000/svg\" height=\"24px\"viewBox=\"0 0 24 24\"\n",
              "       width=\"24px\">\n",
              "    <path d=\"M0 0h24v24H0V0z\" fill=\"none\"/>\n",
              "    <path d=\"M18.56 5.44l.94 2.06.94-2.06 2.06-.94-2.06-.94-.94-2.06-.94 2.06-2.06.94zm-11 1L8.5 8.5l.94-2.06 2.06-.94-2.06-.94L8.5 2.5l-.94 2.06-2.06.94zm10 10l.94 2.06.94-2.06 2.06-.94-2.06-.94-.94-2.06-.94 2.06-2.06.94z\"/><path d=\"M17.41 7.96l-1.37-1.37c-.4-.4-.92-.59-1.43-.59-.52 0-1.04.2-1.43.59L10.3 9.45l-7.72 7.72c-.78.78-.78 2.05 0 2.83L4 21.41c.39.39.9.59 1.41.59.51 0 1.02-.2 1.41-.59l7.78-7.78 2.81-2.81c.8-.78.8-2.07 0-2.86zM5.41 20L4 18.59l7.72-7.72 1.47 1.35L5.41 20z\"/>\n",
              "  </svg>\n",
              "      </button>\n",
              "      \n",
              "  <style>\n",
              "    .colab-df-container {\n",
              "      display:flex;\n",
              "      flex-wrap:wrap;\n",
              "      gap: 12px;\n",
              "    }\n",
              "\n",
              "    .colab-df-convert {\n",
              "      background-color: #E8F0FE;\n",
              "      border: none;\n",
              "      border-radius: 50%;\n",
              "      cursor: pointer;\n",
              "      display: none;\n",
              "      fill: #1967D2;\n",
              "      height: 32px;\n",
              "      padding: 0 0 0 0;\n",
              "      width: 32px;\n",
              "    }\n",
              "\n",
              "    .colab-df-convert:hover {\n",
              "      background-color: #E2EBFA;\n",
              "      box-shadow: 0px 1px 2px rgba(60, 64, 67, 0.3), 0px 1px 3px 1px rgba(60, 64, 67, 0.15);\n",
              "      fill: #174EA6;\n",
              "    }\n",
              "\n",
              "    [theme=dark] .colab-df-convert {\n",
              "      background-color: #3B4455;\n",
              "      fill: #D2E3FC;\n",
              "    }\n",
              "\n",
              "    [theme=dark] .colab-df-convert:hover {\n",
              "      background-color: #434B5C;\n",
              "      box-shadow: 0px 1px 3px 1px rgba(0, 0, 0, 0.15);\n",
              "      filter: drop-shadow(0px 1px 2px rgba(0, 0, 0, 0.3));\n",
              "      fill: #FFFFFF;\n",
              "    }\n",
              "  </style>\n",
              "\n",
              "      <script>\n",
              "        const buttonEl =\n",
              "          document.querySelector('#df-433c78a2-0c9d-417f-a7c5-582d1fe97264 button.colab-df-convert');\n",
              "        buttonEl.style.display =\n",
              "          google.colab.kernel.accessAllowed ? 'block' : 'none';\n",
              "\n",
              "        async function convertToInteractive(key) {\n",
              "          const element = document.querySelector('#df-433c78a2-0c9d-417f-a7c5-582d1fe97264');\n",
              "          const dataTable =\n",
              "            await google.colab.kernel.invokeFunction('convertToInteractive',\n",
              "                                                     [key], {});\n",
              "          if (!dataTable) return;\n",
              "\n",
              "          const docLinkHtml = 'Like what you see? Visit the ' +\n",
              "            '<a target=\"_blank\" href=https://colab.research.google.com/notebooks/data_table.ipynb>data table notebook</a>'\n",
              "            + ' to learn more about interactive tables.';\n",
              "          element.innerHTML = '';\n",
              "          dataTable['output_type'] = 'display_data';\n",
              "          await google.colab.output.renderOutput(dataTable, element);\n",
              "          const docLink = document.createElement('div');\n",
              "          docLink.innerHTML = docLinkHtml;\n",
              "          element.appendChild(docLink);\n",
              "        }\n",
              "      </script>\n",
              "    </div>\n",
              "  </div>\n",
              "  "
            ]
          },
          "metadata": {},
          "execution_count": 47
        }
      ]
    },
    {
      "cell_type": "markdown",
      "source": [
        "####<font color ='#DAA520'><b>Estados com menor variação no valor da gasolina</b></font>\n"
      ],
      "metadata": {
        "id": "ik8a9-NAVCUG"
      }
    },
    {
      "cell_type": "code",
      "source": [
        "gas_var.head()"
      ],
      "metadata": {
        "id": "6rq8bpyTVI-I",
        "colab": {
          "base_uri": "https://localhost:8080/",
          "height": 238
        },
        "outputId": "695a9d4a-7aca-41c2-e76c-b9a7800b74dd"
      },
      "execution_count": null,
      "outputs": [
        {
          "output_type": "execute_result",
          "data": {
            "text/plain": [
              "                         Valor de Venda\n",
              "Estado - Sigla Produto                 \n",
              "AP             GASOLINA       -0.174690\n",
              "PR             GASOLINA       -0.073128\n",
              "RS             GASOLINA       -0.066627\n",
              "DF             GASOLINA       -0.059546\n",
              "GO             GASOLINA       -0.047852"
            ],
            "text/html": [
              "\n",
              "  <div id=\"df-a88e5963-ce20-4a32-9e63-cebd57651993\">\n",
              "    <div class=\"colab-df-container\">\n",
              "      <div>\n",
              "<style scoped>\n",
              "    .dataframe tbody tr th:only-of-type {\n",
              "        vertical-align: middle;\n",
              "    }\n",
              "\n",
              "    .dataframe tbody tr th {\n",
              "        vertical-align: top;\n",
              "    }\n",
              "\n",
              "    .dataframe thead th {\n",
              "        text-align: right;\n",
              "    }\n",
              "</style>\n",
              "<table border=\"1\" class=\"dataframe\">\n",
              "  <thead>\n",
              "    <tr style=\"text-align: right;\">\n",
              "      <th></th>\n",
              "      <th></th>\n",
              "      <th>Valor de Venda</th>\n",
              "    </tr>\n",
              "    <tr>\n",
              "      <th>Estado - Sigla</th>\n",
              "      <th>Produto</th>\n",
              "      <th></th>\n",
              "    </tr>\n",
              "  </thead>\n",
              "  <tbody>\n",
              "    <tr>\n",
              "      <th>AP</th>\n",
              "      <th>GASOLINA</th>\n",
              "      <td>-0.174690</td>\n",
              "    </tr>\n",
              "    <tr>\n",
              "      <th>PR</th>\n",
              "      <th>GASOLINA</th>\n",
              "      <td>-0.073128</td>\n",
              "    </tr>\n",
              "    <tr>\n",
              "      <th>RS</th>\n",
              "      <th>GASOLINA</th>\n",
              "      <td>-0.066627</td>\n",
              "    </tr>\n",
              "    <tr>\n",
              "      <th>DF</th>\n",
              "      <th>GASOLINA</th>\n",
              "      <td>-0.059546</td>\n",
              "    </tr>\n",
              "    <tr>\n",
              "      <th>GO</th>\n",
              "      <th>GASOLINA</th>\n",
              "      <td>-0.047852</td>\n",
              "    </tr>\n",
              "  </tbody>\n",
              "</table>\n",
              "</div>\n",
              "      <button class=\"colab-df-convert\" onclick=\"convertToInteractive('df-a88e5963-ce20-4a32-9e63-cebd57651993')\"\n",
              "              title=\"Convert this dataframe to an interactive table.\"\n",
              "              style=\"display:none;\">\n",
              "        \n",
              "  <svg xmlns=\"http://www.w3.org/2000/svg\" height=\"24px\"viewBox=\"0 0 24 24\"\n",
              "       width=\"24px\">\n",
              "    <path d=\"M0 0h24v24H0V0z\" fill=\"none\"/>\n",
              "    <path d=\"M18.56 5.44l.94 2.06.94-2.06 2.06-.94-2.06-.94-.94-2.06-.94 2.06-2.06.94zm-11 1L8.5 8.5l.94-2.06 2.06-.94-2.06-.94L8.5 2.5l-.94 2.06-2.06.94zm10 10l.94 2.06.94-2.06 2.06-.94-2.06-.94-.94-2.06-.94 2.06-2.06.94z\"/><path d=\"M17.41 7.96l-1.37-1.37c-.4-.4-.92-.59-1.43-.59-.52 0-1.04.2-1.43.59L10.3 9.45l-7.72 7.72c-.78.78-.78 2.05 0 2.83L4 21.41c.39.39.9.59 1.41.59.51 0 1.02-.2 1.41-.59l7.78-7.78 2.81-2.81c.8-.78.8-2.07 0-2.86zM5.41 20L4 18.59l7.72-7.72 1.47 1.35L5.41 20z\"/>\n",
              "  </svg>\n",
              "      </button>\n",
              "      \n",
              "  <style>\n",
              "    .colab-df-container {\n",
              "      display:flex;\n",
              "      flex-wrap:wrap;\n",
              "      gap: 12px;\n",
              "    }\n",
              "\n",
              "    .colab-df-convert {\n",
              "      background-color: #E8F0FE;\n",
              "      border: none;\n",
              "      border-radius: 50%;\n",
              "      cursor: pointer;\n",
              "      display: none;\n",
              "      fill: #1967D2;\n",
              "      height: 32px;\n",
              "      padding: 0 0 0 0;\n",
              "      width: 32px;\n",
              "    }\n",
              "\n",
              "    .colab-df-convert:hover {\n",
              "      background-color: #E2EBFA;\n",
              "      box-shadow: 0px 1px 2px rgba(60, 64, 67, 0.3), 0px 1px 3px 1px rgba(60, 64, 67, 0.15);\n",
              "      fill: #174EA6;\n",
              "    }\n",
              "\n",
              "    [theme=dark] .colab-df-convert {\n",
              "      background-color: #3B4455;\n",
              "      fill: #D2E3FC;\n",
              "    }\n",
              "\n",
              "    [theme=dark] .colab-df-convert:hover {\n",
              "      background-color: #434B5C;\n",
              "      box-shadow: 0px 1px 3px 1px rgba(0, 0, 0, 0.15);\n",
              "      filter: drop-shadow(0px 1px 2px rgba(0, 0, 0, 0.3));\n",
              "      fill: #FFFFFF;\n",
              "    }\n",
              "  </style>\n",
              "\n",
              "      <script>\n",
              "        const buttonEl =\n",
              "          document.querySelector('#df-a88e5963-ce20-4a32-9e63-cebd57651993 button.colab-df-convert');\n",
              "        buttonEl.style.display =\n",
              "          google.colab.kernel.accessAllowed ? 'block' : 'none';\n",
              "\n",
              "        async function convertToInteractive(key) {\n",
              "          const element = document.querySelector('#df-a88e5963-ce20-4a32-9e63-cebd57651993');\n",
              "          const dataTable =\n",
              "            await google.colab.kernel.invokeFunction('convertToInteractive',\n",
              "                                                     [key], {});\n",
              "          if (!dataTable) return;\n",
              "\n",
              "          const docLinkHtml = 'Like what you see? Visit the ' +\n",
              "            '<a target=\"_blank\" href=https://colab.research.google.com/notebooks/data_table.ipynb>data table notebook</a>'\n",
              "            + ' to learn more about interactive tables.';\n",
              "          element.innerHTML = '';\n",
              "          dataTable['output_type'] = 'display_data';\n",
              "          await google.colab.output.renderOutput(dataTable, element);\n",
              "          const docLink = document.createElement('div');\n",
              "          docLink.innerHTML = docLinkHtml;\n",
              "          element.appendChild(docLink);\n",
              "        }\n",
              "      </script>\n",
              "    </div>\n",
              "  </div>\n",
              "  "
            ]
          },
          "metadata": {},
          "execution_count": 48
        }
      ]
    },
    {
      "cell_type": "markdown",
      "source": [
        "####<font color ='#DAA520'><b>Estados com maior variação no valor da gasolina</b></font>\n"
      ],
      "metadata": {
        "id": "stoWyDX-VPRu"
      }
    },
    {
      "cell_type": "code",
      "source": [
        "gas_var.tail()"
      ],
      "metadata": {
        "id": "Vz46ZUVrVWZt",
        "colab": {
          "base_uri": "https://localhost:8080/",
          "height": 238
        },
        "outputId": "32d54c43-0a42-4073-a51b-37ccbeeb7512"
      },
      "execution_count": null,
      "outputs": [
        {
          "output_type": "execute_result",
          "data": {
            "text/plain": [
              "                         Valor de Venda\n",
              "Estado - Sigla Produto                 \n",
              "PA             GASOLINA        0.058857\n",
              "MA             GASOLINA        0.077973\n",
              "TO             GASOLINA        0.093781\n",
              "BA             GASOLINA        0.180888\n",
              "AC             GASOLINA             NaN"
            ],
            "text/html": [
              "\n",
              "  <div id=\"df-78da239e-e499-400d-9122-a8d7c240a6a5\">\n",
              "    <div class=\"colab-df-container\">\n",
              "      <div>\n",
              "<style scoped>\n",
              "    .dataframe tbody tr th:only-of-type {\n",
              "        vertical-align: middle;\n",
              "    }\n",
              "\n",
              "    .dataframe tbody tr th {\n",
              "        vertical-align: top;\n",
              "    }\n",
              "\n",
              "    .dataframe thead th {\n",
              "        text-align: right;\n",
              "    }\n",
              "</style>\n",
              "<table border=\"1\" class=\"dataframe\">\n",
              "  <thead>\n",
              "    <tr style=\"text-align: right;\">\n",
              "      <th></th>\n",
              "      <th></th>\n",
              "      <th>Valor de Venda</th>\n",
              "    </tr>\n",
              "    <tr>\n",
              "      <th>Estado - Sigla</th>\n",
              "      <th>Produto</th>\n",
              "      <th></th>\n",
              "    </tr>\n",
              "  </thead>\n",
              "  <tbody>\n",
              "    <tr>\n",
              "      <th>PA</th>\n",
              "      <th>GASOLINA</th>\n",
              "      <td>0.058857</td>\n",
              "    </tr>\n",
              "    <tr>\n",
              "      <th>MA</th>\n",
              "      <th>GASOLINA</th>\n",
              "      <td>0.077973</td>\n",
              "    </tr>\n",
              "    <tr>\n",
              "      <th>TO</th>\n",
              "      <th>GASOLINA</th>\n",
              "      <td>0.093781</td>\n",
              "    </tr>\n",
              "    <tr>\n",
              "      <th>BA</th>\n",
              "      <th>GASOLINA</th>\n",
              "      <td>0.180888</td>\n",
              "    </tr>\n",
              "    <tr>\n",
              "      <th>AC</th>\n",
              "      <th>GASOLINA</th>\n",
              "      <td>NaN</td>\n",
              "    </tr>\n",
              "  </tbody>\n",
              "</table>\n",
              "</div>\n",
              "      <button class=\"colab-df-convert\" onclick=\"convertToInteractive('df-78da239e-e499-400d-9122-a8d7c240a6a5')\"\n",
              "              title=\"Convert this dataframe to an interactive table.\"\n",
              "              style=\"display:none;\">\n",
              "        \n",
              "  <svg xmlns=\"http://www.w3.org/2000/svg\" height=\"24px\"viewBox=\"0 0 24 24\"\n",
              "       width=\"24px\">\n",
              "    <path d=\"M0 0h24v24H0V0z\" fill=\"none\"/>\n",
              "    <path d=\"M18.56 5.44l.94 2.06.94-2.06 2.06-.94-2.06-.94-.94-2.06-.94 2.06-2.06.94zm-11 1L8.5 8.5l.94-2.06 2.06-.94-2.06-.94L8.5 2.5l-.94 2.06-2.06.94zm10 10l.94 2.06.94-2.06 2.06-.94-2.06-.94-.94-2.06-.94 2.06-2.06.94z\"/><path d=\"M17.41 7.96l-1.37-1.37c-.4-.4-.92-.59-1.43-.59-.52 0-1.04.2-1.43.59L10.3 9.45l-7.72 7.72c-.78.78-.78 2.05 0 2.83L4 21.41c.39.39.9.59 1.41.59.51 0 1.02-.2 1.41-.59l7.78-7.78 2.81-2.81c.8-.78.8-2.07 0-2.86zM5.41 20L4 18.59l7.72-7.72 1.47 1.35L5.41 20z\"/>\n",
              "  </svg>\n",
              "      </button>\n",
              "      \n",
              "  <style>\n",
              "    .colab-df-container {\n",
              "      display:flex;\n",
              "      flex-wrap:wrap;\n",
              "      gap: 12px;\n",
              "    }\n",
              "\n",
              "    .colab-df-convert {\n",
              "      background-color: #E8F0FE;\n",
              "      border: none;\n",
              "      border-radius: 50%;\n",
              "      cursor: pointer;\n",
              "      display: none;\n",
              "      fill: #1967D2;\n",
              "      height: 32px;\n",
              "      padding: 0 0 0 0;\n",
              "      width: 32px;\n",
              "    }\n",
              "\n",
              "    .colab-df-convert:hover {\n",
              "      background-color: #E2EBFA;\n",
              "      box-shadow: 0px 1px 2px rgba(60, 64, 67, 0.3), 0px 1px 3px 1px rgba(60, 64, 67, 0.15);\n",
              "      fill: #174EA6;\n",
              "    }\n",
              "\n",
              "    [theme=dark] .colab-df-convert {\n",
              "      background-color: #3B4455;\n",
              "      fill: #D2E3FC;\n",
              "    }\n",
              "\n",
              "    [theme=dark] .colab-df-convert:hover {\n",
              "      background-color: #434B5C;\n",
              "      box-shadow: 0px 1px 3px 1px rgba(0, 0, 0, 0.15);\n",
              "      filter: drop-shadow(0px 1px 2px rgba(0, 0, 0, 0.3));\n",
              "      fill: #FFFFFF;\n",
              "    }\n",
              "  </style>\n",
              "\n",
              "      <script>\n",
              "        const buttonEl =\n",
              "          document.querySelector('#df-78da239e-e499-400d-9122-a8d7c240a6a5 button.colab-df-convert');\n",
              "        buttonEl.style.display =\n",
              "          google.colab.kernel.accessAllowed ? 'block' : 'none';\n",
              "\n",
              "        async function convertToInteractive(key) {\n",
              "          const element = document.querySelector('#df-78da239e-e499-400d-9122-a8d7c240a6a5');\n",
              "          const dataTable =\n",
              "            await google.colab.kernel.invokeFunction('convertToInteractive',\n",
              "                                                     [key], {});\n",
              "          if (!dataTable) return;\n",
              "\n",
              "          const docLinkHtml = 'Like what you see? Visit the ' +\n",
              "            '<a target=\"_blank\" href=https://colab.research.google.com/notebooks/data_table.ipynb>data table notebook</a>'\n",
              "            + ' to learn more about interactive tables.';\n",
              "          element.innerHTML = '';\n",
              "          dataTable['output_type'] = 'display_data';\n",
              "          await google.colab.output.renderOutput(dataTable, element);\n",
              "          const docLink = document.createElement('div');\n",
              "          docLink.innerHTML = docLinkHtml;\n",
              "          element.appendChild(docLink);\n",
              "        }\n",
              "      </script>\n",
              "    </div>\n",
              "  </div>\n",
              "  "
            ]
          },
          "metadata": {},
          "execution_count": 49
        }
      ]
    },
    {
      "cell_type": "markdown",
      "source": [
        "####<font color ='#DAA520'><b>Gráfico da varianção dos valores de venda da gasolina</b></font>\n"
      ],
      "metadata": {
        "id": "zIj72MzHVhNg"
      }
    },
    {
      "cell_type": "code",
      "source": [
        "gas_var.plot(kind=\"barh\", title=\"Variação de valores de venda do etanol\",\n",
        "        color={\"Blue\"}, figsize=(9,8))\n",
        "plt.show();"
      ],
      "metadata": {
        "colab": {
          "base_uri": "https://localhost:8080/",
          "height": 499
        },
        "id": "GNBNnN3Rcc4A",
        "outputId": "f0f4506e-0289-4c86-bf2e-caed75ffc644"
      },
      "execution_count": 53,
      "outputs": [
        {
          "output_type": "display_data",
          "data": {
            "text/plain": [
              "<Figure size 648x576 with 1 Axes>"
            ],
            "image/png": "[encoded data removed]"
          },
          "metadata": {
            "needs_background": "light"
          }
        }
      ]
    }
  ]
}